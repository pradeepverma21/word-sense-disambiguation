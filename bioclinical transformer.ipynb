{
 "cells": [
  {
   "cell_type": "code",
   "execution_count": 1,
   "metadata": {
    "id": "d7yZRhX2wiR3"
   },
   "outputs": [
    {
     "name": "stdout",
     "output_type": "stream",
     "text": [
      "Defaulting to user installation because normal site-packages is not writeable\n",
      "Requirement already satisfied: transformers in c:\\programdata\\anaconda3\\lib\\site-packages (4.24.0)\n",
      "Requirement already satisfied: regex!=2019.12.17 in c:\\programdata\\anaconda3\\lib\\site-packages (from transformers) (2022.7.9)\n",
      "Requirement already satisfied: tokenizers!=0.11.3,<0.14,>=0.11.1 in c:\\programdata\\anaconda3\\lib\\site-packages (from transformers) (0.11.4)\n",
      "Requirement already satisfied: pyyaml>=5.1 in c:\\programdata\\anaconda3\\lib\\site-packages (from transformers) (6.0)\n",
      "Requirement already satisfied: packaging>=20.0 in c:\\programdata\\anaconda3\\lib\\site-packages (from transformers) (22.0)\n",
      "Requirement already satisfied: requests in c:\\programdata\\anaconda3\\lib\\site-packages (from transformers) (2.28.1)\n",
      "Requirement already satisfied: huggingface-hub<1.0,>=0.10.0 in c:\\programdata\\anaconda3\\lib\\site-packages (from transformers) (0.10.1)\n",
      "Requirement already satisfied: tqdm>=4.27 in c:\\programdata\\anaconda3\\lib\\site-packages (from transformers) (4.64.1)\n",
      "Requirement already satisfied: numpy>=1.17 in c:\\programdata\\anaconda3\\lib\\site-packages (from transformers) (1.23.5)\n",
      "Requirement already satisfied: filelock in c:\\programdata\\anaconda3\\lib\\site-packages (from transformers) (3.9.0)\n",
      "Requirement already satisfied: typing-extensions>=3.7.4.3 in c:\\users\\pradeep verma\\appdata\\roaming\\python\\python310\\site-packages (from huggingface-hub<1.0,>=0.10.0->transformers) (4.5.0)\n",
      "Requirement already satisfied: colorama in c:\\programdata\\anaconda3\\lib\\site-packages (from tqdm>=4.27->transformers) (0.4.6)\n",
      "Requirement already satisfied: charset-normalizer<3,>=2 in c:\\programdata\\anaconda3\\lib\\site-packages (from requests->transformers) (2.0.4)\n",
      "Requirement already satisfied: certifi>=2017.4.17 in c:\\programdata\\anaconda3\\lib\\site-packages (from requests->transformers) (2022.12.7)\n",
      "Requirement already satisfied: urllib3<1.27,>=1.21.1 in c:\\programdata\\anaconda3\\lib\\site-packages (from requests->transformers) (1.26.14)\n",
      "Requirement already satisfied: idna<4,>=2.5 in c:\\programdata\\anaconda3\\lib\\site-packages (from requests->transformers) (3.4)\n"
     ]
    }
   ],
   "source": [
    "!pip install transformers"
   ]
  },
  {
   "cell_type": "code",
   "execution_count": 2,
   "metadata": {
    "id": "zR1dyQeqaPYk"
   },
   "outputs": [
    {
     "data": {
      "text/plain": [
       "''"
      ]
     },
     "execution_count": 2,
     "metadata": {},
     "output_type": "execute_result"
    }
   ],
   "source": [
    "# Check for the presence of GPU and print its name\n",
    "import tensorflow as tf\n",
    "tf.test.gpu_device_name()"
   ]
  },
  {
   "cell_type": "code",
   "execution_count": 3,
   "metadata": {
    "id": "MqmgUY0aaZAo"
   },
   "outputs": [
    {
     "data": {
      "text/plain": [
       "[name: \"/device:CPU:0\"\n",
       " device_type: \"CPU\"\n",
       " memory_limit: 268435456\n",
       " locality {\n",
       " }\n",
       " incarnation: 18067674140529599922\n",
       " xla_global_id: -1]"
      ]
     },
     "execution_count": 3,
     "metadata": {},
     "output_type": "execute_result"
    }
   ],
   "source": [
    "# List all local devices\n",
    "from tensorflow.python.client import device_lib\n",
    "device_lib.list_local_devices()"
   ]
  },
  {
   "cell_type": "code",
   "execution_count": 4,
   "metadata": {
    "id": "6-RKGi0zsaFY"
   },
   "outputs": [],
   "source": [
    "import torch\n",
    "\n",
    "# Check if CUDA (GPU) is available\n",
    "if torch.cuda.is_available():\n",
    "    # Set the device to CUDA\n",
    "    device = torch.device(\"cuda\")\n",
    "    # Print the number of available CUDA devices\n",
    "    print(torch.cuda.device_count())\n",
    "    \n",
    "    # Print the name of the first CUDA device\n",
    "    print(torch.cuda.get_device_name(0))\n",
    "\n",
    "else:\n",
    "    # Set the device to CPU\n",
    "    device = torch.device(\"cpu\")\n"
   ]
  },
  {
   "cell_type": "code",
   "execution_count": 5,
   "metadata": {
    "id": "QcA6rcFuxBWZ"
   },
   "outputs": [],
   "source": [
    "import pandas as pd\n",
    "import numpy as np\n",
    "import torch\n",
    "import torch.nn as nn\n",
    "from torch.utils.data import Dataset, DataLoader\n",
    "from sklearn.model_selection import train_test_split\n",
    "import seaborn as sns\n",
    "from pylab import rcParams\n",
    "import matplotlib.pyplot as plt\n",
    "from matplotlib import rc"
   ]
  },
  {
   "cell_type": "code",
   "execution_count": 6,
   "metadata": {
    "id": "187nr9hFVai1"
   },
   "outputs": [
    {
     "name": "stdout",
     "output_type": "stream",
     "text": [
      "(37500, 7)\n"
     ]
    }
   ],
   "source": [
    "import pandas as pd\n",
    "\n",
    "txt_path = 'AnonymizedClinicalAbbreviationsAndAcronymsDataSet.txt'\n",
    "\n",
    "# Read the CSV file into a DataFrame\n",
    "data_pd = pd.read_csv(txt_path, sep=\"|\", header=None, encoding='cp1252')\n",
    "\n",
    "# Rename the columns\n",
    "data_pd = data_pd.rename(columns={0: 'Abbreviation', 1: 'Expansion', 2: 'ABB_frm', 3: \"start_pos\", 4: \"end_pos\", 5: \"info\", 6: \"context\"}, inplace=False)\n",
    "\n",
    "# Print the shape of the DataFrame\n",
    "print(data_pd.shape)\n"
   ]
  },
  {
   "cell_type": "code",
   "execution_count": 7,
   "metadata": {},
   "outputs": [
    {
     "data": {
      "text/html": [
       "<div>\n",
       "<style scoped>\n",
       "    .dataframe tbody tr th:only-of-type {\n",
       "        vertical-align: middle;\n",
       "    }\n",
       "\n",
       "    .dataframe tbody tr th {\n",
       "        vertical-align: top;\n",
       "    }\n",
       "\n",
       "    .dataframe thead th {\n",
       "        text-align: right;\n",
       "    }\n",
       "</style>\n",
       "<table border=\"1\" class=\"dataframe\">\n",
       "  <thead>\n",
       "    <tr style=\"text-align: right;\">\n",
       "      <th></th>\n",
       "      <th>Abbreviation</th>\n",
       "      <th>Expansion</th>\n",
       "      <th>ABB_frm</th>\n",
       "      <th>start_pos</th>\n",
       "      <th>end_pos</th>\n",
       "      <th>info</th>\n",
       "      <th>context</th>\n",
       "    </tr>\n",
       "  </thead>\n",
       "  <tbody>\n",
       "    <tr>\n",
       "      <th>0</th>\n",
       "      <td>AB</td>\n",
       "      <td>abortion</td>\n",
       "      <td>AB.</td>\n",
       "      <td>231.0</td>\n",
       "      <td>233.0</td>\n",
       "      <td>NaN</td>\n",
       "      <td>_%#NAME#%_ _%#NAME#%_ is a 29-year-old gravida...</td>\n",
       "    </tr>\n",
       "    <tr>\n",
       "      <th>1</th>\n",
       "      <td>AB</td>\n",
       "      <td>abortion</td>\n",
       "      <td>AB.</td>\n",
       "      <td>249.0</td>\n",
       "      <td>251.0</td>\n",
       "      <td>NaN</td>\n",
       "      <td>She is now bleeding quite heavily. Ultrasound ...</td>\n",
       "    </tr>\n",
       "    <tr>\n",
       "      <th>2</th>\n",
       "      <td>AB</td>\n",
       "      <td>abortion</td>\n",
       "      <td>AB</td>\n",
       "      <td>223.0</td>\n",
       "      <td>224.0</td>\n",
       "      <td>PAST OB HISTORY</td>\n",
       "      <td>ALLERGIES: Heparin and Imitrex. PAST OB HISTOR...</td>\n",
       "    </tr>\n",
       "    <tr>\n",
       "      <th>3</th>\n",
       "      <td>AB</td>\n",
       "      <td>abortion</td>\n",
       "      <td>AB.</td>\n",
       "      <td>194.0</td>\n",
       "      <td>196.0</td>\n",
       "      <td>HISTORY OF THE PRESENT ILLNESS</td>\n",
       "      <td>She had a pelvic ultrasound at Park Nicollet o...</td>\n",
       "    </tr>\n",
       "    <tr>\n",
       "      <th>4</th>\n",
       "      <td>AB</td>\n",
       "      <td>abortion</td>\n",
       "      <td>AB</td>\n",
       "      <td>114.0</td>\n",
       "      <td>115.0</td>\n",
       "      <td>PAST OB-GYN HISTORY</td>\n",
       "      <td>On _%#MMDD2007#%_, normal anatomy with anterio...</td>\n",
       "    </tr>\n",
       "  </tbody>\n",
       "</table>\n",
       "</div>"
      ],
      "text/plain": [
       "  Abbreviation Expansion ABB_frm  start_pos  end_pos  \\\n",
       "0           AB  abortion     AB.      231.0    233.0   \n",
       "1           AB  abortion     AB.      249.0    251.0   \n",
       "2           AB  abortion      AB      223.0    224.0   \n",
       "3           AB  abortion     AB.      194.0    196.0   \n",
       "4           AB  abortion      AB      114.0    115.0   \n",
       "\n",
       "                             info  \\\n",
       "0                             NaN   \n",
       "1                             NaN   \n",
       "2                 PAST OB HISTORY   \n",
       "3  HISTORY OF THE PRESENT ILLNESS   \n",
       "4             PAST OB-GYN HISTORY   \n",
       "\n",
       "                                             context  \n",
       "0  _%#NAME#%_ _%#NAME#%_ is a 29-year-old gravida...  \n",
       "1  She is now bleeding quite heavily. Ultrasound ...  \n",
       "2  ALLERGIES: Heparin and Imitrex. PAST OB HISTOR...  \n",
       "3  She had a pelvic ultrasound at Park Nicollet o...  \n",
       "4  On _%#MMDD2007#%_, normal anatomy with anterio...  "
      ]
     },
     "execution_count": 7,
     "metadata": {},
     "output_type": "execute_result"
    }
   ],
   "source": [
    "data_pd.head()"
   ]
  },
  {
   "cell_type": "code",
   "execution_count": 8,
   "metadata": {
    "id": "kO_uIQaKQRza"
   },
   "outputs": [
    {
     "name": "stdout",
     "output_type": "stream",
     "text": [
      "(500, 7)\n"
     ]
    }
   ],
   "source": [
    "data_pd=data_pd[data_pd['Abbreviation'] == 'AB']\n",
    "print(data_pd.shape)"
   ]
  },
  {
   "cell_type": "code",
   "execution_count": 9,
   "metadata": {
    "id": "WdEq_v8bu3sH"
   },
   "outputs": [
    {
     "name": "stdout",
     "output_type": "stream",
     "text": [
      "12\n",
      "(498, 7)\n"
     ]
    }
   ],
   "source": [
    "#check number of expansion in the dataset before filtering\n",
    "print(len(data_pd[\"Expansion\"].unique()))\n",
    "\n",
    "#filtering dataset \n",
    "data_pd.drop(data_pd[data_pd['Expansion'] == \"UNSURED SENSE\"].index, inplace = True)\n",
    "data_pd.drop(data_pd[data_pd['Expansion'] == \"GENERAL ENGLISH\"].index, inplace = True)\n",
    "data_pd.drop(data_pd[data_pd['Expansion'] == \"NAME\"].index, inplace = True)\n",
    "\n",
    "# check dataset size after filtering\n",
    "print(data_pd.shape)"
   ]
  },
  {
   "cell_type": "code",
   "execution_count": 10,
   "metadata": {
    "id": "ZkgY1gH7m1HL"
   },
   "outputs": [],
   "source": [
    "# fuction to assign numerical value to the expansion\n",
    "def func(unique_expansion, ex):\n",
    "  ex= str(ex)\n",
    "  for i in unique_expansion.items():\n",
    "    if i[0] == ex:\n",
    "      return i[1]\n"
   ]
  },
  {
   "cell_type": "code",
   "execution_count": 11,
   "metadata": {
    "id": "i4zpSvj5kTWi"
   },
   "outputs": [],
   "source": [
    "import numpy as np\n",
    "\n",
    "# Get unique values of Expansion column\n",
    "Expansion_unique = data_pd[\"Expansion\"].unique()\n",
    "\n",
    "# Get context column values\n",
    "context = data_pd[\"context\"].values\n",
    "\n",
    "# Create numerical labels for unique expansions\n",
    "num = np.arange(0, 348, 1).tolist()\n",
    "unique_expansion = dict(zip(Expansion_unique, num))\n",
    "\n",
    "# Initialize a list to store all labels\n",
    "all_label = []\n",
    "\n",
    "# Iterate through each row of the DataFrame\n",
    "for index, row in data_pd.iterrows():\n",
    "    # Iterate through unique_expansion dictionary items\n",
    "    for i in unique_expansion.items():\n",
    "        # Check if the expansion in the row matches with any unique expansion\n",
    "        if i[0] == row[1]:\n",
    "            # Append the corresponding numerical label to all_label list\n",
    "            all_label.append(i[1])\n"
   ]
  },
  {
   "cell_type": "code",
   "execution_count": 12,
   "metadata": {
    "id": "3_UQ9okqd1Zq"
   },
   "outputs": [],
   "source": [
    "# Create a dictionary mapping each word in Expansion_unique to its index\n",
    "word2index_dict = {word: i for (i, word) in enumerate(Expansion_unique)}\n"
   ]
  },
  {
   "cell_type": "code",
   "execution_count": 13,
   "metadata": {
    "id": "1DpDwPzR6S8q"
   },
   "outputs": [],
   "source": [
    "import pandas as pd\n",
    "\n",
    "# Create a DataFrame from word2index_dict\n",
    "label_df = pd.DataFrame(list(word2index_dict.items()), columns=['expansion', 'label'])\n",
    "\n",
    "# Save the DataFrame to a TSV file\n",
    "label_df.to_csv('label_expansion.tsv', sep='|', index=False)\n"
   ]
  },
  {
   "cell_type": "code",
   "execution_count": 14,
   "metadata": {
    "id": "sSif6ujY2g7d"
   },
   "outputs": [],
   "source": [
    "import re\n",
    "import string\n",
    "\n",
    "def cleaning(context_):\n",
    "    # Remove patterns like \"_%#\\S+\"\n",
    "    x = re.sub(\"_%#\\S+\", \"\", context_)\n",
    "    # Remove punctuation marks\n",
    "    x = re.sub('[%s]' % re.escape(string.punctuation), ' ', x)\n",
    "    # Remove alphanumeric characters\n",
    "    x = re.sub(r'\\w*\\d+\\w*', '', x)\n",
    "    # Replace multiple spaces with a single space\n",
    "    x = re.sub('\\s{2,}', \" \", x)\n",
    "    return x\n"
   ]
  },
  {
   "cell_type": "code",
   "execution_count": 15,
   "metadata": {
    "id": "x9oRiBmj1A3I"
   },
   "outputs": [],
   "source": [
    "import pandas as pd\n",
    "\n",
    "# Create a new DataFrame for filtered data\n",
    "filtered_data = pd.DataFrame()\n",
    "\n",
    "# Assign cleaned text data to 'content' column\n",
    "filtered_data['content'] = data_pd['context'].apply(cleaning)\n",
    "\n",
    "# Assign Expansion column to 'expansion' column\n",
    "filtered_data['expansion'] = data_pd['Expansion']\n",
    "\n",
    "# Assign labels to 'label' column\n",
    "filtered_data['label'] = all_label\n"
   ]
  },
  {
   "cell_type": "code",
   "execution_count": 16,
   "metadata": {
    "id": "QLwRzNLQkV2N"
   },
   "outputs": [
    {
     "data": {
      "text/plain": [
       "0"
      ]
     },
     "execution_count": 16,
     "metadata": {},
     "output_type": "execute_result"
    }
   ],
   "source": [
    "filtered_data['label'][498]"
   ]
  },
  {
   "cell_type": "code",
   "execution_count": 17,
   "metadata": {
    "id": "fhy95DydAGgv"
   },
   "outputs": [],
   "source": [
    "#override dataset\n",
    "class DisambiguateDataset(Dataset):\n",
    "\n",
    "  def __init__(self, data: pd.DataFrame, tokenizer, max_token_len ):\n",
    "    # Initialize the dataset with the provided DataFrame, tokenizer, and maximum token length\n",
    "    self.data = data\n",
    "    self.tokenizer = tokenizer\n",
    "    self.max_token_len = max_token_len\n",
    "\n",
    "  def __len__(self):\n",
    "    # Return the number of samples in the dataset (number of rows in the DataFrame)\n",
    "    return self.data.shape[0]\n",
    "\n",
    "  def __getitem__(self, index: int):\n",
    "    # Retrieve a single sample from the dataset at the given index\n",
    "    data_row = self.data.iloc[index]\n",
    "    context =data_row['content']\n",
    "    expansion = data_row['expansion']\n",
    "    label_ = data_row['label']\n",
    "      \n",
    "    # Encode the expansion and context using the provided tokenize\n",
    "    encoding = self.tokenizer.encode_plus(\n",
    "        expansion, context, \n",
    "        add_special_tokens = True,\n",
    "        max_length = 128,\n",
    "        return_token_type_ids = True,\n",
    "        padding = \"max_length\",\n",
    "        truncation =True,\n",
    "        return_attention_mask = True,\n",
    "        return_tensors = \"pt\"\n",
    "     \n",
    "    )\n",
    "    # Return a dictionary containing the encoded input IDs, attention mask, token type IDs, and the label converted to a PyTorch tensor\n",
    "    return dict(\n",
    "      input_ids = encoding[\"input_ids\"].flatten(),\n",
    "      attention_mask = encoding[\"attention_mask\"].flatten(),\n",
    "      token_type_ids = encoding[\"token_type_ids\"].flatten(),\n",
    "      label_ = torch.tensor(label_,dtype = torch.long)\n",
    "    )\n",
    "\n"
   ]
  },
  {
   "cell_type": "code",
   "execution_count": 18,
   "metadata": {
    "colab": {
     "base_uri": "https://localhost:8080/"
    },
    "id": "5TctrJoJPlOm",
    "outputId": "0dedc7d6-e543-4c6e-b864-99bce94d4216"
   },
   "outputs": [
    {
     "data": {
      "text/plain": [
       "((398, 3), (50, 3), (50, 3))"
      ]
     },
     "execution_count": 18,
     "metadata": {},
     "output_type": "execute_result"
    }
   ],
   "source": [
    "RANDOM_SEED = 42\n",
    "MAX_LEN = 128\n",
    "BATCH_SIZE = 8\n",
    "EPOCHS = 2\n",
    "\n",
    "# divide the data set to training and validation dataset and check the new size for both\n",
    "train_df, test_df = train_test_split(filtered_data,test_size=0.2, random_state = RANDOM_SEED)\n",
    "val_df, test_df = train_test_split(test_df,test_size=0.5, random_state = RANDOM_SEED)\n",
    "train_df.shape, val_df.shape, test_df.shape\n"
   ]
  },
  {
   "cell_type": "code",
   "execution_count": 19,
   "metadata": {
    "colab": {
     "base_uri": "https://localhost:8080/"
    },
    "id": "HWvkbjiIR4ct",
    "outputId": "b6d0f1ea-99ce-4c88-dd97-9f8ced850198"
   },
   "outputs": [
    {
     "data": {
      "text/plain": [
       "Index(['content', 'expansion', 'label'], dtype='object')"
      ]
     },
     "execution_count": 19,
     "metadata": {},
     "output_type": "execute_result"
    }
   ],
   "source": [
    "test_df.columns"
   ]
  },
  {
   "cell_type": "code",
   "execution_count": 20,
   "metadata": {
    "colab": {
     "base_uri": "https://localhost:8080/",
     "height": 32
    },
    "id": "Vd2KPmDWMpGW",
    "outputId": "665d834a-9ea6-4b63-da0c-4ccbf5b8ddc7"
   },
   "outputs": [
    {
     "data": {
      "text/html": [
       "<div>\n",
       "<style scoped>\n",
       "    .dataframe tbody tr th:only-of-type {\n",
       "        vertical-align: middle;\n",
       "    }\n",
       "\n",
       "    .dataframe tbody tr th {\n",
       "        vertical-align: top;\n",
       "    }\n",
       "\n",
       "    .dataframe thead th {\n",
       "        text-align: right;\n",
       "    }\n",
       "</style>\n",
       "<table border=\"1\" class=\"dataframe\">\n",
       "  <thead>\n",
       "    <tr style=\"text-align: right;\">\n",
       "      <th></th>\n",
       "      <th>content</th>\n",
       "      <th>expansion</th>\n",
       "      <th>label</th>\n",
       "    </tr>\n",
       "  </thead>\n",
       "  <tbody>\n",
       "    <tr>\n",
       "      <th>449</th>\n",
       "      <td>At the time of admission, her cervix was noted...</td>\n",
       "      <td>abortion</td>\n",
       "      <td>0</td>\n",
       "    </tr>\n",
       "    <tr>\n",
       "      <th>450</th>\n",
       "      <td>2. Spinal meningitis as a child. PAST SURGICAL...</td>\n",
       "      <td>abortion</td>\n",
       "      <td>0</td>\n",
       "    </tr>\n",
       "    <tr>\n",
       "      <th>451</th>\n",
       "      <td>This pregnancy complicated by AMA, previous hi...</td>\n",
       "      <td>abortion</td>\n",
       "      <td>0</td>\n",
       "    </tr>\n",
       "    <tr>\n",
       "      <th>452</th>\n",
       "      <td>The uterus itself is small, anterior and mobil...</td>\n",
       "      <td>abortion</td>\n",
       "      <td>0</td>\n",
       "    </tr>\n",
       "    <tr>\n",
       "      <th>453</th>\n",
       "      <td>PAST OBSTETRICAL HISTORY: 1. _%#MM#%_ 2001, ce...</td>\n",
       "      <td>abortion</td>\n",
       "      <td>0</td>\n",
       "    </tr>\n",
       "    <tr>\n",
       "      <th>454</th>\n",
       "      <td>Cervix is closed. Uterus is anteverted, 6 week...</td>\n",
       "      <td>abortion</td>\n",
       "      <td>0</td>\n",
       "    </tr>\n",
       "    <tr>\n",
       "      <th>455</th>\n",
       "      <td>PAST MEDICAL HISTORY: Inappropriate sinus tach...</td>\n",
       "      <td>abortion</td>\n",
       "      <td>0</td>\n",
       "    </tr>\n",
       "    <tr>\n",
       "      <th>456</th>\n",
       "      <td>Good fetal movement. Prenatal care started at ...</td>\n",
       "      <td>abortion</td>\n",
       "      <td>0</td>\n",
       "    </tr>\n",
       "    <tr>\n",
       "      <th>457</th>\n",
       "      <td>Urine culture within normal limits. Hemoglobin...</td>\n",
       "      <td>abortion</td>\n",
       "      <td>0</td>\n",
       "    </tr>\n",
       "    <tr>\n",
       "      <th>458</th>\n",
       "      <td>DOB: PREOP HISTORY AND PHYSICAL AND EMERGENCY ...</td>\n",
       "      <td>abortion</td>\n",
       "      <td>0</td>\n",
       "    </tr>\n",
       "    <tr>\n",
       "      <th>459</th>\n",
       "      <td>LUNGS: Clear. ABDOMEN: Soft. PELVIC: External ...</td>\n",
       "      <td>abortion</td>\n",
       "      <td>0</td>\n",
       "    </tr>\n",
       "    <tr>\n",
       "      <th>460</th>\n",
       "      <td>PRENATAL CARE: She received at the Native Amer...</td>\n",
       "      <td>abortion</td>\n",
       "      <td>0</td>\n",
       "    </tr>\n",
       "    <tr>\n",
       "      <th>461</th>\n",
       "      <td>3. Rubella immune. 4. Hepatitis B, HIV and RPR...</td>\n",
       "      <td>abortion</td>\n",
       "      <td>0</td>\n",
       "    </tr>\n",
       "    <tr>\n",
       "      <th>462</th>\n",
       "      <td>ADMISSION DIAGNOSIS: Ectopic pregnancy versus ...</td>\n",
       "      <td>abortion</td>\n",
       "      <td>0</td>\n",
       "    </tr>\n",
       "    <tr>\n",
       "      <th>463</th>\n",
       "      <td>LABORATORY DATA: Blood type A positive, antibo...</td>\n",
       "      <td>abortion</td>\n",
       "      <td>0</td>\n",
       "    </tr>\n",
       "    <tr>\n",
       "      <th>464</th>\n",
       "      <td>The fetus, however, showed no cardiac activity...</td>\n",
       "      <td>abortion</td>\n",
       "      <td>0</td>\n",
       "    </tr>\n",
       "    <tr>\n",
       "      <th>465</th>\n",
       "      <td>Again, the ultrasound results from today was d...</td>\n",
       "      <td>abortion</td>\n",
       "      <td>0</td>\n",
       "    </tr>\n",
       "    <tr>\n",
       "      <th>466</th>\n",
       "      <td>CHIEF COMPLAINT: Missed AB. HISTORY OF PRESENT...</td>\n",
       "      <td>abortion</td>\n",
       "      <td>0</td>\n",
       "    </tr>\n",
       "    <tr>\n",
       "      <th>467</th>\n",
       "      <td>PAST SURGICAL HISTORY: 1. Cholecystectomy. 2. ...</td>\n",
       "      <td>abortion</td>\n",
       "      <td>0</td>\n",
       "    </tr>\n",
       "    <tr>\n",
       "      <th>468</th>\n",
       "      <td>Given the history of classical C-section by he...</td>\n",
       "      <td>abortion</td>\n",
       "      <td>0</td>\n",
       "    </tr>\n",
       "    <tr>\n",
       "      <th>469</th>\n",
       "      <td>3. GBS negative on _%#MM#%_ _%#DD#%_, 2006. 4....</td>\n",
       "      <td>abortion</td>\n",
       "      <td>0</td>\n",
       "    </tr>\n",
       "    <tr>\n",
       "      <th>470</th>\n",
       "      <td>PAST SURGICAL HISTORY: 1. Status post ovarian ...</td>\n",
       "      <td>abortion</td>\n",
       "      <td>0</td>\n",
       "    </tr>\n",
       "    <tr>\n",
       "      <th>471</th>\n",
       "      <td>PREOPERATIVE DIAGNOSIS: Missed AB at 8-plus we...</td>\n",
       "      <td>abortion</td>\n",
       "      <td>0</td>\n",
       "    </tr>\n",
       "    <tr>\n",
       "      <th>472</th>\n",
       "      <td>Urine culture 10-50,000 Staph. Hepatitis B sur...</td>\n",
       "      <td>abortion</td>\n",
       "      <td>0</td>\n",
       "    </tr>\n",
       "    <tr>\n",
       "      <th>473</th>\n",
       "      <td>1. A1 gestational diabetes. 2. Polycystic ovar...</td>\n",
       "      <td>abortion</td>\n",
       "      <td>0</td>\n",
       "    </tr>\n",
       "    <tr>\n",
       "      <th>474</th>\n",
       "      <td>She is having contractions every 6 minutes tha...</td>\n",
       "      <td>abortion</td>\n",
       "      <td>0</td>\n",
       "    </tr>\n",
       "    <tr>\n",
       "      <th>475</th>\n",
       "      <td>She was admitted on _%#MMDD2003#%_ for spontan...</td>\n",
       "      <td>abortion</td>\n",
       "      <td>0</td>\n",
       "    </tr>\n",
       "    <tr>\n",
       "      <th>476</th>\n",
       "      <td>No hepatosplenomegaly. PELVIC: Deferred to sur...</td>\n",
       "      <td>abortion</td>\n",
       "      <td>0</td>\n",
       "    </tr>\n",
       "    <tr>\n",
       "      <th>477</th>\n",
       "      <td>3. Low-lying placenta and third-trimester blee...</td>\n",
       "      <td>abortion</td>\n",
       "      <td>0</td>\n",
       "    </tr>\n",
       "    <tr>\n",
       "      <th>478</th>\n",
       "      <td>1. Psychiatric illness (as above). Details per...</td>\n",
       "      <td>abortion</td>\n",
       "      <td>0</td>\n",
       "    </tr>\n",
       "    <tr>\n",
       "      <th>479</th>\n",
       "      <td>1. This is a 26-year-old G3, P0-0-2-0, at 6 we...</td>\n",
       "      <td>abortion</td>\n",
       "      <td>0</td>\n",
       "    </tr>\n",
       "    <tr>\n",
       "      <th>480</th>\n",
       "      <td>2. History of iron deficiency anemia during he...</td>\n",
       "      <td>abortion</td>\n",
       "      <td>0</td>\n",
       "    </tr>\n",
       "    <tr>\n",
       "      <th>481</th>\n",
       "      <td>Raised the question regarding possible seizure...</td>\n",
       "      <td>abortion</td>\n",
       "      <td>0</td>\n",
       "    </tr>\n",
       "    <tr>\n",
       "      <th>482</th>\n",
       "      <td>CHIEF COMPLAINT: Vaginal bleeding, probable sp...</td>\n",
       "      <td>abortion</td>\n",
       "      <td>0</td>\n",
       "    </tr>\n",
       "    <tr>\n",
       "      <th>484</th>\n",
       "      <td>PAST MEDICAL HISTORY: 1. Psychiatric illness: ...</td>\n",
       "      <td>abortion</td>\n",
       "      <td>0</td>\n",
       "    </tr>\n",
       "    <tr>\n",
       "      <th>485</th>\n",
       "      <td>6. Topamax 100 mg at h.s. ALLERGIES: Vistaril ...</td>\n",
       "      <td>abortion</td>\n",
       "      <td>0</td>\n",
       "    </tr>\n",
       "    <tr>\n",
       "      <th>486</th>\n",
       "      <td>5. Remote history of pneumonia and pleurisy. 6...</td>\n",
       "      <td>abortion</td>\n",
       "      <td>0</td>\n",
       "    </tr>\n",
       "    <tr>\n",
       "      <th>487</th>\n",
       "      <td>1. Anxiety disorder (details per Psychiatry). ...</td>\n",
       "      <td>abortion</td>\n",
       "      <td>0</td>\n",
       "    </tr>\n",
       "    <tr>\n",
       "      <th>488</th>\n",
       "      <td>She has a partner in her room with her at all ...</td>\n",
       "      <td>abortion</td>\n",
       "      <td>0</td>\n",
       "    </tr>\n",
       "    <tr>\n",
       "      <th>489</th>\n",
       "      <td>She says that the second day of her period is ...</td>\n",
       "      <td>abortion</td>\n",
       "      <td>0</td>\n",
       "    </tr>\n",
       "    <tr>\n",
       "      <th>490</th>\n",
       "      <td>PREOPERATIVE DIAGNOSIS: Missed AB. POSTOPERATI...</td>\n",
       "      <td>abortion</td>\n",
       "      <td>0</td>\n",
       "    </tr>\n",
       "    <tr>\n",
       "      <th>491</th>\n",
       "      <td>Hemoglobin 11.8 to 12.6, platelets of 239, 000...</td>\n",
       "      <td>abortion</td>\n",
       "      <td>0</td>\n",
       "    </tr>\n",
       "    <tr>\n",
       "      <th>492</th>\n",
       "      <td>PRENATAL CARE: Prenatal care was initiated at ...</td>\n",
       "      <td>abortion</td>\n",
       "      <td>0</td>\n",
       "    </tr>\n",
       "    <tr>\n",
       "      <th>493</th>\n",
       "      <td>She is not allergic to any medications. The pa...</td>\n",
       "      <td>abortion</td>\n",
       "      <td>0</td>\n",
       "    </tr>\n",
       "    <tr>\n",
       "      <th>494</th>\n",
       "      <td>She had a total weight gain of 31 pounds. PREN...</td>\n",
       "      <td>abortion</td>\n",
       "      <td>0</td>\n",
       "    </tr>\n",
       "    <tr>\n",
       "      <th>495</th>\n",
       "      <td>SURGICAL: 1) Knee surgery x 3. 2) Cesarean sec...</td>\n",
       "      <td>blood group in ABO system</td>\n",
       "      <td>2</td>\n",
       "    </tr>\n",
       "    <tr>\n",
       "      <th>496</th>\n",
       "      <td>She is scheduled for vacuum curettage at Fairv...</td>\n",
       "      <td>abortion</td>\n",
       "      <td>0</td>\n",
       "    </tr>\n",
       "    <tr>\n",
       "      <th>497</th>\n",
       "      <td>Pacemaker was considered, but it was elected t...</td>\n",
       "      <td>abortion</td>\n",
       "      <td>0</td>\n",
       "    </tr>\n",
       "    <tr>\n",
       "      <th>498</th>\n",
       "      <td>It was slightly more irregular, and because of...</td>\n",
       "      <td>abortion</td>\n",
       "      <td>0</td>\n",
       "    </tr>\n",
       "    <tr>\n",
       "      <th>499</th>\n",
       "      <td>SUMMARY OF HOSPITAL COURSE: _%#NAME#%_ _%#NAME...</td>\n",
       "      <td>abortion</td>\n",
       "      <td>0</td>\n",
       "    </tr>\n",
       "  </tbody>\n",
       "</table>\n",
       "</div>"
      ],
      "text/plain": [
       "                                               content  \\\n",
       "449  At the time of admission, her cervix was noted...   \n",
       "450  2. Spinal meningitis as a child. PAST SURGICAL...   \n",
       "451  This pregnancy complicated by AMA, previous hi...   \n",
       "452  The uterus itself is small, anterior and mobil...   \n",
       "453  PAST OBSTETRICAL HISTORY: 1. _%#MM#%_ 2001, ce...   \n",
       "454  Cervix is closed. Uterus is anteverted, 6 week...   \n",
       "455  PAST MEDICAL HISTORY: Inappropriate sinus tach...   \n",
       "456  Good fetal movement. Prenatal care started at ...   \n",
       "457  Urine culture within normal limits. Hemoglobin...   \n",
       "458  DOB: PREOP HISTORY AND PHYSICAL AND EMERGENCY ...   \n",
       "459  LUNGS: Clear. ABDOMEN: Soft. PELVIC: External ...   \n",
       "460  PRENATAL CARE: She received at the Native Amer...   \n",
       "461  3. Rubella immune. 4. Hepatitis B, HIV and RPR...   \n",
       "462  ADMISSION DIAGNOSIS: Ectopic pregnancy versus ...   \n",
       "463  LABORATORY DATA: Blood type A positive, antibo...   \n",
       "464  The fetus, however, showed no cardiac activity...   \n",
       "465  Again, the ultrasound results from today was d...   \n",
       "466  CHIEF COMPLAINT: Missed AB. HISTORY OF PRESENT...   \n",
       "467  PAST SURGICAL HISTORY: 1. Cholecystectomy. 2. ...   \n",
       "468  Given the history of classical C-section by he...   \n",
       "469  3. GBS negative on _%#MM#%_ _%#DD#%_, 2006. 4....   \n",
       "470  PAST SURGICAL HISTORY: 1. Status post ovarian ...   \n",
       "471  PREOPERATIVE DIAGNOSIS: Missed AB at 8-plus we...   \n",
       "472  Urine culture 10-50,000 Staph. Hepatitis B sur...   \n",
       "473  1. A1 gestational diabetes. 2. Polycystic ovar...   \n",
       "474  She is having contractions every 6 minutes tha...   \n",
       "475  She was admitted on _%#MMDD2003#%_ for spontan...   \n",
       "476  No hepatosplenomegaly. PELVIC: Deferred to sur...   \n",
       "477  3. Low-lying placenta and third-trimester blee...   \n",
       "478  1. Psychiatric illness (as above). Details per...   \n",
       "479  1. This is a 26-year-old G3, P0-0-2-0, at 6 we...   \n",
       "480  2. History of iron deficiency anemia during he...   \n",
       "481  Raised the question regarding possible seizure...   \n",
       "482  CHIEF COMPLAINT: Vaginal bleeding, probable sp...   \n",
       "484  PAST MEDICAL HISTORY: 1. Psychiatric illness: ...   \n",
       "485  6. Topamax 100 mg at h.s. ALLERGIES: Vistaril ...   \n",
       "486  5. Remote history of pneumonia and pleurisy. 6...   \n",
       "487  1. Anxiety disorder (details per Psychiatry). ...   \n",
       "488  She has a partner in her room with her at all ...   \n",
       "489  She says that the second day of her period is ...   \n",
       "490  PREOPERATIVE DIAGNOSIS: Missed AB. POSTOPERATI...   \n",
       "491  Hemoglobin 11.8 to 12.6, platelets of 239, 000...   \n",
       "492  PRENATAL CARE: Prenatal care was initiated at ...   \n",
       "493  She is not allergic to any medications. The pa...   \n",
       "494  She had a total weight gain of 31 pounds. PREN...   \n",
       "495  SURGICAL: 1) Knee surgery x 3. 2) Cesarean sec...   \n",
       "496  She is scheduled for vacuum curettage at Fairv...   \n",
       "497  Pacemaker was considered, but it was elected t...   \n",
       "498  It was slightly more irregular, and because of...   \n",
       "499  SUMMARY OF HOSPITAL COURSE: _%#NAME#%_ _%#NAME...   \n",
       "\n",
       "                     expansion  label  \n",
       "449                   abortion      0  \n",
       "450                   abortion      0  \n",
       "451                   abortion      0  \n",
       "452                   abortion      0  \n",
       "453                   abortion      0  \n",
       "454                   abortion      0  \n",
       "455                   abortion      0  \n",
       "456                   abortion      0  \n",
       "457                   abortion      0  \n",
       "458                   abortion      0  \n",
       "459                   abortion      0  \n",
       "460                   abortion      0  \n",
       "461                   abortion      0  \n",
       "462                   abortion      0  \n",
       "463                   abortion      0  \n",
       "464                   abortion      0  \n",
       "465                   abortion      0  \n",
       "466                   abortion      0  \n",
       "467                   abortion      0  \n",
       "468                   abortion      0  \n",
       "469                   abortion      0  \n",
       "470                   abortion      0  \n",
       "471                   abortion      0  \n",
       "472                   abortion      0  \n",
       "473                   abortion      0  \n",
       "474                   abortion      0  \n",
       "475                   abortion      0  \n",
       "476                   abortion      0  \n",
       "477                   abortion      0  \n",
       "478                   abortion      0  \n",
       "479                   abortion      0  \n",
       "480                   abortion      0  \n",
       "481                   abortion      0  \n",
       "482                   abortion      0  \n",
       "484                   abortion      0  \n",
       "485                   abortion      0  \n",
       "486                   abortion      0  \n",
       "487                   abortion      0  \n",
       "488                   abortion      0  \n",
       "489                   abortion      0  \n",
       "490                   abortion      0  \n",
       "491                   abortion      0  \n",
       "492                   abortion      0  \n",
       "493                   abortion      0  \n",
       "494                   abortion      0  \n",
       "495  blood group in ABO system      2  \n",
       "496                   abortion      0  \n",
       "497                   abortion      0  \n",
       "498                   abortion      0  \n",
       "499                   abortion      0  "
      ]
     },
     "execution_count": 20,
     "metadata": {},
     "output_type": "execute_result"
    }
   ],
   "source": [
    "filtered_data.tail(50)"
   ]
  },
  {
   "cell_type": "code",
   "execution_count": 21,
   "metadata": {
    "id": "XBJpabNcmEBL"
   },
   "outputs": [
    {
     "name": "stderr",
     "output_type": "stream",
     "text": [
      "Some weights of the model checkpoint at emilyalsentzer/Bio_ClinicalBERT were not used when initializing BertModel: ['cls.predictions.bias', 'cls.predictions.decoder.weight', 'cls.predictions.transform.LayerNorm.bias', 'cls.predictions.transform.dense.bias', 'cls.seq_relationship.weight', 'cls.predictions.transform.dense.weight', 'cls.seq_relationship.bias', 'cls.predictions.transform.LayerNorm.weight']\n",
      "- This IS expected if you are initializing BertModel from the checkpoint of a model trained on another task or with another architecture (e.g. initializing a BertForSequenceClassification model from a BertForPreTraining model).\n",
      "- This IS NOT expected if you are initializing BertModel from the checkpoint of a model that you expect to be exactly identical (initializing a BertForSequenceClassification model from a BertForSequenceClassification model).\n"
     ]
    }
   ],
   "source": [
    "# Download Bio_clinicalBERT \n",
    "\n",
    "from transformers import AutoTokenizer, AutoModel, BertForNextSentencePrediction, BertTokenizer\n",
    "tokenizer = AutoTokenizer.from_pretrained(\"emilyalsentzer/Bio_ClinicalBERT\")\n",
    "model = AutoModel.from_pretrained(\"emilyalsentzer/Bio_ClinicalBERT\")"
   ]
  },
  {
   "cell_type": "code",
   "execution_count": 22,
   "metadata": {
    "id": "FFHS9KiIrGzC"
   },
   "outputs": [
    {
     "name": "stderr",
     "output_type": "stream",
     "text": [
      "Some weights of the model checkpoint at NLP4H/ms_bert were not used when initializing BertModel: ['cls.predictions.bias', 'cls.predictions.decoder.weight', 'cls.predictions.transform.LayerNorm.bias', 'cls.predictions.transform.dense.bias', 'cls.predictions.decoder.bias', 'cls.predictions.transform.dense.weight', 'cls.predictions.transform.LayerNorm.weight']\n",
      "- This IS expected if you are initializing BertModel from the checkpoint of a model trained on another task or with another architecture (e.g. initializing a BertForSequenceClassification model from a BertForPreTraining model).\n",
      "- This IS NOT expected if you are initializing BertModel from the checkpoint of a model that you expect to be exactly identical (initializing a BertForSequenceClassification model from a BertForSequenceClassification model).\n"
     ]
    }
   ],
   "source": [
    "#Download ms_bert\n",
    "from transformers import AutoTokenizer, AutoModel\n",
    "model_name = \"NLP4H/ms_bert\"\n",
    "model = AutoModel.from_pretrained(model_name)\n",
    "tokenizer = AutoTokenizer.from_pretrained(model_name)"
   ]
  },
  {
   "cell_type": "code",
   "execution_count": 23,
   "metadata": {
    "id": "IvBJ74U1gyzf"
   },
   "outputs": [
    {
     "name": "stdout",
     "output_type": "stream",
     "text": [
      "The BERT model has 199 different named parameters.\n",
      "\n",
      "==== Embedding Layer ====\n",
      "\n",
      "embeddings.word_embeddings.weight                       (30522, 768)\n",
      "embeddings.position_embeddings.weight                     (512, 768)\n",
      "embeddings.token_type_embeddings.weight                     (2, 768)\n",
      "embeddings.LayerNorm.weight                                   (768,)\n",
      "embeddings.LayerNorm.bias                                     (768,)\n",
      "\n",
      "==== First Transformer ====\n",
      "\n",
      "encoder.layer.0.attention.self.query.weight               (768, 768)\n",
      "encoder.layer.0.attention.self.query.bias                     (768,)\n",
      "encoder.layer.0.attention.self.key.weight                 (768, 768)\n",
      "encoder.layer.0.attention.self.key.bias                       (768,)\n",
      "encoder.layer.0.attention.self.value.weight               (768, 768)\n",
      "encoder.layer.0.attention.self.value.bias                     (768,)\n",
      "encoder.layer.0.attention.output.dense.weight             (768, 768)\n",
      "encoder.layer.0.attention.output.dense.bias                   (768,)\n",
      "encoder.layer.0.attention.output.LayerNorm.weight             (768,)\n",
      "encoder.layer.0.attention.output.LayerNorm.bias               (768,)\n",
      "encoder.layer.0.intermediate.dense.weight                (3072, 768)\n",
      "encoder.layer.0.intermediate.dense.bias                      (3072,)\n",
      "encoder.layer.0.output.dense.weight                      (768, 3072)\n",
      "encoder.layer.0.output.dense.bias                             (768,)\n",
      "encoder.layer.0.output.LayerNorm.weight                       (768,)\n",
      "encoder.layer.0.output.LayerNorm.bias                         (768,)\n",
      "\n",
      "==== Output Layer ====\n",
      "\n",
      "encoder.layer.11.output.LayerNorm.weight                      (768,)\n",
      "encoder.layer.11.output.LayerNorm.bias                        (768,)\n",
      "pooler.dense.weight                                       (768, 768)\n",
      "pooler.dense.bias                                             (768,)\n"
     ]
    }
   ],
   "source": [
    "# Get the list of named parameters from the model\n",
    "params = list(model.named_parameters())\n",
    "\n",
    "# Print the total number of different named parameters in the model\n",
    "print('The BERT model has {:} different named parameters.\\n'.format(len(params)))\n",
    "\n",
    "# Print information about the embedding layer\n",
    "print('==== Embedding Layer ====\\n')\n",
    "\n",
    "# Print the names and sizes of the parameters in the embedding layer\n",
    "for p in params[0:5]:\n",
    "    print(\"{:<55} {:>12}\".format(p[0], str(tuple(p[1].size()))))\n",
    "\n",
    "# Print information about the first transformer layer\n",
    "print('\\n==== First Transformer ====\\n')\n",
    "\n",
    "# Print the names and sizes of the parameters in the first transformer layer\n",
    "for p in params[5:21]:\n",
    "    print(\"{:<55} {:>12}\".format(p[0], str(tuple(p[1].size()))))\n",
    "\n",
    "# Print information about the output layer\n",
    "print('\\n==== Output Layer ====\\n')\n",
    "\n",
    "# Print the names and sizes of the parameters in the output layer\n",
    "for p in params[-4:]:\n",
    "    print(\"{:<55} {:>12}\".format(p[0], str(tuple(p[1].size()))))\n"
   ]
  },
  {
   "cell_type": "code",
   "execution_count": 24,
   "metadata": {
    "id": "2ZrSM_LtTDpz"
   },
   "outputs": [],
   "source": [
    "def create_data_loader(df, tokenizer, max_len, batch_size):\n",
    "  ds = DisambiguateDataset(df, tokenizer, max_len)\n",
    "\n",
    "  return torch.utils.data.DataLoader(ds, batch_size = batch_size, shuffle = True )  "
   ]
  },
  {
   "cell_type": "code",
   "execution_count": 25,
   "metadata": {
    "id": "rwNKKzq1T-zI"
   },
   "outputs": [],
   "source": [
    "train_data_loader = create_data_loader(train_df, tokenizer, MAX_LEN, BATCH_SIZE)\n",
    "val_data_loader = create_data_loader(val_df, tokenizer, MAX_LEN, BATCH_SIZE)\n",
    "test_data_loader = create_data_loader(test_df, tokenizer, MAX_LEN, BATCH_SIZE)"
   ]
  },
  {
   "cell_type": "code",
   "execution_count": 26,
   "metadata": {
    "id": "QNZLYjr4bWuP"
   },
   "outputs": [
    {
     "data": {
      "text/plain": [
       "dict_keys(['input_ids', 'attention_mask', 'token_type_ids', 'label_'])"
      ]
     },
     "execution_count": 26,
     "metadata": {},
     "output_type": "execute_result"
    }
   ],
   "source": [
    "data = next(iter(val_data_loader))\n",
    "data.keys()\n",
    "  "
   ]
  },
  {
   "cell_type": "code",
   "execution_count": 30,
   "metadata": {
    "id": "70FgbcJqhQJ3"
   },
   "outputs": [],
   "source": [
    "class DisambiguateClassifier(nn.Module):\n",
    "\n",
    "  def __init__(self, n_classes):\n",
    "    super(DisambiguateClassifier, self).__init__()\n",
    "    self.model = model\n",
    "    self.linear_relu_stack = nn.Sequential(\n",
    "     nn.Linear(self.model.config.hidden_size, 512),\n",
    "     nn.ReLU(),\n",
    "    nn.Linear(512, 348),\n",
    "    )\n",
    "    \n",
    "   # Forward pass through the model\n",
    "    def forward(self, input_ids, token_type_ids, attention_mask ):\n",
    "        output = self.model(\n",
    "        input_ids,\n",
    "       token_type_ids, \n",
    "       attention_mask,)\n",
    "    # Apply the classification head to the last hidden state\n",
    "    out = self.linear_relu_stack (output['last_hidden_state'][:,0,:])\n",
    "    return out\n",
    "    \n"
   ]
  },
  {
   "cell_type": "code",
   "execution_count": 31,
   "metadata": {
    "collapsed": true,
    "id": "LtjjXn8hlyEz"
   },
   "outputs": [
    {
     "data": {
      "text/plain": [
       "DisambiguateClassifier(\n",
       "  (model): BertModel(\n",
       "    (embeddings): BertEmbeddings(\n",
       "      (word_embeddings): Embedding(30522, 768, padding_idx=0)\n",
       "      (position_embeddings): Embedding(512, 768)\n",
       "      (token_type_embeddings): Embedding(2, 768)\n",
       "      (LayerNorm): LayerNorm((768,), eps=1e-12, elementwise_affine=True)\n",
       "      (dropout): Dropout(p=0.1, inplace=False)\n",
       "    )\n",
       "    (encoder): BertEncoder(\n",
       "      (layer): ModuleList(\n",
       "        (0): BertLayer(\n",
       "          (attention): BertAttention(\n",
       "            (self): BertSelfAttention(\n",
       "              (query): Linear(in_features=768, out_features=768, bias=True)\n",
       "              (key): Linear(in_features=768, out_features=768, bias=True)\n",
       "              (value): Linear(in_features=768, out_features=768, bias=True)\n",
       "              (dropout): Dropout(p=0.1, inplace=False)\n",
       "            )\n",
       "            (output): BertSelfOutput(\n",
       "              (dense): Linear(in_features=768, out_features=768, bias=True)\n",
       "              (LayerNorm): LayerNorm((768,), eps=1e-12, elementwise_affine=True)\n",
       "              (dropout): Dropout(p=0.1, inplace=False)\n",
       "            )\n",
       "          )\n",
       "          (intermediate): BertIntermediate(\n",
       "            (dense): Linear(in_features=768, out_features=3072, bias=True)\n",
       "            (intermediate_act_fn): GELUActivation()\n",
       "          )\n",
       "          (output): BertOutput(\n",
       "            (dense): Linear(in_features=3072, out_features=768, bias=True)\n",
       "            (LayerNorm): LayerNorm((768,), eps=1e-12, elementwise_affine=True)\n",
       "            (dropout): Dropout(p=0.1, inplace=False)\n",
       "          )\n",
       "        )\n",
       "        (1): BertLayer(\n",
       "          (attention): BertAttention(\n",
       "            (self): BertSelfAttention(\n",
       "              (query): Linear(in_features=768, out_features=768, bias=True)\n",
       "              (key): Linear(in_features=768, out_features=768, bias=True)\n",
       "              (value): Linear(in_features=768, out_features=768, bias=True)\n",
       "              (dropout): Dropout(p=0.1, inplace=False)\n",
       "            )\n",
       "            (output): BertSelfOutput(\n",
       "              (dense): Linear(in_features=768, out_features=768, bias=True)\n",
       "              (LayerNorm): LayerNorm((768,), eps=1e-12, elementwise_affine=True)\n",
       "              (dropout): Dropout(p=0.1, inplace=False)\n",
       "            )\n",
       "          )\n",
       "          (intermediate): BertIntermediate(\n",
       "            (dense): Linear(in_features=768, out_features=3072, bias=True)\n",
       "            (intermediate_act_fn): GELUActivation()\n",
       "          )\n",
       "          (output): BertOutput(\n",
       "            (dense): Linear(in_features=3072, out_features=768, bias=True)\n",
       "            (LayerNorm): LayerNorm((768,), eps=1e-12, elementwise_affine=True)\n",
       "            (dropout): Dropout(p=0.1, inplace=False)\n",
       "          )\n",
       "        )\n",
       "        (2): BertLayer(\n",
       "          (attention): BertAttention(\n",
       "            (self): BertSelfAttention(\n",
       "              (query): Linear(in_features=768, out_features=768, bias=True)\n",
       "              (key): Linear(in_features=768, out_features=768, bias=True)\n",
       "              (value): Linear(in_features=768, out_features=768, bias=True)\n",
       "              (dropout): Dropout(p=0.1, inplace=False)\n",
       "            )\n",
       "            (output): BertSelfOutput(\n",
       "              (dense): Linear(in_features=768, out_features=768, bias=True)\n",
       "              (LayerNorm): LayerNorm((768,), eps=1e-12, elementwise_affine=True)\n",
       "              (dropout): Dropout(p=0.1, inplace=False)\n",
       "            )\n",
       "          )\n",
       "          (intermediate): BertIntermediate(\n",
       "            (dense): Linear(in_features=768, out_features=3072, bias=True)\n",
       "            (intermediate_act_fn): GELUActivation()\n",
       "          )\n",
       "          (output): BertOutput(\n",
       "            (dense): Linear(in_features=3072, out_features=768, bias=True)\n",
       "            (LayerNorm): LayerNorm((768,), eps=1e-12, elementwise_affine=True)\n",
       "            (dropout): Dropout(p=0.1, inplace=False)\n",
       "          )\n",
       "        )\n",
       "        (3): BertLayer(\n",
       "          (attention): BertAttention(\n",
       "            (self): BertSelfAttention(\n",
       "              (query): Linear(in_features=768, out_features=768, bias=True)\n",
       "              (key): Linear(in_features=768, out_features=768, bias=True)\n",
       "              (value): Linear(in_features=768, out_features=768, bias=True)\n",
       "              (dropout): Dropout(p=0.1, inplace=False)\n",
       "            )\n",
       "            (output): BertSelfOutput(\n",
       "              (dense): Linear(in_features=768, out_features=768, bias=True)\n",
       "              (LayerNorm): LayerNorm((768,), eps=1e-12, elementwise_affine=True)\n",
       "              (dropout): Dropout(p=0.1, inplace=False)\n",
       "            )\n",
       "          )\n",
       "          (intermediate): BertIntermediate(\n",
       "            (dense): Linear(in_features=768, out_features=3072, bias=True)\n",
       "            (intermediate_act_fn): GELUActivation()\n",
       "          )\n",
       "          (output): BertOutput(\n",
       "            (dense): Linear(in_features=3072, out_features=768, bias=True)\n",
       "            (LayerNorm): LayerNorm((768,), eps=1e-12, elementwise_affine=True)\n",
       "            (dropout): Dropout(p=0.1, inplace=False)\n",
       "          )\n",
       "        )\n",
       "        (4): BertLayer(\n",
       "          (attention): BertAttention(\n",
       "            (self): BertSelfAttention(\n",
       "              (query): Linear(in_features=768, out_features=768, bias=True)\n",
       "              (key): Linear(in_features=768, out_features=768, bias=True)\n",
       "              (value): Linear(in_features=768, out_features=768, bias=True)\n",
       "              (dropout): Dropout(p=0.1, inplace=False)\n",
       "            )\n",
       "            (output): BertSelfOutput(\n",
       "              (dense): Linear(in_features=768, out_features=768, bias=True)\n",
       "              (LayerNorm): LayerNorm((768,), eps=1e-12, elementwise_affine=True)\n",
       "              (dropout): Dropout(p=0.1, inplace=False)\n",
       "            )\n",
       "          )\n",
       "          (intermediate): BertIntermediate(\n",
       "            (dense): Linear(in_features=768, out_features=3072, bias=True)\n",
       "            (intermediate_act_fn): GELUActivation()\n",
       "          )\n",
       "          (output): BertOutput(\n",
       "            (dense): Linear(in_features=3072, out_features=768, bias=True)\n",
       "            (LayerNorm): LayerNorm((768,), eps=1e-12, elementwise_affine=True)\n",
       "            (dropout): Dropout(p=0.1, inplace=False)\n",
       "          )\n",
       "        )\n",
       "        (5): BertLayer(\n",
       "          (attention): BertAttention(\n",
       "            (self): BertSelfAttention(\n",
       "              (query): Linear(in_features=768, out_features=768, bias=True)\n",
       "              (key): Linear(in_features=768, out_features=768, bias=True)\n",
       "              (value): Linear(in_features=768, out_features=768, bias=True)\n",
       "              (dropout): Dropout(p=0.1, inplace=False)\n",
       "            )\n",
       "            (output): BertSelfOutput(\n",
       "              (dense): Linear(in_features=768, out_features=768, bias=True)\n",
       "              (LayerNorm): LayerNorm((768,), eps=1e-12, elementwise_affine=True)\n",
       "              (dropout): Dropout(p=0.1, inplace=False)\n",
       "            )\n",
       "          )\n",
       "          (intermediate): BertIntermediate(\n",
       "            (dense): Linear(in_features=768, out_features=3072, bias=True)\n",
       "            (intermediate_act_fn): GELUActivation()\n",
       "          )\n",
       "          (output): BertOutput(\n",
       "            (dense): Linear(in_features=3072, out_features=768, bias=True)\n",
       "            (LayerNorm): LayerNorm((768,), eps=1e-12, elementwise_affine=True)\n",
       "            (dropout): Dropout(p=0.1, inplace=False)\n",
       "          )\n",
       "        )\n",
       "        (6): BertLayer(\n",
       "          (attention): BertAttention(\n",
       "            (self): BertSelfAttention(\n",
       "              (query): Linear(in_features=768, out_features=768, bias=True)\n",
       "              (key): Linear(in_features=768, out_features=768, bias=True)\n",
       "              (value): Linear(in_features=768, out_features=768, bias=True)\n",
       "              (dropout): Dropout(p=0.1, inplace=False)\n",
       "            )\n",
       "            (output): BertSelfOutput(\n",
       "              (dense): Linear(in_features=768, out_features=768, bias=True)\n",
       "              (LayerNorm): LayerNorm((768,), eps=1e-12, elementwise_affine=True)\n",
       "              (dropout): Dropout(p=0.1, inplace=False)\n",
       "            )\n",
       "          )\n",
       "          (intermediate): BertIntermediate(\n",
       "            (dense): Linear(in_features=768, out_features=3072, bias=True)\n",
       "            (intermediate_act_fn): GELUActivation()\n",
       "          )\n",
       "          (output): BertOutput(\n",
       "            (dense): Linear(in_features=3072, out_features=768, bias=True)\n",
       "            (LayerNorm): LayerNorm((768,), eps=1e-12, elementwise_affine=True)\n",
       "            (dropout): Dropout(p=0.1, inplace=False)\n",
       "          )\n",
       "        )\n",
       "        (7): BertLayer(\n",
       "          (attention): BertAttention(\n",
       "            (self): BertSelfAttention(\n",
       "              (query): Linear(in_features=768, out_features=768, bias=True)\n",
       "              (key): Linear(in_features=768, out_features=768, bias=True)\n",
       "              (value): Linear(in_features=768, out_features=768, bias=True)\n",
       "              (dropout): Dropout(p=0.1, inplace=False)\n",
       "            )\n",
       "            (output): BertSelfOutput(\n",
       "              (dense): Linear(in_features=768, out_features=768, bias=True)\n",
       "              (LayerNorm): LayerNorm((768,), eps=1e-12, elementwise_affine=True)\n",
       "              (dropout): Dropout(p=0.1, inplace=False)\n",
       "            )\n",
       "          )\n",
       "          (intermediate): BertIntermediate(\n",
       "            (dense): Linear(in_features=768, out_features=3072, bias=True)\n",
       "            (intermediate_act_fn): GELUActivation()\n",
       "          )\n",
       "          (output): BertOutput(\n",
       "            (dense): Linear(in_features=3072, out_features=768, bias=True)\n",
       "            (LayerNorm): LayerNorm((768,), eps=1e-12, elementwise_affine=True)\n",
       "            (dropout): Dropout(p=0.1, inplace=False)\n",
       "          )\n",
       "        )\n",
       "        (8): BertLayer(\n",
       "          (attention): BertAttention(\n",
       "            (self): BertSelfAttention(\n",
       "              (query): Linear(in_features=768, out_features=768, bias=True)\n",
       "              (key): Linear(in_features=768, out_features=768, bias=True)\n",
       "              (value): Linear(in_features=768, out_features=768, bias=True)\n",
       "              (dropout): Dropout(p=0.1, inplace=False)\n",
       "            )\n",
       "            (output): BertSelfOutput(\n",
       "              (dense): Linear(in_features=768, out_features=768, bias=True)\n",
       "              (LayerNorm): LayerNorm((768,), eps=1e-12, elementwise_affine=True)\n",
       "              (dropout): Dropout(p=0.1, inplace=False)\n",
       "            )\n",
       "          )\n",
       "          (intermediate): BertIntermediate(\n",
       "            (dense): Linear(in_features=768, out_features=3072, bias=True)\n",
       "            (intermediate_act_fn): GELUActivation()\n",
       "          )\n",
       "          (output): BertOutput(\n",
       "            (dense): Linear(in_features=3072, out_features=768, bias=True)\n",
       "            (LayerNorm): LayerNorm((768,), eps=1e-12, elementwise_affine=True)\n",
       "            (dropout): Dropout(p=0.1, inplace=False)\n",
       "          )\n",
       "        )\n",
       "        (9): BertLayer(\n",
       "          (attention): BertAttention(\n",
       "            (self): BertSelfAttention(\n",
       "              (query): Linear(in_features=768, out_features=768, bias=True)\n",
       "              (key): Linear(in_features=768, out_features=768, bias=True)\n",
       "              (value): Linear(in_features=768, out_features=768, bias=True)\n",
       "              (dropout): Dropout(p=0.1, inplace=False)\n",
       "            )\n",
       "            (output): BertSelfOutput(\n",
       "              (dense): Linear(in_features=768, out_features=768, bias=True)\n",
       "              (LayerNorm): LayerNorm((768,), eps=1e-12, elementwise_affine=True)\n",
       "              (dropout): Dropout(p=0.1, inplace=False)\n",
       "            )\n",
       "          )\n",
       "          (intermediate): BertIntermediate(\n",
       "            (dense): Linear(in_features=768, out_features=3072, bias=True)\n",
       "            (intermediate_act_fn): GELUActivation()\n",
       "          )\n",
       "          (output): BertOutput(\n",
       "            (dense): Linear(in_features=3072, out_features=768, bias=True)\n",
       "            (LayerNorm): LayerNorm((768,), eps=1e-12, elementwise_affine=True)\n",
       "            (dropout): Dropout(p=0.1, inplace=False)\n",
       "          )\n",
       "        )\n",
       "        (10): BertLayer(\n",
       "          (attention): BertAttention(\n",
       "            (self): BertSelfAttention(\n",
       "              (query): Linear(in_features=768, out_features=768, bias=True)\n",
       "              (key): Linear(in_features=768, out_features=768, bias=True)\n",
       "              (value): Linear(in_features=768, out_features=768, bias=True)\n",
       "              (dropout): Dropout(p=0.1, inplace=False)\n",
       "            )\n",
       "            (output): BertSelfOutput(\n",
       "              (dense): Linear(in_features=768, out_features=768, bias=True)\n",
       "              (LayerNorm): LayerNorm((768,), eps=1e-12, elementwise_affine=True)\n",
       "              (dropout): Dropout(p=0.1, inplace=False)\n",
       "            )\n",
       "          )\n",
       "          (intermediate): BertIntermediate(\n",
       "            (dense): Linear(in_features=768, out_features=3072, bias=True)\n",
       "            (intermediate_act_fn): GELUActivation()\n",
       "          )\n",
       "          (output): BertOutput(\n",
       "            (dense): Linear(in_features=3072, out_features=768, bias=True)\n",
       "            (LayerNorm): LayerNorm((768,), eps=1e-12, elementwise_affine=True)\n",
       "            (dropout): Dropout(p=0.1, inplace=False)\n",
       "          )\n",
       "        )\n",
       "        (11): BertLayer(\n",
       "          (attention): BertAttention(\n",
       "            (self): BertSelfAttention(\n",
       "              (query): Linear(in_features=768, out_features=768, bias=True)\n",
       "              (key): Linear(in_features=768, out_features=768, bias=True)\n",
       "              (value): Linear(in_features=768, out_features=768, bias=True)\n",
       "              (dropout): Dropout(p=0.1, inplace=False)\n",
       "            )\n",
       "            (output): BertSelfOutput(\n",
       "              (dense): Linear(in_features=768, out_features=768, bias=True)\n",
       "              (LayerNorm): LayerNorm((768,), eps=1e-12, elementwise_affine=True)\n",
       "              (dropout): Dropout(p=0.1, inplace=False)\n",
       "            )\n",
       "          )\n",
       "          (intermediate): BertIntermediate(\n",
       "            (dense): Linear(in_features=768, out_features=3072, bias=True)\n",
       "            (intermediate_act_fn): GELUActivation()\n",
       "          )\n",
       "          (output): BertOutput(\n",
       "            (dense): Linear(in_features=3072, out_features=768, bias=True)\n",
       "            (LayerNorm): LayerNorm((768,), eps=1e-12, elementwise_affine=True)\n",
       "            (dropout): Dropout(p=0.1, inplace=False)\n",
       "          )\n",
       "        )\n",
       "      )\n",
       "    )\n",
       "    (pooler): BertPooler(\n",
       "      (dense): Linear(in_features=768, out_features=768, bias=True)\n",
       "      (activation): Tanh()\n",
       "    )\n",
       "  )\n",
       "  (linear_relu_stack): Sequential(\n",
       "    (0): Linear(in_features=768, out_features=512, bias=True)\n",
       "    (1): ReLU()\n",
       "    (2): Linear(in_features=512, out_features=348, bias=True)\n",
       "  )\n",
       ")"
      ]
     },
     "execution_count": 31,
     "metadata": {},
     "output_type": "execute_result"
    }
   ],
   "source": [
    "device = torch.device(\"cuda:0\" if torch.cuda.is_available() else \"cpu\")\n",
    "clinic_model = DisambiguateClassifier(model)\n",
    "clinic_model.to(device)"
   ]
  },
  {
   "cell_type": "code",
   "execution_count": 32,
   "metadata": {
    "id": "Z4rethD4q5YC"
   },
   "outputs": [],
   "source": [
    "import torch.nn as nn\n",
    "\n",
    "class DisambiguateClassifier(nn.Module):\n",
    "    def __init__(self, model):\n",
    "        super(DisambiguateClassifier, self).__init__()\n",
    "        # Initialize the classifier with the pretrained model and custom classification head\n",
    "        self.model = model\n",
    "        self.linear_relu_stack = nn.Sequential(\n",
    "            nn.Linear(768, 512),  # Linear layer with input size 768 and output size 512\n",
    "            nn.Dropout(0.3),  # Dropout layer with dropout probability of 0.3\n",
    "            nn.ReLU(),  # ReLU activation function\n",
    "            nn.Linear(512, 340),  # Linear layer with input size 512 and output size 340\n",
    "            nn.Dropout(0.3),  # Dropout layer with dropout probability of 0.3\n",
    "            nn.ReLU(),  # ReLU activation function\n",
    "            nn.Linear(340, 498),  # Linear layer with input size 340 and output size 498\n",
    "            # nn.Softmax(dim=1)  # Softmax layer (commented out)\n",
    "        )\n",
    "    \n",
    "    def forward(self, input_ids, token_type_ids, attention_mask):\n",
    "        # Forward pass through the model\n",
    "        output = self.model(\n",
    "            input_ids=input_ids,\n",
    "            token_type_ids=token_type_ids, \n",
    "            attention_mask=attention_mask\n",
    "        )\n",
    "        # Apply the classification head to the last hidden state\n",
    "        out = self.linear_relu_stack(output['last_hidden_state'][:, 0, :])\n",
    "        return out\n"
   ]
  },
  {
   "cell_type": "code",
   "execution_count": 33,
   "metadata": {},
   "outputs": [],
   "source": [
    "from transformers import AdamW\n",
    "from transformers import get_linear_schedule_with_warmup\n"
   ]
  },
  {
   "cell_type": "code",
   "execution_count": 34,
   "metadata": {
    "id": "99KDT7FBhhmq"
   },
   "outputs": [
    {
     "name": "stderr",
     "output_type": "stream",
     "text": [
      "C:\\ProgramData\\anaconda3\\lib\\site-packages\\transformers\\optimization.py:306: FutureWarning: This implementation of AdamW is deprecated and will be removed in a future version. Use the PyTorch implementation torch.optim.AdamW instead, or set `no_deprecation_warning=True` to disable this warning\n",
      "  warnings.warn(\n"
     ]
    }
   ],
   "source": [
    "from transformers import AdamW, get_linear_schedule_with_warmup\n",
    "\n",
    "# Initialize optimizer\n",
    "optimizer = AdamW(clinic_model.parameters(), lr=1e-5)\n",
    "\n",
    "# Calculate total steps\n",
    "total_steps = len(train_data_loader) * EPOCHS\n",
    "\n",
    "# Initialize scheduler\n",
    "scheduler = get_linear_schedule_with_warmup(\n",
    "    optimizer,\n",
    "    num_warmup_steps=0,\n",
    "    num_training_steps=total_steps\n",
    ")\n",
    "\n",
    "# Initialize loss function\n",
    "loss_fn = nn.CrossEntropyLoss().to(device)\n"
   ]
  },
  {
   "cell_type": "code",
   "execution_count": 35,
   "metadata": {
    "id": "ubM8ehqLqVwP"
   },
   "outputs": [],
   "source": [
    "def train_epoch(\n",
    "    model,\n",
    "    data_loader,\n",
    "    loss_fn,\n",
    "    optimizer,\n",
    "    device,\n",
    "    scheduler,\n",
    "    n_examples\n",
    "):\n",
    "    # Set model to training mode\n",
    "    model = model.train()\n",
    "\n",
    "    # Initialize lists to store losses and correct predictions\n",
    "    losses = []\n",
    "    correct_predictions = 0\n",
    "\n",
    "    # Iterate through data loader\n",
    "    for d in data_loader:\n",
    "        # Move data to device\n",
    "        input_ids = d['input_ids'].to(device)\n",
    "        attention_mask = d['attention_mask'].to(device)\n",
    "        token_type_ids = d['token_type_ids'].to(device)\n",
    "        label = d['label_'].to(device)\n",
    "\n",
    "        # Forward pass\n",
    "        outputs = model(\n",
    "            input_ids,\n",
    "            attention_mask,\n",
    "            token_type_ids,\n",
    "        )\n",
    "\n",
    "        # Calculate loss\n",
    "        _, preds = torch.max(outputs, dim=1)\n",
    "        loss = loss_fn(outputs, label)\n",
    "\n",
    "        # Track correct predictions and losses\n",
    "        correct_predictions += torch.sum(preds == label)\n",
    "        losses.append(loss.item())\n",
    "\n",
    "        # Backpropagation and optimization\n",
    "        loss.backward()\n",
    "        nn.utils.clip_grad_norm_(model.parameters(), max_norm=1.0)\n",
    "        optimizer.step()\n",
    "        scheduler.step()\n",
    "        optimizer.zero_grad()\n",
    "\n",
    "    # Calculate accuracy and average loss\n",
    "    return correct_predictions.double() / n_examples, np.mean(losses)\n"
   ]
  },
  {
   "cell_type": "code",
   "execution_count": 36,
   "metadata": {
    "id": "KaoodV_Ws4UA"
   },
   "outputs": [],
   "source": [
    "def eval_model(model, data_loader, loss_fn, device, n_examples):\n",
    "    # Set model to evaluation mode\n",
    "    model = model.eval()\n",
    "\n",
    "    # Initialize lists to store losses, correct predictions, and predictions\n",
    "    losses = []\n",
    "    correct_predictions = 0\n",
    "    prediction = []\n",
    "\n",
    "    # Disable gradient calculation\n",
    "    with torch.no_grad():\n",
    "        # Iterate through data loader\n",
    "        for d in data_loader:\n",
    "            # Move data to device\n",
    "            input_ids = d['input_ids'].to(device)\n",
    "            attention_mask = d['attention_mask'].to(device)\n",
    "            token_type_ids = d['token_type_ids'].to(device)\n",
    "            label = d['label_'].to(device)\n",
    "\n",
    "            # Forward pass\n",
    "            outputs = model(\n",
    "                input_ids,\n",
    "                attention_mask,\n",
    "                token_type_ids,\n",
    "            )\n",
    "\n",
    "            # Calculate loss\n",
    "            _, preds = torch.max(outputs, dim=1)\n",
    "            loss = loss_fn(outputs, label)\n",
    "\n",
    "            # Track correct predictions and losses\n",
    "            for p, x, ii in zip(preds, label, input_ids):\n",
    "                if p.item() != x.item():\n",
    "                    print(p.item(), \",\", x.item(), \",\", tokenizer.decode(ii, skip_special_tokens=True))\n",
    "            correct_predictions += torch.sum(preds == label)\n",
    "            losses.append(loss.item())\n",
    "\n",
    "    # Calculate accuracy and average loss\n",
    "    return correct_predictions.double() / n_examples, np.mean(losses)\n"
   ]
  },
  {
   "cell_type": "code",
   "execution_count": 37,
   "metadata": {
    "id": "9Hh5mCCztUrk"
   },
   "outputs": [
    {
     "name": "stdout",
     "output_type": "stream",
     "text": [
      "Epoch 1/2\n",
      "----------\n",
      "Train loss 2.920616456270218 accuracy 0.8241206030150754\n",
      "0 , 3 , type a, type b official reading pending. white blood cell count is elevated at 24. 8 with 96 % neutrophils and hemoglobin of 12. 4. electrocardiogram shows atrial fibrillation with a rapid ventricular response. no sign of ischemia. influenza ab swab is pending at this time. assessment : 1. pneumonia, right lower lobe, possible sepsis. aspiration is possible.\n",
      "Val   loss 1.0326928496360779 accuracy 0.98\n",
      "\n",
      "Epoch 2/2\n",
      "----------\n",
      "Train loss 0.9856191217899323 accuracy 0.9673366834170855\n",
      "0 , 3 , type a, type b official reading pending. white blood cell count is elevated at 24. 8 with 96 % neutrophils and hemoglobin of 12. 4. electrocardiogram shows atrial fibrillation with a rapid ventricular response. no sign of ischemia. influenza ab swab is pending at this time. assessment : 1. pneumonia, right lower lobe, possible sepsis. aspiration is possible.\n",
      "Val   loss 0.5789444616862706 accuracy 0.98\n",
      "\n"
     ]
    }
   ],
   "source": [
    "from collections import defaultdict\n",
    "\n",
    "# Initialize defaultdict to store training and validation metrics\n",
    "history = defaultdict(list)\n",
    "\n",
    "# Initialize best accuracy\n",
    "best_accuracy = 0\n",
    "\n",
    "# Loop over each epoch\n",
    "for epoch in range(EPOCHS):\n",
    "    print(f'Epoch {epoch + 1}/{EPOCHS}')\n",
    "    print('-' * 10)\n",
    "\n",
    "    # Train the model for one epoch\n",
    "    train_acc, train_loss = train_epoch(\n",
    "        clinic_model,\n",
    "        train_data_loader,\n",
    "        loss_fn,\n",
    "        optimizer,\n",
    "        device,\n",
    "        scheduler,\n",
    "        len(train_df)\n",
    "    )\n",
    "\n",
    "    # Print training loss and accuracy\n",
    "    print(f'Train loss {train_loss} accuracy {train_acc}')\n",
    "\n",
    "    # Evaluate the model on the validation set\n",
    "    val_acc, val_loss = eval_model(\n",
    "        clinic_model,\n",
    "        val_data_loader,\n",
    "        loss_fn,\n",
    "        device,\n",
    "        len(val_df)\n",
    "    )\n",
    "\n",
    "    # Print validation loss and accuracy\n",
    "    print(f'Val   loss {val_loss} accuracy {val_acc}')\n",
    "    print()\n",
    "\n",
    "    # Update history dictionary with training and validation metrics\n",
    "    history['train_acc'].append(train_acc)\n",
    "    history['train_loss'].append(train_loss)\n",
    "    history['val_acc'].append(val_acc)\n",
    "    history['val_loss'].append(val_loss)\n",
    "\n",
    "    # Save the best model if the current validation accuracy is better than the best accuracy\n",
    "    if val_acc > best_accuracy:\n",
    "        torch.save(model.state_dict(), 'best_model_state.bin')\n",
    "        best_accuracy = val_acc\n"
   ]
  },
  {
   "cell_type": "code",
   "execution_count": 38,
   "metadata": {
    "id": "vSGVikvND7b4"
   },
   "outputs": [
    {
     "data": {
      "image/png": "[encoded data removed]",
      "text/plain": [
       "<Figure size 640x480 with 1 Axes>"
      ]
     },
     "metadata": {},
     "output_type": "display_data"
    }
   ],
   "source": [
    "plt.plot(history['train_acc'], label='train accuracy')\n",
    "\n",
    "plt.plot(history['val_acc'], label='validation accuracy')\n",
    "\n",
    "plt.title('Training history')\n",
    "\n",
    "plt.ylabel('Accuracy')\n",
    "\n",
    "plt.xlabel('Epoch')\n",
    "\n",
    "plt.legend()\n",
    "\n",
    "plt.ylim([0, 1]);"
   ]
  },
  {
   "cell_type": "code",
   "execution_count": 39,
   "metadata": {
    "id": "nlrBXSmGEGkM"
   },
   "outputs": [
    {
     "name": "stdout",
     "output_type": "stream",
     "text": [
      "0 , 3 , type a, type b problem # 2 : cough. the patient presented with aggressive cough. she had a chest ct done, which showed minimal central _ _ _ _ _ _ passage to upper lobes bilaterally, a nonspecific finding. the patient had cultures done. at the time of discharge, they were negative for ab by stain. however, cultures will be called several weeks after culture. problem # 3. hypertension. the patient will continue her medications she was on, which includes norvasc and hydrochlorothiazide.\n",
      "0 , 3 , type a, type b a herpes simplex virus swab was sent on his lower lip lesion, although the results were erroneously canceled on the computer. influenza ab was sent and was negative. he had several blood cultures during his hospitalization, as well as a urine culture, which all remained negative, with no growth.\n"
     ]
    },
    {
     "data": {
      "text/plain": [
       "0.96"
      ]
     },
     "execution_count": 39,
     "metadata": {},
     "output_type": "execute_result"
    }
   ],
   "source": [
    "test_acc, _ = eval_model(\n",
    "\n",
    "  clinic_model,\n",
    "\n",
    "  test_data_loader,\n",
    "\n",
    "  loss_fn,\n",
    "\n",
    "  device,\n",
    "\n",
    "  len(test_df)\n",
    "\n",
    ")\n",
    "\n",
    "test_acc.item()"
   ]
  },
  {
   "cell_type": "code",
   "execution_count": 40,
   "metadata": {
    "id": "P_EDrZ4bES9R"
   },
   "outputs": [],
   "source": [
    "def get_predictions(model, data_loader):\n",
    "\n",
    "  model = model.eval()\n",
    "\n",
    "  text = []\n",
    "\n",
    "  predictions = []\n",
    "\n",
    "  real_values = []\n",
    "  texts = []\n",
    "  \n",
    "\n",
    "  with torch.no_grad():\n",
    "\n",
    "    for d in data_loader:\n",
    "\n",
    "\n",
    "      input_ids = d[\"input_ids\"].to(device)\n",
    "\n",
    "      attention_mask = d[\"attention_mask\"].to(device)\n",
    "      token_type_ids = d[\"token_type_ids\"].to(device)\n",
    "\n",
    "\n",
    "      targets = d[\"label_\"].to(device)\n",
    "\n",
    "      outputs = model(\n",
    "\n",
    "        input_ids=input_ids,\n",
    "\n",
    "        attention_mask=attention_mask,\n",
    "        token_type_ids = token_type_ids,\n",
    "\n",
    "      )\n",
    "\n",
    "      _, preds = torch.max(outputs, dim=1)\n",
    "\n",
    "      #for xx in input_ids:\n",
    "        #text.extend(tokenizer.decode(xx,skip_special_tokens=True))\n",
    "\n",
    "      predictions.extend(preds)\n",
    "\n",
    "      real_values.extend(d['label_'])\n",
    "  texts.extend(text)\n",
    "\n",
    "  predictions = torch.stack(predictions).cpu()\n",
    "\n",
    "  #texts = torch.stack(texts).cpu()\n",
    "\n",
    "  real_values = torch.stack(real_values).cpu()\n",
    "\n",
    "  return  predictions, real_values"
   ]
  },
  {
   "cell_type": "code",
   "execution_count": 41,
   "metadata": {
    "id": "Z0EulXWVEcjv"
   },
   "outputs": [],
   "source": [
    "y_pred, y_test = get_predictions(clinic_model,test_data_loader)\n"
   ]
  },
  {
   "cell_type": "code",
   "execution_count": 42,
   "metadata": {
    "id": "CS2xYcYTmaim"
   },
   "outputs": [],
   "source": [
    "text = []\n",
    "for d in test_data_loader:\n",
    "  for dd in d['input_ids']:\n",
    "    text.append(tokenizer.decode(dd, skip_special_tokens=True))"
   ]
  },
  {
   "cell_type": "code",
   "execution_count": 43,
   "metadata": {
    "colab": {
     "base_uri": "https://localhost:8080/"
    },
    "id": "PHh__MSs7gkP",
    "outputId": "16930db9-1862-415b-d013-2180f4d60d9a"
   },
   "outputs": [
    {
     "data": {
      "text/plain": [
       "50"
      ]
     },
     "execution_count": 43,
     "metadata": {},
     "output_type": "execute_result"
    }
   ],
   "source": [
    "prediction = []\n",
    "for i in y_pred:\n",
    "  prediction.append(i.item())\n",
    "len(prediction)"
   ]
  },
  {
   "cell_type": "code",
   "execution_count": 44,
   "metadata": {
    "colab": {
     "base_uri": "https://localhost:8080/"
    },
    "id": "slf3vZWn758X",
    "outputId": "b4318c80-dc5a-457d-b39b-31b4677a8616"
   },
   "outputs": [
    {
     "data": {
      "text/plain": [
       "50"
      ]
     },
     "execution_count": 44,
     "metadata": {},
     "output_type": "execute_result"
    }
   ],
   "source": [
    "real = []\n",
    "for i in y_test:\n",
    "  real.append(i.item())\n",
    "len(real)"
   ]
  },
  {
   "cell_type": "code",
   "execution_count": 45,
   "metadata": {
    "id": "DbWHI9Yg8E1d"
   },
   "outputs": [],
   "source": [
    "test_result_df = pd.DataFrame()\n",
    "test_result_df['text'] = text\n",
    "test_result_df['prediction'] = prediction\n",
    "test_result_df['real'] = real\n"
   ]
  },
  {
   "cell_type": "code",
   "execution_count": 46,
   "metadata": {
    "id": "TCwU7LgO9snW"
   },
   "outputs": [],
   "source": [
    "test_result_df.to_csv('test_result_prediction.tsv', sep = '|')"
   ]
  },
  {
   "cell_type": "code",
   "execution_count": 47,
   "metadata": {
    "id": "4yVciTO1EdZC"
   },
   "outputs": [
    {
     "name": "stdout",
     "output_type": "stream",
     "text": [
      "tensor(0)\n",
      "tensor(0)\n",
      "tensor(0)\n",
      "tensor(0)\n",
      "tensor(0)\n",
      "tensor(0)\n",
      "tensor(0)\n",
      "tensor(0)\n",
      "tensor(0)\n",
      "tensor(0)\n",
      "tensor(0)\n",
      "tensor(0)\n",
      "tensor(0)\n",
      "tensor(0)\n",
      "tensor(0)\n",
      "tensor(0)\n",
      "tensor(0)\n",
      "tensor(0)\n",
      "tensor(0)\n",
      "tensor(0)\n",
      "tensor(0)\n",
      "tensor(0)\n",
      "tensor(0)\n",
      "tensor(0)\n",
      "tensor(0)\n",
      "tensor(0)\n",
      "tensor(0)\n",
      "tensor(0)\n",
      "tensor(0)\n",
      "tensor(0)\n",
      "tensor(0)\n",
      "tensor(0)\n",
      "tensor(0)\n",
      "tensor(0)\n",
      "tensor(0)\n",
      "tensor(0)\n",
      "tensor(0)\n",
      "tensor(0)\n",
      "tensor(0)\n",
      "tensor(0)\n",
      "tensor(0)\n",
      "tensor(0)\n",
      "tensor(0)\n",
      "tensor(0)\n",
      "tensor(0)\n",
      "tensor(0)\n",
      "tensor(0)\n",
      "tensor(0)\n",
      "tensor(0)\n",
      "tensor(0)\n"
     ]
    }
   ],
   "source": [
    "#print(classification_report(y_test, y_pred, target_names=class_names))\n",
    "#print(y_pred)\n",
    "for i in y_pred:\n",
    "  print(i)"
   ]
  },
  {
   "cell_type": "markdown",
   "metadata": {
    "id": "Qn76A4ho2TvG"
   },
   "source": []
  }
 ],
 "metadata": {
  "accelerator": "GPU",
  "colab": {
   "authorship_tag": "ABX9TyNR0+AmAA7UB6Ys3t8Cgisz",
   "collapsed_sections": [],
   "name": "PreTrained_ME_BioClinical.ipynb",
   "provenance": []
  },
  "kernelspec": {
   "display_name": "Python 3 (ipykernel)",
   "language": "python",
   "name": "python3"
  },
  "language_info": {
   "codemirror_mode": {
    "name": "ipython",
    "version": 3
   },
   "file_extension": ".py",
   "mimetype": "text/x-python",
   "name": "python",
   "nbconvert_exporter": "python",
   "pygments_lexer": "ipython3",
   "version": "3.10.9"
  }
 },
 "nbformat": 4,
 "nbformat_minor": 1
}
