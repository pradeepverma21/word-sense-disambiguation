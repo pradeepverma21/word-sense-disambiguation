{
 "cells": [
  {
   "cell_type": "markdown",
   "id": "2e5bf82c",
   "metadata": {},
   "source": [
    "# Word Sense Disambiguation\n",
    "<br>\n",
    "by : Pradeep Verma"
   ]
  },
  {
   "cell_type": "markdown",
   "id": "3db86457",
   "metadata": {},
   "source": [
    "# Importing the libraies"
   ]
  },
  {
   "cell_type": "markdown",
   "id": "ac28aef3",
   "metadata": {},
   "source": [
    "Importing libraries for the  project is crucial for efficient development:\n",
    "\n",
    "- **Time-saving**: Pre-implemented functions save time.\n",
    "- **Optimized algorithms**: Efficient computation, especially with large datasets.\n",
    "- **Community support**: Access to knowledge and resources.\n",
    "- **Standardized interfaces**: Promotes code reusability.\n",
    "- **Flexibility**: Offers a wide range of algorithms.\n",
    "- **Ease of use**: User-friendly APIs and documentation."
   ]
  },
  {
   "cell_type": "code",
   "execution_count": 2,
   "id": "8ed2326b",
   "metadata": {},
   "outputs": [],
   "source": [
    "import numpy as np \n",
    "import pandas as pd\n",
    "import string"
   ]
  },
  {
   "cell_type": "markdown",
   "id": "471669a3",
   "metadata": {},
   "source": [
    "# Loading and downloading the dataset "
   ]
  },
  {
   "cell_type": "markdown",
   "id": "f8d13af5",
   "metadata": {},
   "source": [
    "- **Size**: The dataset contains 37,500 rows and 75 columns.\n",
    "- **Context**: Each column represents an acronym with 500 associated contexts.\n",
    "\n",
    "[Download Dataset](https://conservancy.umn.edu/handle/11299/137703)"
   ]
  },
  {
   "cell_type": "code",
   "execution_count": 3,
   "id": "a9956f5b",
   "metadata": {},
   "outputs": [],
   "source": [
    "df = pd.read_excel(\"WSD Dataset.xlsx\")"
   ]
  },
  {
   "cell_type": "code",
   "execution_count": 4,
   "id": "9cb2e681",
   "metadata": {
    "scrolled": false
   },
   "outputs": [
    {
     "data": {
      "text/html": [
       "<div>\n",
       "<style scoped>\n",
       "    .dataframe tbody tr th:only-of-type {\n",
       "        vertical-align: middle;\n",
       "    }\n",
       "\n",
       "    .dataframe tbody tr th {\n",
       "        vertical-align: top;\n",
       "    }\n",
       "\n",
       "    .dataframe thead th {\n",
       "        text-align: right;\n",
       "    }\n",
       "</style>\n",
       "<table border=\"1\" class=\"dataframe\">\n",
       "  <thead>\n",
       "    <tr style=\"text-align: right;\">\n",
       "      <th></th>\n",
       "      <th>Abbreviation</th>\n",
       "      <th>Sense</th>\n",
       "      <th>Context</th>\n",
       "    </tr>\n",
       "  </thead>\n",
       "  <tbody>\n",
       "    <tr>\n",
       "      <th>0</th>\n",
       "      <td>AB</td>\n",
       "      <td>abortion</td>\n",
       "      <td>_%#NAME#%_ _%#NAME#%_ is a 29-year-old gravida...</td>\n",
       "    </tr>\n",
       "    <tr>\n",
       "      <th>1</th>\n",
       "      <td>AB</td>\n",
       "      <td>abortion</td>\n",
       "      <td>She is now bleeding quite heavily. Ultrasound ...</td>\n",
       "    </tr>\n",
       "    <tr>\n",
       "      <th>2</th>\n",
       "      <td>AB</td>\n",
       "      <td>abortion</td>\n",
       "      <td>ALLERGIES: Heparin and Imitrex. PAST OB HISTOR...</td>\n",
       "    </tr>\n",
       "    <tr>\n",
       "      <th>3</th>\n",
       "      <td>AB</td>\n",
       "      <td>abortion</td>\n",
       "      <td>She had a pelvic ultrasound at Park Nicollet o...</td>\n",
       "    </tr>\n",
       "    <tr>\n",
       "      <th>4</th>\n",
       "      <td>AB</td>\n",
       "      <td>abortion</td>\n",
       "      <td>On _%#MMDD2007#%_, normal anatomy with anterio...</td>\n",
       "    </tr>\n",
       "  </tbody>\n",
       "</table>\n",
       "</div>"
      ],
      "text/plain": [
       "  Abbreviation     Sense                                            Context\n",
       "0           AB  abortion  _%#NAME#%_ _%#NAME#%_ is a 29-year-old gravida...\n",
       "1           AB  abortion  She is now bleeding quite heavily. Ultrasound ...\n",
       "2           AB  abortion  ALLERGIES: Heparin and Imitrex. PAST OB HISTOR...\n",
       "3           AB  abortion  She had a pelvic ultrasound at Park Nicollet o...\n",
       "4           AB  abortion  On _%#MMDD2007#%_, normal anatomy with anterio..."
      ]
     },
     "execution_count": 4,
     "metadata": {},
     "output_type": "execute_result"
    }
   ],
   "source": [
    "df.head()"
   ]
  },
  {
   "cell_type": "markdown",
   "id": "c95ac9a7",
   "metadata": {},
   "source": [
    "The dataset contains information about abbreviations along with their senses and associated contexts:\n",
    "\n",
    "- **Abbreviations**: This column contains the abbreviations or acronyms.\n",
    "- **Sense**: This column represents the sense or meaning of the corresponding abbreviation.\n",
    "- **Context**: This column provides the context or usage examples associated with each abbreviation.\n",
    "\n",
    "### Summary:\n",
    "- **Number of Rows**: 37500 \n",
    "- **Number of Columns**: 3\n",
    "- **Data Types**: \n",
    "  - Abbreviations: String\n",
    "  - Sense: String\n",
    "  - Context: String"
   ]
  },
  {
   "cell_type": "code",
   "execution_count": 5,
   "id": "0d3a0d17",
   "metadata": {},
   "outputs": [],
   "source": [
    "df[\"Abbreviations\"] = df['Abbreviation']\n",
    "df['LABEL'] = df[\"Sense\"]\n",
    "df['TEXT'] = df[\"Context\"]"
   ]
  },
  {
   "cell_type": "markdown",
   "id": "1b7564a3",
   "metadata": {},
   "source": [
    "Explanation:\n",
    "\n",
    "- **Abbreviations**: Assigning values from the \"Abbreviation\" column to a new column named \"Abbreviations\".\n",
    "- **LABEL**: Assigning values from the \"Sense\" column to a new column named \"LABEL\".\n",
    "- **TEXT**: Assigning values from the \"Context\" column to a new column named \"TEXT\"."
   ]
  },
  {
   "cell_type": "code",
   "execution_count": 6,
   "id": "fef246a2",
   "metadata": {},
   "outputs": [],
   "source": [
    "del df['Abbreviation'], df['Sense'], df['Context']"
   ]
  },
  {
   "cell_type": "markdown",
   "id": "25ab033a",
   "metadata": {},
   "source": [
    "Explanation:\n",
    "\n",
    "The columns \"Abbreviation\", \"Sense\", and \"Context\" are deleted from the DataFrame (df).\n",
    "Removing these columns may be necessary if they are no longer needed for the analysis or modeling tasks."
   ]
  },
  {
   "cell_type": "markdown",
   "id": "044a1088",
   "metadata": {},
   "source": [
    "# Removing Punctuations for the TEXT "
   ]
  },
  {
   "cell_type": "code",
   "execution_count": 7,
   "id": "5a9f91b1",
   "metadata": {},
   "outputs": [],
   "source": [
    "def removePunctuation(df):\n",
    "    return [str(t).translate(str.maketrans('','',string.punctuation)) for t in df['TEXT']]\n",
    "\n",
    "df['TEXT'] = removePunctuation(df)"
   ]
  },
  {
   "cell_type": "markdown",
   "id": "d042e136",
   "metadata": {},
   "source": [
    "Explanation:\n",
    "\n",
    "- **removePunctuation function**: This function takes a DataFrame (df) as input, iterates over the 'TEXT' column, and removes punctuation from each text entry using Python's translate function along with str.maketrans.\n",
    "- **Applying the function**: The function is applied to the 'TEXT' column of the DataFrame (df) using list comprehension, replacing the original text entries with the cleaned ones."
   ]
  },
  {
   "cell_type": "markdown",
   "id": "01026d38",
   "metadata": {},
   "source": [
    "# Creating Tokens from TEXT data "
   ]
  },
  {
   "cell_type": "code",
   "execution_count": 8,
   "id": "8878a182",
   "metadata": {},
   "outputs": [],
   "source": [
    "def createTokens(df):\n",
    "    return df['TEXT'].apply(lambda x: x.split(' '))\n",
    "\n",
    "df['TEXT'] = createTokens(df)"
   ]
  },
  {
   "cell_type": "markdown",
   "id": "ab17cecc",
   "metadata": {},
   "source": [
    "Explanation:\n",
    "\n",
    "- **createTokens function**: This function takes a DataFrame (df) as input and applies a lambda function to split each text entry in the 'TEXT' column into tokens using whitespace as the delimiter.\n",
    "- **Applying the function**: The function is applied to the 'TEXT' column of the DataFrame (df), replacing the original text entries with lists of tokens."
   ]
  },
  {
   "cell_type": "markdown",
   "id": "68c81530",
   "metadata": {},
   "source": [
    "# Importing Spacy "
   ]
  },
  {
   "cell_type": "code",
   "execution_count": 9,
   "id": "96930550",
   "metadata": {},
   "outputs": [],
   "source": [
    "import spacy\n",
    "nlp = spacy.load('en_core_web_sm')"
   ]
  },
  {
   "cell_type": "markdown",
   "id": "f7785aee",
   "metadata": {},
   "source": [
    "Explanation:\n",
    "\n",
    "- **Importing spaCy**: The spacy library is imported to utilize its natural language processing capabilities.\n",
    "- **Loading English Language Model**: The English language model ('en_core_web_sm') is loaded using the spacy.load() function and assigned to the variable nlp."
   ]
  },
  {
   "cell_type": "markdown",
   "id": "97d8b04b",
   "metadata": {},
   "source": [
    "# Removing Stopwords from TEXT "
   ]
  },
  {
   "cell_type": "code",
   "execution_count": 10,
   "id": "5e6616c3",
   "metadata": {},
   "outputs": [],
   "source": [
    "def removeStop(df):\n",
    "    stopWords = spacy.lang.en.stop_words.STOP_WORDS\n",
    "    [stopWords.remove(t) for t in df['Abbreviations'].str.lower() if t in stopWords]\n",
    "    return df['TEXT'].apply(lambda x: [item for item in x if not item in stopWords])\n",
    "\n",
    "df['TEXT']= removeStop(df)"
   ]
  },
  {
   "cell_type": "markdown",
   "id": "ea47b19d",
   "metadata": {},
   "source": [
    "Explanation:\n",
    "\n",
    "- **removeStop function**: This function takes a DataFrame (df) as input and removes stopwords from each text entry in the 'TEXT' column. It utilizes the stop words list from the spaCy English language model.\n",
    "- **Removing stopwords**: Stopwords are removed from each text entry, excluding any stop words that are part of the abbreviations listed in the 'Abbreviations' column.\n",
    "- **Applying the function**: The function is applied to the 'TEXT' column of the DataFrame (df), updating the column with the text data without stopwords."
   ]
  },
  {
   "cell_type": "markdown",
   "id": "a26e314c",
   "metadata": {},
   "source": [
    "# Converting TEXT to lowercase "
   ]
  },
  {
   "cell_type": "code",
   "execution_count": 11,
   "id": "0f47cd81",
   "metadata": {},
   "outputs": [],
   "source": [
    "def tolower(df):\n",
    "    return [' '.join([word.lower() for word in text]) for text in df['TEXT']]\n",
    "\n",
    "df['TEXT'] = tolower(df)"
   ]
  },
  {
   "cell_type": "markdown",
   "id": "fc9f9e43",
   "metadata": {},
   "source": [
    "Explanation:\n",
    "\n",
    "- **tolower function**: This function takes a DataFrame (df) as input and converts each word in the text data to lowercase.\n",
    "- **Converting to lowercase**: Each text entry is processed to convert all words to lowercase using list comprehension and the lower() method.\n",
    "- **Applying the function**: The function is applied to the 'TEXT' column of the DataFrame (df), updating the column with the text data converted to lowercase."
   ]
  },
  {
   "cell_type": "markdown",
   "id": "7c900bd8",
   "metadata": {},
   "source": [
    "# Splitting TEXT into Tokens "
   ]
  },
  {
   "cell_type": "code",
   "execution_count": 12,
   "id": "ebff380c",
   "metadata": {},
   "outputs": [
    {
     "data": {
      "text/html": [
       "<div>\n",
       "<style scoped>\n",
       "    .dataframe tbody tr th:only-of-type {\n",
       "        vertical-align: middle;\n",
       "    }\n",
       "\n",
       "    .dataframe tbody tr th {\n",
       "        vertical-align: top;\n",
       "    }\n",
       "\n",
       "    .dataframe thead th {\n",
       "        text-align: right;\n",
       "    }\n",
       "</style>\n",
       "<table border=\"1\" class=\"dataframe\">\n",
       "  <thead>\n",
       "    <tr style=\"text-align: right;\">\n",
       "      <th></th>\n",
       "      <th>Abbreviations</th>\n",
       "      <th>LABEL</th>\n",
       "      <th>TEXT</th>\n",
       "    </tr>\n",
       "  </thead>\n",
       "  <tbody>\n",
       "    <tr>\n",
       "      <th>0</th>\n",
       "      <td>AB</td>\n",
       "      <td>abortion</td>\n",
       "      <td>[name, name, 29yearold, gravida, 3, para, 2002...</td>\n",
       "    </tr>\n",
       "    <tr>\n",
       "      <th>1</th>\n",
       "      <td>AB</td>\n",
       "      <td>abortion</td>\n",
       "      <td>[she, bleeding, heavily, ultrasound, morning, ...</td>\n",
       "    </tr>\n",
       "    <tr>\n",
       "      <th>2</th>\n",
       "      <td>AB</td>\n",
       "      <td>abortion</td>\n",
       "      <td>[allergies, heparin, imitrex, past, ob, histor...</td>\n",
       "    </tr>\n",
       "    <tr>\n",
       "      <th>3</th>\n",
       "      <td>AB</td>\n",
       "      <td>abortion</td>\n",
       "      <td>[she, pelvic, ultrasound, park, nicollet, mmdd...</td>\n",
       "    </tr>\n",
       "    <tr>\n",
       "      <th>4</th>\n",
       "      <td>AB</td>\n",
       "      <td>abortion</td>\n",
       "      <td>[on, mmdd2007, normal, anatomy, anterior, plac...</td>\n",
       "    </tr>\n",
       "  </tbody>\n",
       "</table>\n",
       "</div>"
      ],
      "text/plain": [
       "  Abbreviations     LABEL                                               TEXT\n",
       "0            AB  abortion  [name, name, 29yearold, gravida, 3, para, 2002...\n",
       "1            AB  abortion  [she, bleeding, heavily, ultrasound, morning, ...\n",
       "2            AB  abortion  [allergies, heparin, imitrex, past, ob, histor...\n",
       "3            AB  abortion  [she, pelvic, ultrasound, park, nicollet, mmdd...\n",
       "4            AB  abortion  [on, mmdd2007, normal, anatomy, anterior, plac..."
      ]
     },
     "execution_count": 12,
     "metadata": {},
     "output_type": "execute_result"
    }
   ],
   "source": [
    "df['TEXT'] = df['TEXT'].str.split()\n",
    "\n",
    "df.head()"
   ]
  },
  {
   "cell_type": "markdown",
   "id": "690430da",
   "metadata": {},
   "source": [
    "Explanation:\n",
    "\n",
    "The text data in the 'TEXT' column is split into tokens using the split() method.<br>\n",
    "Each entry in the 'TEXT' column becomes a list of tokens, where each token represents a word from the original text."
   ]
  },
  {
   "cell_type": "code",
   "execution_count": 13,
   "id": "bacf6e9e",
   "metadata": {},
   "outputs": [],
   "source": [
    "df['TEXT'] = df['TEXT'].apply(lambda x: ' '.join(x))"
   ]
  },
  {
   "cell_type": "markdown",
   "id": "47315fd6",
   "metadata": {},
   "source": [
    "# Importing the libraires and module for model building "
   ]
  },
  {
   "cell_type": "code",
   "execution_count": 14,
   "id": "f99500e2",
   "metadata": {},
   "outputs": [],
   "source": [
    "from sklearn.model_selection import train_test_split\n",
    "from sklearn.feature_extraction.text import TfidfVectorizer\n",
    "from sklearn.linear_model import LogisticRegression\n",
    "from sklearn.neighbors import KNeighborsClassifier\n",
    "from sklearn import svm\n",
    "from sklearn.tree import DecisionTreeClassifier\n",
    "from sklearn.ensemble import RandomForestClassifier\n",
    "from sklearn.metrics import accuracy_score"
   ]
  },
  {
   "cell_type": "markdown",
   "id": "a4470363",
   "metadata": {},
   "source": [
    "Explanation:\n",
    "\n",
    "- **train_test_split**: Used for splitting the dataset into training and testing sets.\n",
    "- **TfidfVectorizer**: Used for converting text data into TF-IDF vectors.\n",
    "- **LogisticRegression, KNeighborsClassifier, svm, DecisionTreeClassifier, RandomForestClassifier**: Various classifiers available in scikit-learn for classification tasks.\n",
    "- **accuracy_score**: Metric to evaluate the accuracy of the classifier predictions.<br>\n",
    "These modules are essential for building and evaluating machine learning models."
   ]
  },
  {
   "cell_type": "markdown",
   "id": "4beb342b",
   "metadata": {},
   "source": [
    "# Spliting the data Into Training and Testing"
   ]
  },
  {
   "cell_type": "code",
   "execution_count": 15,
   "id": "9a1ba699",
   "metadata": {},
   "outputs": [],
   "source": [
    "X_train, X_test, y_train, y_test = train_test_split(df['TEXT'], df['LABEL'], test_size=0.2, random_state=42)\n"
   ]
  },
  {
   "cell_type": "markdown",
   "id": "f8fc458d",
   "metadata": {},
   "source": [
    "Explanation:\n",
    "\n",
    "- **X_train**: Training features, containing the text data.\n",
    "- **X_test**: Testing features, containing the text data.\n",
    "- **y_train**: Training labels, containing the corresponding labels.\n",
    "- **y_test**: Testing labels, containing the corresponding labels.\n",
    "- **train_test_split**: Function used to split the dataset into training and testing sets.\n",
    "- **test_size**=0.2: Specifies the proportion of the dataset to include in the testing set (here, 20%).\n",
    "- **random_state=42**: Provides a seed value for randomization, ensuring reproducibility."
   ]
  },
  {
   "cell_type": "markdown",
   "id": "2a76a9c3",
   "metadata": {},
   "source": [
    "# Converting Text Data to TF-IDF Vectors"
   ]
  },
  {
   "cell_type": "code",
   "execution_count": 16,
   "id": "678e93b3",
   "metadata": {},
   "outputs": [],
   "source": [
    "tfidf_vectorizer = TfidfVectorizer(max_features=5000)  \n",
    "X_train_tfidf = tfidf_vectorizer.fit_transform(X_train)\n",
    "X_test_tfidf = tfidf_vectorizer.transform(X_test)"
   ]
  },
  {
   "cell_type": "markdown",
   "id": "6d020dbc",
   "metadata": {},
   "source": [
    "Explanation:\n",
    "\n",
    "- **tfidf_vectorizer**: Object of TfidfVectorizer class initialized with maximum features set to 5000.\n",
    "- **fit_transform**: Method used to fit the vectorizer to the training data and transform it into TF-IDF vectors.\n",
    "- **transform**: Method used to transform the testing data into TF-IDF vectors using the same vectorizer fitted on the training data.<br>\n",
    "TF-IDF vectorization converts text data into numerical vectors, where each feature represents the importance of a term in a document relative to the entire corpus."
   ]
  },
  {
   "cell_type": "markdown",
   "id": "b661f5cc",
   "metadata": {},
   "source": [
    "# Logistic Regression "
   ]
  },
  {
   "cell_type": "code",
   "execution_count": 17,
   "id": "9a694f05",
   "metadata": {
    "scrolled": true
   },
   "outputs": [
    {
     "name": "stderr",
     "output_type": "stream",
     "text": [
      "C:\\ProgramData\\anaconda3\\lib\\site-packages\\sklearn\\linear_model\\_logistic.py:458: ConvergenceWarning: lbfgs failed to converge (status=1):\n",
      "STOP: TOTAL NO. of ITERATIONS REACHED LIMIT.\n",
      "\n",
      "Increase the number of iterations (max_iter) or scale the data as shown in:\n",
      "    https://scikit-learn.org/stable/modules/preprocessing.html\n",
      "Please also refer to the documentation for alternative solver options:\n",
      "    https://scikit-learn.org/stable/modules/linear_model.html#logistic-regression\n",
      "  n_iter_i = _check_optimize_result(\n"
     ]
    },
    {
     "data": {
      "text/html": [
       "<style>#sk-container-id-1 {color: black;background-color: white;}#sk-container-id-1 pre{padding: 0;}#sk-container-id-1 div.sk-toggleable {background-color: white;}#sk-container-id-1 label.sk-toggleable__label {cursor: pointer;display: block;width: 100%;margin-bottom: 0;padding: 0.3em;box-sizing: border-box;text-align: center;}#sk-container-id-1 label.sk-toggleable__label-arrow:before {content: \"▸\";float: left;margin-right: 0.25em;color: #696969;}#sk-container-id-1 label.sk-toggleable__label-arrow:hover:before {color: black;}#sk-container-id-1 div.sk-estimator:hover label.sk-toggleable__label-arrow:before {color: black;}#sk-container-id-1 div.sk-toggleable__content {max-height: 0;max-width: 0;overflow: hidden;text-align: left;background-color: #f0f8ff;}#sk-container-id-1 div.sk-toggleable__content pre {margin: 0.2em;color: black;border-radius: 0.25em;background-color: #f0f8ff;}#sk-container-id-1 input.sk-toggleable__control:checked~div.sk-toggleable__content {max-height: 200px;max-width: 100%;overflow: auto;}#sk-container-id-1 input.sk-toggleable__control:checked~label.sk-toggleable__label-arrow:before {content: \"▾\";}#sk-container-id-1 div.sk-estimator input.sk-toggleable__control:checked~label.sk-toggleable__label {background-color: #d4ebff;}#sk-container-id-1 div.sk-label input.sk-toggleable__control:checked~label.sk-toggleable__label {background-color: #d4ebff;}#sk-container-id-1 input.sk-hidden--visually {border: 0;clip: rect(1px 1px 1px 1px);clip: rect(1px, 1px, 1px, 1px);height: 1px;margin: -1px;overflow: hidden;padding: 0;position: absolute;width: 1px;}#sk-container-id-1 div.sk-estimator {font-family: monospace;background-color: #f0f8ff;border: 1px dotted black;border-radius: 0.25em;box-sizing: border-box;margin-bottom: 0.5em;}#sk-container-id-1 div.sk-estimator:hover {background-color: #d4ebff;}#sk-container-id-1 div.sk-parallel-item::after {content: \"\";width: 100%;border-bottom: 1px solid gray;flex-grow: 1;}#sk-container-id-1 div.sk-label:hover label.sk-toggleable__label {background-color: #d4ebff;}#sk-container-id-1 div.sk-serial::before {content: \"\";position: absolute;border-left: 1px solid gray;box-sizing: border-box;top: 0;bottom: 0;left: 50%;z-index: 0;}#sk-container-id-1 div.sk-serial {display: flex;flex-direction: column;align-items: center;background-color: white;padding-right: 0.2em;padding-left: 0.2em;position: relative;}#sk-container-id-1 div.sk-item {position: relative;z-index: 1;}#sk-container-id-1 div.sk-parallel {display: flex;align-items: stretch;justify-content: center;background-color: white;position: relative;}#sk-container-id-1 div.sk-item::before, #sk-container-id-1 div.sk-parallel-item::before {content: \"\";position: absolute;border-left: 1px solid gray;box-sizing: border-box;top: 0;bottom: 0;left: 50%;z-index: -1;}#sk-container-id-1 div.sk-parallel-item {display: flex;flex-direction: column;z-index: 1;position: relative;background-color: white;}#sk-container-id-1 div.sk-parallel-item:first-child::after {align-self: flex-end;width: 50%;}#sk-container-id-1 div.sk-parallel-item:last-child::after {align-self: flex-start;width: 50%;}#sk-container-id-1 div.sk-parallel-item:only-child::after {width: 0;}#sk-container-id-1 div.sk-dashed-wrapped {border: 1px dashed gray;margin: 0 0.4em 0.5em 0.4em;box-sizing: border-box;padding-bottom: 0.4em;background-color: white;}#sk-container-id-1 div.sk-label label {font-family: monospace;font-weight: bold;display: inline-block;line-height: 1.2em;}#sk-container-id-1 div.sk-label-container {text-align: center;}#sk-container-id-1 div.sk-container {/* jupyter's `normalize.less` sets `[hidden] { display: none; }` but bootstrap.min.css set `[hidden] { display: none !important; }` so we also need the `!important` here to be able to override the default hidden behavior on the sphinx rendered scikit-learn.org. See: https://github.com/scikit-learn/scikit-learn/issues/21755 */display: inline-block !important;position: relative;}#sk-container-id-1 div.sk-text-repr-fallback {display: none;}</style><div id=\"sk-container-id-1\" class=\"sk-top-container\"><div class=\"sk-text-repr-fallback\"><pre>LogisticRegression()</pre><b>In a Jupyter environment, please rerun this cell to show the HTML representation or trust the notebook. <br />On GitHub, the HTML representation is unable to render, please try loading this page with nbviewer.org.</b></div><div class=\"sk-container\" hidden><div class=\"sk-item\"><div class=\"sk-estimator sk-toggleable\"><input class=\"sk-toggleable__control sk-hidden--visually\" id=\"sk-estimator-id-1\" type=\"checkbox\" checked><label for=\"sk-estimator-id-1\" class=\"sk-toggleable__label sk-toggleable__label-arrow\">LogisticRegression</label><div class=\"sk-toggleable__content\"><pre>LogisticRegression()</pre></div></div></div></div></div>"
      ],
      "text/plain": [
       "LogisticRegression()"
      ]
     },
     "execution_count": 17,
     "metadata": {},
     "output_type": "execute_result"
    }
   ],
   "source": [
    "lr = LogisticRegression()\n",
    "lr.fit(X_train_tfidf,y_train)\n"
   ]
  },
  {
   "cell_type": "markdown",
   "id": "4116204f",
   "metadata": {},
   "source": [
    "Explanation:\n",
    "\n",
    "- **LogisticRegression**: Instantiates a Logistic Regression classifier.\n",
    "- **fit**: Method used to train the Logistic Regression model on the TF-IDF transformed training data (X_train_tfidf) with corresponding labels (y_train)."
   ]
  },
  {
   "cell_type": "code",
   "execution_count": 18,
   "id": "2037a316",
   "metadata": {},
   "outputs": [],
   "source": [
    "y_pred1 = lr.predict(X_test_tfidf)"
   ]
  },
  {
   "cell_type": "code",
   "execution_count": 19,
   "id": "3779af1e",
   "metadata": {},
   "outputs": [],
   "source": [
    "score1=accuracy_score(y_test,y_pred1)\n"
   ]
  },
  {
   "cell_type": "code",
   "execution_count": 20,
   "id": "008e5aae",
   "metadata": {},
   "outputs": [
    {
     "data": {
      "text/plain": [
       "0.8416"
      ]
     },
     "execution_count": 20,
     "metadata": {},
     "output_type": "execute_result"
    }
   ],
   "source": [
    "score1"
   ]
  },
  {
   "cell_type": "markdown",
   "id": "b732e523",
   "metadata": {},
   "source": [
    "- The overall accuracy from the Logistic Regression algorithm is 84.16%"
   ]
  },
  {
   "cell_type": "code",
   "execution_count": 21,
   "id": "450c721f",
   "metadata": {
    "collapsed": true
   },
   "outputs": [
    {
     "name": "stderr",
     "output_type": "stream",
     "text": [
      "C:\\ProgramData\\anaconda3\\lib\\site-packages\\sklearn\\metrics\\_classification.py:1344: UndefinedMetricWarning: Precision and F-score are ill-defined and being set to 0.0 in labels with no predicted samples. Use `zero_division` parameter to control this behavior.\n",
      "  _warn_prf(average, modifier, msg_start, len(result))\n",
      "C:\\ProgramData\\anaconda3\\lib\\site-packages\\sklearn\\metrics\\_classification.py:1344: UndefinedMetricWarning: Precision and F-score are ill-defined and being set to 0.0 in labels with no predicted samples. Use `zero_division` parameter to control this behavior.\n",
      "  _warn_prf(average, modifier, msg_start, len(result))\n"
     ]
    },
    {
     "name": "stdout",
     "output_type": "stream",
     "text": [
      "Accuracy: 0.8416\n",
      "Classification Report:\n",
      "                                                    precision    recall  f1-score   support\n",
      "\n",
      "                                       (PO Box) C4       0.00      0.00      0.00         1\n",
      "                                        (class) IA       0.00      0.00      0.00         1\n",
      "                          (complement) component 3       0.44      0.35      0.39        48\n",
      "                          (complement) component 4       0.30      0.45      0.36        31\n",
      "                                         (drug) AC       0.82      0.94      0.88        35\n",
      "                                         (drug) IT       0.00      0.00      0.00         1\n",
      "                                         (drug) MS       0.00      0.00      0.00         1\n",
      "                                        (drug) PAC       0.00      0.00      0.00         1\n",
      "                                         (drug) PD       0.00      0.00      0.00         1\n",
      "                                         (drug) PR       0.00      0.00      0.00         1\n",
      "                                        (grade) IA       0.00      0.00      0.00         2\n",
      "                                        (grade) IB       0.00      0.00      0.00         2\n",
      "                                        (stage) C3       0.00      0.00      0.00         1\n",
      "                                        (stage) IA       0.95      0.97      0.96        64\n",
      "                                        (stage) IB       0.87      0.99      0.93        83\n",
      "                                       (status) IB       0.00      0.00      0.00         3\n",
      "                                         (type) IA       0.00      0.00      0.00         1\n",
      "                                         (type) IB       0.00      0.00      0.00         2\n",
      "             American Society of Anesthesiologists       1.00      0.63      0.77        19\n",
      "                                        BK (virus)       0.97      0.97      0.97        72\n",
      "                                        California       0.00      0.00      0.00         1\n",
      "                   Children's Depression Inventory       1.00      1.00      1.00        69\n",
      "                              District of Columbia       0.50      0.40      0.44         5\n",
      "                       Fairview Southdale Hospital       0.91      0.82      0.87        51\n",
      "                                   GENERAL ENGLISH       0.86      0.83      0.85        60\n",
      "                                              Iowa       0.00      0.00      0.00         2\n",
      "                                       Los Angeles       1.00      0.44      0.62         9\n",
      "                                              NAME       0.00      0.00      0.00         1\n",
      "                               Narcotics Anonymous       0.99      0.98      0.98        95\n",
      "                                 Parkinson disease       0.00      0.00      0.00         1\n",
      "                   Pneumocystis jiroveci pneumonia       0.82      0.92      0.86        59\n",
      "                                          T1 (MRI)       0.80      0.18      0.30        22\n",
      "                                          T2 (MRI)       0.68      0.87      0.77        47\n",
      "                                  T3 (ECG pattern)       0.00      0.00      0.00         1\n",
      "                                     UNSURED SENSE       0.93      0.33      0.49        39\n",
      "                                     United States       0.76      0.99      0.86        80\n",
      "                                          abortion       0.89      0.96      0.92        74\n",
      "                                           acetate       0.00      0.00      0.00         1\n",
      "                              acetylsalicylic acid       0.84      0.91      0.87        85\n",
      "                                 acromioclavicular       0.91      0.86      0.88        35\n",
      "                                  ad lib on demand       0.93      0.99      0.96        85\n",
      "                              adrenoleukodystrophy       1.00      0.58      0.74        12\n",
      "                       adriamycin cyclophosphamide       1.00      0.78      0.88        36\n",
      "                             advanced maternal age       0.00      0.00      0.00         5\n",
      "                                         afternoon       0.73      0.92      0.82        87\n",
      "                            against medical advice       0.91      0.99      0.95        93\n",
      "                      alanine aminotransferase:ALT       0.00      0.00      0.00         1\n",
      "                 angiotensin-converting enzyme:ACE       0.00      0.00      0.00         1\n",
      "                        antimitochondrial antibody       0.00      0.00      0.00         4\n",
      "                             antipyrine benzocaine       0.00      0.00      0.00         1\n",
      "                                      aortic valve       0.00      0.00      0.00         3\n",
      "                        aortic valve regurgitation       0.00      0.00      0.00         2\n",
      "                          aortic valve replacement       0.80      0.96      0.87        70\n",
      "                           aortic valve resistance       0.00      0.00      0.00         1\n",
      "                                     arteriovenous       1.00      0.75      0.86        28\n",
      "                                    assist control       0.00      0.00      0.00         3\n",
      "                                  atrioventricular       0.76      0.96      0.85        76\n",
      "                               atrioventricular:AV       0.00      0.00      0.00         1\n",
      "                       augmented voltage right arm       0.87      0.52      0.65        25\n",
      "                           basic metabolic profile       0.79      0.94      0.86        87\n",
      "                                      before meals       1.00      0.14      0.25         7\n",
      "                                        below knee       0.85      0.97      0.90        29\n",
      "                      beta-natriuretic peptide:BNP       0.00      0.00      0.00         8\n",
      "                               blood alcohol level       1.00      0.17      0.29         6\n",
      "                         blood group in ABO system       0.71      0.81      0.76        21\n",
      "                                       bone marrow       0.00      0.00      0.00         3\n",
      "                        bone morphogenetic protein       0.00      0.00      0.00         1\n",
      "                                    bowel movement       0.90      0.96      0.93        95\n",
      "                                       breast milk       0.00      0.00      0.00         4\n",
      "                            bronchoalveolar lavage       0.87      0.99      0.93        91\n",
      "                                            cancer       0.80      0.98      0.88        89\n",
      "                              carbohydrate antigen       1.00      0.30      0.47        23\n",
      "                          carcinoembryonic antigen       0.87      0.97      0.92        79\n",
      "                                 cardiorespiratory       0.00      0.00      0.00         8\n",
      "                          cardiovascular pulmonary       0.00      0.00      0.00         1\n",
      "                             cardiovascular system       0.00      0.00      0.00         8\n",
      "                            carotid endarterectomy       1.00      0.14      0.25         7\n",
      "                     center for diagnostic imaging       0.95      0.86      0.90        49\n",
      "                        central nervous system:CNS       0.00      0.00      0.00         1\n",
      "                           central venous pressure       0.84      0.96      0.90        90\n",
      "                          cerebrovascular accident       0.83      0.96      0.89        47\n",
      "                                cervical (level) 3       0.81      0.79      0.80        53\n",
      "                                cervical (level) 4       0.73      0.83      0.77        52\n",
      "                         chorionic villus sampling       0.96      0.97      0.97        71\n",
      "                                clean, dry, intact       0.00      0.00      0.00         2\n",
      "                             clear to auscultation       0.85      0.93      0.89        67\n",
      "                                  closed reduction       0.00      0.00      0.00         1\n",
      "                                complete remission       0.00      0.00      0.00         3\n",
      "                  computed tomographic angiography       0.93      0.81      0.87        16\n",
      "                          conjunctivae and sclerae       1.00      0.99      0.99        97\n",
      "                                controlled release       0.83      0.97      0.89        93\n",
      "                              costovertebral angle       0.80      0.96      0.87        47\n",
      "                        creatine phosphokinase:CPK       0.00      0.00      0.00         1\n",
      "                                        creatinine       0.00      0.00      0.00         1\n",
      "                           culture and sensitivity       1.00      0.44      0.62         9\n",
      "                          customer, value, service       0.00      0.00      0.00         1\n",
      "         cyclophosphamide, vincristine, prednisone       0.80      0.40      0.53        10\n",
      "                                 deceased donor:DD       0.00      0.00      0.00         1\n",
      "                          deep vein thrombosis:DVT       0.00      0.00      0.00         1\n",
      "                                  delirium tremens       1.00      0.71      0.83        21\n",
      "                         deoxyribonucleic acid:DNA       0.00      0.00      0.00         1\n",
      "               desquamative interstitial pneumonia       1.00      0.09      0.17        11\n",
      "                                  dextromethorphan       1.00      0.93      0.97        74\n",
      "                                 diabetes mellitus       0.81      0.88      0.84        40\n",
      "                                diphtheria-tetanus       0.85      0.95      0.90        59\n",
      "                             direct and consensual       0.00      0.00      0.00         1\n",
      "                                    direct current       0.93      0.79      0.85        33\n",
      "                                         discharge       0.00      0.00      0.00         5\n",
      "                                       discontinue       0.75      0.87      0.80        47\n",
      "                            distal interphalangeal       0.88      0.97      0.92       103\n",
      "                                 dorsalis pedis:DP       0.00      0.00      0.00         6\n",
      "                              ejection fraction:EF       0.00      0.00      0.00         2\n",
      "                              electrophysiology:EP       0.00      0.00      0.00         1\n",
      "                                    emergency room       0.82      0.94      0.87        95\n",
      "                                      endotracheal       0.90      0.95      0.92        37\n",
      "                              enhanced sensitivity       0.00      0.00      0.00         2\n",
      "                                    enteric-coated       0.83      0.95      0.89        84\n",
      "                                   enterocutaneous       1.00      0.11      0.20         9\n",
      "                              enterostomal therapy       0.81      0.93      0.87        60\n",
      "                                 estrogen receptor       0.00      0.00      0.00         1\n",
      "                                  extended release       0.00      0.00      0.00         7\n",
      "                                    extra strength       0.88      0.93      0.90        94\n",
      "           fascioscapulohumeral muscular dystrophy       0.00      0.00      0.00         1\n",
      "                 fluorescent in situ hybridization       0.88      0.97      0.92        80\n",
      "                      follicle-stimulating hormone       0.96      0.94      0.95        52\n",
      "                                  gastrostomy tube       0.91      0.92      0.91        86\n",
      "                           glutamyl transpeptidase       0.00      0.00      0.00         4\n",
      "                                             gutta       0.00      0.00      0.00         5\n",
      "               idiopathic thrombocytopenic purpura       0.95      0.98      0.96        96\n",
      "                                        iliotibial       0.00      0.00      0.00         8\n",
      "                                 immediate-release       0.85      0.52      0.65        21\n",
      "                            in vitro fertilization       0.88      0.97      0.92        69\n",
      "                            information technology       0.81      0.59      0.68        22\n",
      "                                          infrared       0.00      0.00      0.00         1\n",
      "                       international baccalaureate       0.00      0.00      0.00         2\n",
      "                                 intertrochanteric       0.00      0.00      0.00         2\n",
      "                          interventional radiology       0.92      0.98      0.95        87\n",
      "                                     intraarterial       0.96      0.93      0.95        29\n",
      "                                    intramedullary       0.00      0.00      0.00         9\n",
      "                                     intramuscular       0.81      0.91      0.86        91\n",
      "                                       intrathecal       1.00      0.33      0.50         3\n",
      "                                 intravenous fluid       0.94      0.78      0.85        40\n",
      "                                ischial tuberosity       1.00      0.23      0.38        13\n",
      "                                       left atrial       0.00      0.00      0.00         5\n",
      "                                leukocyte esterase       0.76      0.93      0.83        67\n",
      "                                       long-acting       0.81      0.97      0.89        76\n",
      "                                   lower extremity       0.76      0.69      0.72        32\n",
      "                               lupus erythematosus       0.00      0.00      0.00         1\n",
      "                                        lymphedema       0.00      0.00      0.00         1\n",
      "                                magnetic resonance       0.77      0.88      0.82        65\n",
      "                                    mercaptopurine       0.92      0.50      0.65        22\n",
      "                                   metabolic panel       0.00      0.00      0.00         2\n",
      "                               metacarpophalangeal       0.67      0.78      0.72        37\n",
      "                                 metarsophalangeal       0.00      0.00      0.00         2\n",
      "                               metatarsophalangeal       0.71      0.62      0.67         8\n",
      "           metatarsophalangeal/metacarpophalangeal       0.40      0.24      0.30        17\n",
      "     methicillin-susceptible Staphylococcus aureus       1.00      0.44      0.61        16\n",
      "methicillin-susceptible Staphylococcus aureus:MSSA       0.00      0.00      0.00         1\n",
      "                                   military police       0.00      0.00      0.00         1\n",
      "                                  milk of magnesia       1.00      0.21      0.35        14\n",
      "                              mitral regurgitation       0.75      0.73      0.74        37\n",
      "            modified selective severity assessment       0.81      0.97      0.88        69\n",
      "                                  morphine sulfate       0.88      0.96      0.92        51\n",
      "                                multiple sclerosis       0.89      0.89      0.89        44\n",
      "                               multiples of median       1.00      0.98      0.99        91\n",
      "                                   musculoskeletal       0.00      0.00      0.00         1\n",
      "                                    nasopharyngeal       1.00      0.20      0.33        10\n",
      "                                 no acute distress       0.80      0.93      0.86        76\n",
      "                         nothing abnormal detected       0.88      0.83      0.86        18\n",
      "                                nurse practitioner       0.74      0.98      0.84        91\n",
      "                             nurse practitioner:NP       0.00      0.00      0.00         3\n",
      "            oblique presentation/occiput posterior       0.95      0.83      0.88        23\n",
      "                                 occiput posterior       0.00      0.00      0.00         1\n",
      "                                    operating room       0.64      0.88      0.75        86\n",
      "                                         operative       1.00      0.42      0.59        12\n",
      "                                        ophthalmic       0.00      0.00      0.00         1\n",
      "                       ornithine transcarbamoylase       0.00      0.00      0.00         6\n",
      "                                        oropharynx       0.90      0.89      0.90        64\n",
      "                                 ova and parasites       0.00      0.00      0.00         1\n",
      "                                  over the counter       0.92      0.93      0.92       108\n",
      "                                   pancreatic duct       0.00      0.00      0.00         2\n",
      "                          patent ductus arteriosus       0.95      0.72      0.82        29\n",
      "                  patient-controlled analgesia:PCA       0.00      0.00      0.00         1\n",
      "                                        per rectum       0.75      0.75      0.75        28\n",
      "                               peritoneal dialysis       0.88      0.99      0.93        71\n",
      "                                     phencyclidine       0.85      0.69      0.76        16\n",
      "                           phosphate dehydrogenase       0.00      0.00      0.00         2\n",
      "          physical medicine and rehabilitation:PMR       1.00      0.13      0.24        15\n",
      "                                  physical therapy       0.79      0.96      0.87        84\n",
      "                               physician assistant       1.00      0.05      0.10        19\n",
      "                 physician assistant certification       0.86      0.89      0.87        27\n",
      "                              physician associates       0.86      0.86      0.86        14\n",
      "                   picture archiving communication       0.00      0.00      0.00         5\n",
      "                                 police department       0.00      0.00      0.00         1\n",
      "                              post anesthesia care       1.00      0.22      0.36         9\n",
      "                              posterior descending       0.00      0.00      0.00         7\n",
      "                       posterior descending artery       0.76      0.94      0.84        67\n",
      "                                  posterior tibial       0.00      0.00      0.00         2\n",
      "                                posterior-anterior       0.73      0.97      0.83        36\n",
      "                                       pr interval       0.89      0.93      0.91        54\n",
      "                      premature atrial contraction       0.83      0.90      0.86        59\n",
      "                             pressure equalization       0.93      0.67      0.78        21\n",
      "                            primary care physician       0.92      0.50      0.65        24\n",
      "                                     prism diopter       0.00      0.00      0.00         1\n",
      "                             progesterone receptor       0.89      0.94      0.92        18\n",
      "                                propionylcarnitine       0.00      0.00      0.00         2\n",
      "                           protein C and protein S       0.00      0.00      0.00         4\n",
      "                                  prothrombin time       0.00      0.00      0.00         2\n",
      "                                  pulmonary artery       0.86      0.71      0.77        17\n",
      "                                 pulmonary embolus       0.87      0.98      0.92        90\n",
      "                           pulmonary regurgitation       0.00      0.00      0.00         3\n",
      "                                 radiation therapy       0.96      0.89      0.92        81\n",
      "                    rapid ventricular response:RVR       0.00      0.00      0.00         1\n",
      "                             respiratory therapist       0.00      0.00      0.00         1\n",
      "                               respiratory therapy       0.96      0.93      0.94        27\n",
      "                            retrograde tachycardia       0.00      0.00      0.00         2\n",
      "                              rheumatoid arthritis       1.00      0.06      0.12        16\n",
      "                                             right       0.00      0.00      0.00         1\n",
      "                                      right atrium       0.80      0.95      0.87        85\n",
      "                                          room air       0.00      0.00      0.00         9\n",
      "                                        saturation       0.00      0.00      0.00         1\n",
      "                  sequential multiple autoanalyzer       1.00      0.10      0.17        21\n",
      "                           sickle cell genotype SS       0.00      0.00      0.00         2\n",
      "                                  sinemet-levodopa       0.00      0.00      0.00         1\n",
      "                                   single strength       0.92      0.97      0.95        89\n",
      "                                        sinuatrial       0.90      0.75      0.82        12\n",
      "                                      sinus arrest       0.00      0.00      0.00         1\n",
      "                      slow acting/sustained action       0.81      0.94      0.87        64\n",
      "                               smooth muscle actin       0.00      0.00      0.00         1\n",
      "                            smooth muscle antibody       0.00      0.00      0.00         1\n",
      "                                            sodium       0.00      0.00      0.00         2\n",
      "                           spinal muscular atrophy       1.00      0.17      0.29        12\n",
      "                 spontaneous bacterial peritonitis       0.87      0.99      0.92        85\n",
      "                        superior mesenteric artery       0.73      0.94      0.82        68\n",
      "                           systolic blood pressure       1.00      0.22      0.36        18\n",
      "                                thoracic (level) 1       0.69      0.72      0.70        43\n",
      "                                thoracic (level) 2       0.57      0.25      0.35        16\n",
      "                                thoracic (level) 3       1.00      0.12      0.22        16\n",
      "                                thoracic (level) 4       0.00      0.00      0.00         9\n",
      "                                         thyroxine       0.75      0.84      0.79       100\n",
      "                                  triiodothyronine       0.59      0.62      0.60        55\n",
      "                                     tumor stage 1       0.91      0.94      0.92        31\n",
      "                                     tumor stage 2       0.82      0.86      0.84        36\n",
      "                                     tumor stage 3       0.82      0.91      0.86        34\n",
      "                                     tumor stage 4       0.00      0.00      0.00         4\n",
      "                                    type A, type B       0.00      0.00      0.00         1\n",
      "                                        ultrasound       0.88      0.28      0.42        25\n",
      "                            vascular access device       0.00      0.00      0.00         3\n",
      "                                  venous blood gas       0.79      0.93      0.85        44\n",
      "                         ventricular assist device       0.83      0.31      0.45        16\n",
      "                      vertical banded gastroplasty       0.93      0.93      0.93        58\n",
      "          vincristine adriamycin and dexamethasone       0.84      0.99      0.91        83\n",
      "\n",
      "                                          accuracy                           0.84      7500\n",
      "                                         macro avg       0.51      0.44      0.44      7500\n",
      "                                      weighted avg       0.82      0.84      0.82      7500\n",
      "\n"
     ]
    },
    {
     "name": "stderr",
     "output_type": "stream",
     "text": [
      "C:\\ProgramData\\anaconda3\\lib\\site-packages\\sklearn\\metrics\\_classification.py:1344: UndefinedMetricWarning: Precision and F-score are ill-defined and being set to 0.0 in labels with no predicted samples. Use `zero_division` parameter to control this behavior.\n",
      "  _warn_prf(average, modifier, msg_start, len(result))\n"
     ]
    }
   ],
   "source": [
    "from sklearn.metrics import accuracy_score, classification_report\n",
    "\n",
    "accuracy = accuracy_score(y_test, y_pred1)\n",
    "report = classification_report(y_test, y_pred1)\n",
    "\n",
    "print(f\"Accuracy: {accuracy}\")\n",
    "print(f\"Classification Report:\\n{report}\")"
   ]
  },
  {
   "cell_type": "markdown",
   "id": "a402255a",
   "metadata": {},
   "source": [
    "In the classification report:\n",
    "- Precision: the ratio of correctly predicted positive observations to the total predicted positives.\n",
    "- Recall: the ratio of correctly predicted positive observations to the all observations in actual class.\n",
    "- F1-score: the weighted average of Precision and Recall.\n",
    "- Support: the number of actual occurrences of the class in the specified dataset.\n",
    "\n",
    "These metrics provide insights into the performance of the model across different classes."
   ]
  },
  {
   "cell_type": "code",
   "execution_count": 37,
   "id": "36707faa",
   "metadata": {},
   "outputs": [],
   "source": [
    "def save_classification_report(report_str, file_path):\n",
    "    with open(file_path, 'w') as file:\n",
    "        file.write(report_str)\n",
    "\n",
    "save_classification_report(report, 'lr_classification_report.txt')"
   ]
  },
  {
   "cell_type": "markdown",
   "id": "b44e916b",
   "metadata": {},
   "source": [
    "- This function save_classification_report takes two parameters: <br> \n",
    "  report_str, which is a string containing a classification report, and file_path, which is the path to the file where the     \n",
    "  report will be saved.\n",
    "- Inside the function, it opens the file specified by file_path in write mode ('w') using a with statement, which ensures that   \n",
    "  the file is properly closed after writing.\n",
    "- It then writes the contents of report_str to the file.\n",
    "- At the end the classification report is saved as lr_classification_report.txt"
   ]
  },
  {
   "cell_type": "markdown",
   "id": "187fbaef",
   "metadata": {},
   "source": [
    "# Support Vector Machine"
   ]
  },
  {
   "cell_type": "code",
   "execution_count": 27,
   "id": "7a7ff466",
   "metadata": {},
   "outputs": [],
   "source": [
    "from sklearn import svm\n",
    "\n",
    "svm_classifier = svm.SVC()\n"
   ]
  },
  {
   "cell_type": "code",
   "execution_count": 28,
   "id": "4ee0c8d8",
   "metadata": {},
   "outputs": [
    {
     "data": {
      "text/html": [
       "<style>#sk-container-id-2 {color: black;background-color: white;}#sk-container-id-2 pre{padding: 0;}#sk-container-id-2 div.sk-toggleable {background-color: white;}#sk-container-id-2 label.sk-toggleable__label {cursor: pointer;display: block;width: 100%;margin-bottom: 0;padding: 0.3em;box-sizing: border-box;text-align: center;}#sk-container-id-2 label.sk-toggleable__label-arrow:before {content: \"▸\";float: left;margin-right: 0.25em;color: #696969;}#sk-container-id-2 label.sk-toggleable__label-arrow:hover:before {color: black;}#sk-container-id-2 div.sk-estimator:hover label.sk-toggleable__label-arrow:before {color: black;}#sk-container-id-2 div.sk-toggleable__content {max-height: 0;max-width: 0;overflow: hidden;text-align: left;background-color: #f0f8ff;}#sk-container-id-2 div.sk-toggleable__content pre {margin: 0.2em;color: black;border-radius: 0.25em;background-color: #f0f8ff;}#sk-container-id-2 input.sk-toggleable__control:checked~div.sk-toggleable__content {max-height: 200px;max-width: 100%;overflow: auto;}#sk-container-id-2 input.sk-toggleable__control:checked~label.sk-toggleable__label-arrow:before {content: \"▾\";}#sk-container-id-2 div.sk-estimator input.sk-toggleable__control:checked~label.sk-toggleable__label {background-color: #d4ebff;}#sk-container-id-2 div.sk-label input.sk-toggleable__control:checked~label.sk-toggleable__label {background-color: #d4ebff;}#sk-container-id-2 input.sk-hidden--visually {border: 0;clip: rect(1px 1px 1px 1px);clip: rect(1px, 1px, 1px, 1px);height: 1px;margin: -1px;overflow: hidden;padding: 0;position: absolute;width: 1px;}#sk-container-id-2 div.sk-estimator {font-family: monospace;background-color: #f0f8ff;border: 1px dotted black;border-radius: 0.25em;box-sizing: border-box;margin-bottom: 0.5em;}#sk-container-id-2 div.sk-estimator:hover {background-color: #d4ebff;}#sk-container-id-2 div.sk-parallel-item::after {content: \"\";width: 100%;border-bottom: 1px solid gray;flex-grow: 1;}#sk-container-id-2 div.sk-label:hover label.sk-toggleable__label {background-color: #d4ebff;}#sk-container-id-2 div.sk-serial::before {content: \"\";position: absolute;border-left: 1px solid gray;box-sizing: border-box;top: 0;bottom: 0;left: 50%;z-index: 0;}#sk-container-id-2 div.sk-serial {display: flex;flex-direction: column;align-items: center;background-color: white;padding-right: 0.2em;padding-left: 0.2em;position: relative;}#sk-container-id-2 div.sk-item {position: relative;z-index: 1;}#sk-container-id-2 div.sk-parallel {display: flex;align-items: stretch;justify-content: center;background-color: white;position: relative;}#sk-container-id-2 div.sk-item::before, #sk-container-id-2 div.sk-parallel-item::before {content: \"\";position: absolute;border-left: 1px solid gray;box-sizing: border-box;top: 0;bottom: 0;left: 50%;z-index: -1;}#sk-container-id-2 div.sk-parallel-item {display: flex;flex-direction: column;z-index: 1;position: relative;background-color: white;}#sk-container-id-2 div.sk-parallel-item:first-child::after {align-self: flex-end;width: 50%;}#sk-container-id-2 div.sk-parallel-item:last-child::after {align-self: flex-start;width: 50%;}#sk-container-id-2 div.sk-parallel-item:only-child::after {width: 0;}#sk-container-id-2 div.sk-dashed-wrapped {border: 1px dashed gray;margin: 0 0.4em 0.5em 0.4em;box-sizing: border-box;padding-bottom: 0.4em;background-color: white;}#sk-container-id-2 div.sk-label label {font-family: monospace;font-weight: bold;display: inline-block;line-height: 1.2em;}#sk-container-id-2 div.sk-label-container {text-align: center;}#sk-container-id-2 div.sk-container {/* jupyter's `normalize.less` sets `[hidden] { display: none; }` but bootstrap.min.css set `[hidden] { display: none !important; }` so we also need the `!important` here to be able to override the default hidden behavior on the sphinx rendered scikit-learn.org. See: https://github.com/scikit-learn/scikit-learn/issues/21755 */display: inline-block !important;position: relative;}#sk-container-id-2 div.sk-text-repr-fallback {display: none;}</style><div id=\"sk-container-id-2\" class=\"sk-top-container\"><div class=\"sk-text-repr-fallback\"><pre>SVC()</pre><b>In a Jupyter environment, please rerun this cell to show the HTML representation or trust the notebook. <br />On GitHub, the HTML representation is unable to render, please try loading this page with nbviewer.org.</b></div><div class=\"sk-container\" hidden><div class=\"sk-item\"><div class=\"sk-estimator sk-toggleable\"><input class=\"sk-toggleable__control sk-hidden--visually\" id=\"sk-estimator-id-2\" type=\"checkbox\" checked><label for=\"sk-estimator-id-2\" class=\"sk-toggleable__label sk-toggleable__label-arrow\">SVC</label><div class=\"sk-toggleable__content\"><pre>SVC()</pre></div></div></div></div></div>"
      ],
      "text/plain": [
       "SVC()"
      ]
     },
     "execution_count": 28,
     "metadata": {},
     "output_type": "execute_result"
    }
   ],
   "source": [
    "svm_classifier.fit(X_train_tfidf,y_train)"
   ]
  },
  {
   "cell_type": "markdown",
   "id": "a2930ff4",
   "metadata": {},
   "source": [
    "Explanation:\n",
    "\n",
    "- **svm**: Module from scikit-learn containing Support Vector Machine algorithms.\n",
    "- **SVC**: Instantiates a Support Vector Classification (SVC) model, which is used for classification tasks.\n",
    "- **svm_classifier**: Variable holding the SVM classifier object."
   ]
  },
  {
   "cell_type": "code",
   "execution_count": 33,
   "id": "f7c4dc54",
   "metadata": {},
   "outputs": [],
   "source": [
    "y_pred2 = svm_classifier.predict(X_test_tfidf)"
   ]
  },
  {
   "cell_type": "code",
   "execution_count": 34,
   "id": "a1caead2",
   "metadata": {},
   "outputs": [],
   "source": [
    "score2=accuracy_score(y_test,y_pred2)"
   ]
  },
  {
   "cell_type": "code",
   "execution_count": 35,
   "id": "e4d83bd9",
   "metadata": {},
   "outputs": [
    {
     "data": {
      "text/plain": [
       "0.8486666666666667"
      ]
     },
     "execution_count": 35,
     "metadata": {},
     "output_type": "execute_result"
    }
   ],
   "source": [
    "score2"
   ]
  },
  {
   "cell_type": "markdown",
   "id": "dd949fb8",
   "metadata": {},
   "source": [
    "- Accuracy from Support vactor classifier is 84.86%"
   ]
  },
  {
   "cell_type": "code",
   "execution_count": 36,
   "id": "a49835bf",
   "metadata": {
    "collapsed": true
   },
   "outputs": [
    {
     "name": "stderr",
     "output_type": "stream",
     "text": [
      "C:\\ProgramData\\anaconda3\\lib\\site-packages\\sklearn\\metrics\\_classification.py:1344: UndefinedMetricWarning: Precision and F-score are ill-defined and being set to 0.0 in labels with no predicted samples. Use `zero_division` parameter to control this behavior.\n",
      "  _warn_prf(average, modifier, msg_start, len(result))\n",
      "C:\\ProgramData\\anaconda3\\lib\\site-packages\\sklearn\\metrics\\_classification.py:1344: UndefinedMetricWarning: Precision and F-score are ill-defined and being set to 0.0 in labels with no predicted samples. Use `zero_division` parameter to control this behavior.\n",
      "  _warn_prf(average, modifier, msg_start, len(result))\n"
     ]
    },
    {
     "name": "stdout",
     "output_type": "stream",
     "text": [
      "Accuracy: 0.8486666666666667\n",
      "Classification Report:\n",
      "                                                    precision    recall  f1-score   support\n",
      "\n",
      "                                       (PO Box) C4       0.00      0.00      0.00         1\n",
      "                                        (class) IA       0.00      0.00      0.00         1\n",
      "                          (complement) component 3       0.41      0.33      0.37        48\n",
      "                          (complement) component 4       0.26      0.39      0.31        31\n",
      "                                         (drug) AC       0.91      0.89      0.90        35\n",
      "                                         (drug) IT       0.00      0.00      0.00         1\n",
      "                                         (drug) MS       0.00      0.00      0.00         1\n",
      "                                        (drug) PAC       0.00      0.00      0.00         1\n",
      "                                         (drug) PD       0.00      0.00      0.00         1\n",
      "                                         (drug) PR       0.00      0.00      0.00         1\n",
      "                                        (grade) IA       0.00      0.00      0.00         2\n",
      "                                        (grade) IB       0.00      0.00      0.00         2\n",
      "                                        (stage) C3       0.00      0.00      0.00         1\n",
      "                                        (stage) IA       0.95      0.97      0.96        64\n",
      "                                        (stage) IB       0.88      0.99      0.93        83\n",
      "                                       (status) IB       0.00      0.00      0.00         3\n",
      "                                         (type) IA       0.00      0.00      0.00         1\n",
      "                                         (type) IB       0.00      0.00      0.00         2\n",
      "             American Society of Anesthesiologists       0.93      0.74      0.82        19\n",
      "                                        BK (virus)       0.97      0.97      0.97        72\n",
      "                                        California       0.00      0.00      0.00         1\n",
      "                   Children's Depression Inventory       1.00      1.00      1.00        69\n",
      "                              District of Columbia       0.25      0.20      0.22         5\n",
      "                       Fairview Southdale Hospital       0.92      0.86      0.89        51\n",
      "                                   GENERAL ENGLISH       0.83      0.82      0.82        60\n",
      "                                              Iowa       0.00      0.00      0.00         2\n",
      "                                       Los Angeles       1.00      0.44      0.62         9\n",
      "                                              NAME       0.00      0.00      0.00         1\n",
      "                               Narcotics Anonymous       1.00      0.98      0.99        95\n",
      "                                 Parkinson disease       0.00      0.00      0.00         1\n",
      "                   Pneumocystis jiroveci pneumonia       0.89      0.97      0.93        59\n",
      "                                          T1 (MRI)       0.67      0.18      0.29        22\n",
      "                                          T2 (MRI)       0.71      0.87      0.78        47\n",
      "                                  T3 (ECG pattern)       0.00      0.00      0.00         1\n",
      "                                     UNSURED SENSE       0.30      0.56      0.39        39\n",
      "                                     United States       0.85      0.97      0.91        80\n",
      "                                          abortion       0.93      0.96      0.95        74\n",
      "                                           acetate       0.00      0.00      0.00         1\n",
      "                              acetylsalicylic acid       0.83      0.87      0.85        85\n",
      "                                 acromioclavicular       0.94      0.86      0.90        35\n",
      "                                  ad lib on demand       0.93      1.00      0.97        85\n",
      "                              adrenoleukodystrophy       1.00      0.67      0.80        12\n",
      "                       adriamycin cyclophosphamide       0.96      0.75      0.84        36\n",
      "                             advanced maternal age       1.00      0.20      0.33         5\n",
      "                                         afternoon       0.74      0.92      0.82        87\n",
      "                            against medical advice       0.93      0.98      0.95        93\n",
      "                      alanine aminotransferase:ALT       0.00      0.00      0.00         1\n",
      "                 angiotensin-converting enzyme:ACE       0.00      0.00      0.00         1\n",
      "                        antimitochondrial antibody       0.00      0.00      0.00         4\n",
      "                             antipyrine benzocaine       0.00      0.00      0.00         1\n",
      "                                      aortic valve       0.00      0.00      0.00         3\n",
      "                        aortic valve regurgitation       0.00      0.00      0.00         2\n",
      "                          aortic valve replacement       0.89      0.93      0.91        70\n",
      "                           aortic valve resistance       0.00      0.00      0.00         1\n",
      "                                     arteriovenous       0.96      0.79      0.86        28\n",
      "                                    assist control       0.00      0.00      0.00         3\n",
      "                                  atrioventricular       0.78      0.96      0.86        76\n",
      "                               atrioventricular:AV       0.00      0.00      0.00         1\n",
      "                       augmented voltage right arm       0.91      0.80      0.85        25\n",
      "                           basic metabolic profile       0.77      0.94      0.85        87\n",
      "                                      before meals       1.00      0.14      0.25         7\n",
      "                                        below knee       0.88      0.97      0.92        29\n",
      "                      beta-natriuretic peptide:BNP       0.00      0.00      0.00         8\n",
      "                               blood alcohol level       1.00      0.17      0.29         6\n",
      "                         blood group in ABO system       0.65      0.81      0.72        21\n",
      "                                       bone marrow       0.00      0.00      0.00         3\n",
      "                        bone morphogenetic protein       0.00      0.00      0.00         1\n",
      "                                    bowel movement       0.95      0.95      0.95        95\n",
      "                                       breast milk       1.00      0.25      0.40         4\n",
      "                            bronchoalveolar lavage       0.90      0.98      0.94        91\n",
      "                                            cancer       0.83      0.94      0.88        89\n",
      "                              carbohydrate antigen       0.92      0.48      0.63        23\n",
      "                          carcinoembryonic antigen       0.87      0.95      0.91        79\n",
      "                                 cardiorespiratory       0.00      0.00      0.00         8\n",
      "                          cardiovascular pulmonary       0.00      0.00      0.00         1\n",
      "                             cardiovascular system       1.00      0.12      0.22         8\n",
      "                            carotid endarterectomy       1.00      0.57      0.73         7\n",
      "                     center for diagnostic imaging       0.98      0.84      0.90        49\n",
      "                        central nervous system:CNS       0.00      0.00      0.00         1\n",
      "                           central venous pressure       0.84      0.92      0.88        90\n",
      "                          cerebrovascular accident       0.82      0.96      0.88        47\n",
      "                                cervical (level) 3       0.84      0.77      0.80        53\n",
      "                                cervical (level) 4       0.71      0.85      0.77        52\n",
      "                         chorionic villus sampling       0.97      0.96      0.96        71\n",
      "                                clean, dry, intact       0.00      0.00      0.00         2\n",
      "                             clear to auscultation       0.87      0.88      0.87        67\n",
      "                                  closed reduction       0.00      0.00      0.00         1\n",
      "                                complete remission       0.00      0.00      0.00         3\n",
      "                  computed tomographic angiography       0.93      0.81      0.87        16\n",
      "                          conjunctivae and sclerae       1.00      0.99      0.99        97\n",
      "                                controlled release       0.83      0.96      0.89        93\n",
      "                              costovertebral angle       0.78      0.96      0.86        47\n",
      "                        creatine phosphokinase:CPK       0.00      0.00      0.00         1\n",
      "                                        creatinine       0.00      0.00      0.00         1\n",
      "                           culture and sensitivity       1.00      0.78      0.88         9\n",
      "                          customer, value, service       0.00      0.00      0.00         1\n",
      "         cyclophosphamide, vincristine, prednisone       0.67      0.60      0.63        10\n",
      "                                 deceased donor:DD       0.00      0.00      0.00         1\n",
      "                          deep vein thrombosis:DVT       0.00      0.00      0.00         1\n",
      "                                  delirium tremens       1.00      0.76      0.86        21\n",
      "                         deoxyribonucleic acid:DNA       0.00      0.00      0.00         1\n",
      "               desquamative interstitial pneumonia       1.00      0.09      0.17        11\n",
      "                                  dextromethorphan       1.00      0.91      0.95        74\n",
      "                                 diabetes mellitus       0.83      0.85      0.84        40\n",
      "                                diphtheria-tetanus       0.90      0.95      0.93        59\n",
      "                             direct and consensual       0.00      0.00      0.00         1\n",
      "                                    direct current       0.93      0.85      0.89        33\n",
      "                                         discharge       0.00      0.00      0.00         5\n",
      "                                       discontinue       0.71      0.85      0.78        47\n",
      "                            distal interphalangeal       0.92      0.95      0.94       103\n",
      "                                 dorsalis pedis:DP       0.00      0.00      0.00         6\n",
      "                              ejection fraction:EF       0.00      0.00      0.00         2\n",
      "                              electrophysiology:EP       0.00      0.00      0.00         1\n",
      "                                    emergency room       0.82      0.92      0.87        95\n",
      "                                      endotracheal       0.88      0.95      0.91        37\n",
      "                              enhanced sensitivity       0.00      0.00      0.00         2\n",
      "                                    enteric-coated       0.91      0.94      0.92        84\n",
      "                                   enterocutaneous       1.00      0.33      0.50         9\n",
      "                              enterostomal therapy       0.88      0.93      0.90        60\n",
      "                                 estrogen receptor       0.00      0.00      0.00         1\n",
      "                                  extended release       0.00      0.00      0.00         7\n",
      "                                    extra strength       0.90      0.93      0.91        94\n",
      "           fascioscapulohumeral muscular dystrophy       0.00      0.00      0.00         1\n",
      "                 fluorescent in situ hybridization       0.88      0.95      0.92        80\n",
      "                      follicle-stimulating hormone       0.98      0.90      0.94        52\n",
      "                                  gastrostomy tube       0.95      0.88      0.92        86\n",
      "                           glutamyl transpeptidase       0.00      0.00      0.00         4\n",
      "                                             gutta       0.00      0.00      0.00         5\n",
      "               idiopathic thrombocytopenic purpura       0.97      0.94      0.95        96\n",
      "                                        iliotibial       1.00      0.25      0.40         8\n",
      "                                 immediate-release       0.94      0.81      0.87        21\n",
      "                            in vitro fertilization       0.89      0.97      0.93        69\n",
      "                            information technology       0.75      0.68      0.71        22\n",
      "                                          infrared       0.00      0.00      0.00         1\n",
      "                       international baccalaureate       0.00      0.00      0.00         2\n",
      "                                 intertrochanteric       0.00      0.00      0.00         2\n",
      "                          interventional radiology       0.97      0.95      0.96        87\n",
      "                                     intraarterial       1.00      1.00      1.00        29\n",
      "                                    intramedullary       0.50      0.11      0.18         9\n",
      "                                     intramuscular       0.85      0.90      0.87        91\n",
      "                                       intrathecal       1.00      0.33      0.50         3\n",
      "                                 intravenous fluid       0.97      0.72      0.83        40\n",
      "                                ischial tuberosity       1.00      0.23      0.38        13\n",
      "                                       left atrial       0.00      0.00      0.00         5\n",
      "                                leukocyte esterase       0.77      0.91      0.84        67\n",
      "                                       long-acting       0.86      0.97      0.91        76\n",
      "                                   lower extremity       0.77      0.62      0.69        32\n",
      "                               lupus erythematosus       0.00      0.00      0.00         1\n",
      "                                        lymphedema       0.00      0.00      0.00         1\n",
      "                                magnetic resonance       0.81      0.89      0.85        65\n",
      "                                    mercaptopurine       0.92      0.55      0.69        22\n",
      "                                   metabolic panel       0.00      0.00      0.00         2\n",
      "                               metacarpophalangeal       0.66      0.73      0.69        37\n",
      "                                 metarsophalangeal       0.00      0.00      0.00         2\n",
      "                               metatarsophalangeal       0.71      0.62      0.67         8\n",
      "           metatarsophalangeal/metacarpophalangeal       0.30      0.18      0.22        17\n",
      "     methicillin-susceptible Staphylococcus aureus       1.00      0.69      0.81        16\n",
      "methicillin-susceptible Staphylococcus aureus:MSSA       0.00      0.00      0.00         1\n",
      "                                   military police       0.00      0.00      0.00         1\n",
      "                                  milk of magnesia       1.00      0.50      0.67        14\n",
      "                              mitral regurgitation       0.72      0.76      0.74        37\n",
      "            modified selective severity assessment       0.88      0.97      0.92        69\n",
      "                                  morphine sulfate       0.90      0.88      0.89        51\n",
      "                                multiple sclerosis       0.82      0.91      0.86        44\n",
      "                               multiples of median       1.00      0.98      0.99        91\n",
      "                                   musculoskeletal       0.00      0.00      0.00         1\n",
      "                                    nasopharyngeal       0.83      0.50      0.62        10\n",
      "                                 no acute distress       0.83      0.93      0.88        76\n",
      "                         nothing abnormal detected       0.84      0.89      0.86        18\n",
      "                                nurse practitioner       0.77      0.95      0.85        91\n",
      "                             nurse practitioner:NP       0.00      0.00      0.00         3\n",
      "            oblique presentation/occiput posterior       0.95      0.83      0.88        23\n",
      "                                 occiput posterior       0.00      0.00      0.00         1\n",
      "                                    operating room       0.39      0.91      0.55        86\n",
      "                                         operative       1.00      0.42      0.59        12\n",
      "                                        ophthalmic       0.00      0.00      0.00         1\n",
      "                       ornithine transcarbamoylase       1.00      0.50      0.67         6\n",
      "                                        oropharynx       0.95      0.89      0.92        64\n",
      "                                 ova and parasites       0.00      0.00      0.00         1\n",
      "                                  over the counter       0.94      0.91      0.92       108\n",
      "                                   pancreatic duct       0.00      0.00      0.00         2\n",
      "                          patent ductus arteriosus       0.88      0.76      0.81        29\n",
      "                  patient-controlled analgesia:PCA       0.00      0.00      0.00         1\n",
      "                                        per rectum       0.81      0.75      0.78        28\n",
      "                               peritoneal dialysis       0.89      0.96      0.93        71\n",
      "                                     phencyclidine       0.93      0.88      0.90        16\n",
      "                           phosphate dehydrogenase       0.00      0.00      0.00         2\n",
      "          physical medicine and rehabilitation:PMR       0.67      0.13      0.22        15\n",
      "                                  physical therapy       0.79      0.94      0.86        84\n",
      "                               physician assistant       1.00      0.11      0.19        19\n",
      "                 physician assistant certification       0.96      0.89      0.92        27\n",
      "                              physician associates       0.80      0.86      0.83        14\n",
      "                   picture archiving communication       0.00      0.00      0.00         5\n",
      "                                 police department       0.00      0.00      0.00         1\n",
      "                              post anesthesia care       1.00      0.33      0.50         9\n",
      "                              posterior descending       0.00      0.00      0.00         7\n",
      "                       posterior descending artery       0.80      0.94      0.86        67\n",
      "                                  posterior tibial       0.00      0.00      0.00         2\n",
      "                                posterior-anterior       0.85      0.94      0.89        36\n",
      "                                       pr interval       0.89      0.91      0.90        54\n",
      "                      premature atrial contraction       0.90      0.88      0.89        59\n",
      "                             pressure equalization       0.94      0.81      0.87        21\n",
      "                            primary care physician       1.00      0.54      0.70        24\n",
      "                                     prism diopter       1.00      1.00      1.00         1\n",
      "                             progesterone receptor       0.81      0.94      0.87        18\n",
      "                                propionylcarnitine       0.00      0.00      0.00         2\n",
      "                           protein C and protein S       0.00      0.00      0.00         4\n",
      "                                  prothrombin time       0.00      0.00      0.00         2\n",
      "                                  pulmonary artery       0.68      0.76      0.72        17\n",
      "                                 pulmonary embolus       0.92      0.98      0.95        90\n",
      "                           pulmonary regurgitation       0.00      0.00      0.00         3\n",
      "                                 radiation therapy       0.96      0.89      0.92        81\n",
      "                    rapid ventricular response:RVR       0.00      0.00      0.00         1\n",
      "                             respiratory therapist       0.00      0.00      0.00         1\n",
      "                               respiratory therapy       0.93      1.00      0.96        27\n",
      "                            retrograde tachycardia       0.00      0.00      0.00         2\n",
      "                              rheumatoid arthritis       1.00      0.25      0.40        16\n",
      "                                             right       0.00      0.00      0.00         1\n",
      "                                      right atrium       0.89      0.92      0.90        85\n",
      "                                          room air       1.00      0.11      0.20         9\n",
      "                                        saturation       0.00      0.00      0.00         1\n",
      "                  sequential multiple autoanalyzer       1.00      0.38      0.55        21\n",
      "                           sickle cell genotype SS       0.00      0.00      0.00         2\n",
      "                                  sinemet-levodopa       0.00      0.00      0.00         1\n",
      "                                   single strength       0.93      0.92      0.93        89\n",
      "                                        sinuatrial       0.92      0.92      0.92        12\n",
      "                                      sinus arrest       0.00      0.00      0.00         1\n",
      "                      slow acting/sustained action       0.81      0.92      0.86        64\n",
      "                               smooth muscle actin       0.00      0.00      0.00         1\n",
      "                            smooth muscle antibody       0.00      0.00      0.00         1\n",
      "                                            sodium       0.00      0.00      0.00         2\n",
      "                           spinal muscular atrophy       1.00      0.50      0.67        12\n",
      "                 spontaneous bacterial peritonitis       0.92      1.00      0.96        85\n",
      "                        superior mesenteric artery       0.82      0.94      0.88        68\n",
      "                           systolic blood pressure       1.00      0.39      0.56        18\n",
      "                                thoracic (level) 1       0.72      0.72      0.72        43\n",
      "                                thoracic (level) 2       0.58      0.44      0.50        16\n",
      "                                thoracic (level) 3       0.88      0.44      0.58        16\n",
      "                                thoracic (level) 4       0.00      0.00      0.00         9\n",
      "                                         thyroxine       0.81      0.84      0.82       100\n",
      "                                  triiodothyronine       0.75      0.75      0.75        55\n",
      "                                     tumor stage 1       0.90      0.87      0.89        31\n",
      "                                     tumor stage 2       0.82      0.86      0.84        36\n",
      "                                     tumor stage 3       0.86      0.91      0.89        34\n",
      "                                     tumor stage 4       0.00      0.00      0.00         4\n",
      "                                    type A, type B       0.00      0.00      0.00         1\n",
      "                                        ultrasound       0.78      0.56      0.65        25\n",
      "                            vascular access device       0.00      0.00      0.00         3\n",
      "                                  venous blood gas       0.85      0.93      0.89        44\n",
      "                         ventricular assist device       0.92      0.69      0.79        16\n",
      "                      vertical banded gastroplasty       0.96      0.93      0.95        58\n",
      "          vincristine adriamycin and dexamethasone       0.93      0.98      0.95        83\n",
      "\n",
      "                                          accuracy                           0.85      7500\n",
      "                                         macro avg       0.54      0.47      0.48      7500\n",
      "                                      weighted avg       0.84      0.85      0.83      7500\n",
      "\n"
     ]
    },
    {
     "name": "stderr",
     "output_type": "stream",
     "text": [
      "C:\\ProgramData\\anaconda3\\lib\\site-packages\\sklearn\\metrics\\_classification.py:1344: UndefinedMetricWarning: Precision and F-score are ill-defined and being set to 0.0 in labels with no predicted samples. Use `zero_division` parameter to control this behavior.\n",
      "  _warn_prf(average, modifier, msg_start, len(result))\n"
     ]
    }
   ],
   "source": [
    "from sklearn.metrics import accuracy_score, classification_report\n",
    "\n",
    "accuracy = accuracy_score(y_test, y_pred2)\n",
    "report = classification_report(y_test, y_pred2)\n",
    "\n",
    "print(f\"Accuracy: {accuracy}\")\n",
    "print(f\"Classification Report:\\n{report}\")"
   ]
  },
  {
   "cell_type": "code",
   "execution_count": 39,
   "id": "aa19caa5",
   "metadata": {},
   "outputs": [],
   "source": [
    "def save_classification_report(report_str, file_path):\n",
    "    with open(file_path, 'w') as file:\n",
    "        file.write(report_str)\n",
    "\n",
    "save_classification_report(report, 'svc_classification_report.txt')"
   ]
  },
  {
   "cell_type": "markdown",
   "id": "46fffe8b",
   "metadata": {},
   "source": [
    "- This function save_classification_report takes two parameters: <br> \n",
    "  report_str, which is a string containing a classification report, and file_path, which is the path to the file where the     \n",
    "  report will be saved.\n",
    "- Inside the function, it opens the file specified by file_path in write mode ('w') using a with statement, which ensures that   \n",
    "  the file is properly closed after writing.\n",
    "- It then writes the contents of report_str to the file.\n",
    "- At the end the classification report is saved as svc_classification_report.txt"
   ]
  },
  {
   "cell_type": "markdown",
   "id": "cf3ccd8b",
   "metadata": {},
   "source": [
    "# K-Nearest Neighbors"
   ]
  },
  {
   "cell_type": "code",
   "execution_count": 40,
   "id": "226352c5",
   "metadata": {},
   "outputs": [
    {
     "data": {
      "text/html": [
       "<style>#sk-container-id-3 {color: black;background-color: white;}#sk-container-id-3 pre{padding: 0;}#sk-container-id-3 div.sk-toggleable {background-color: white;}#sk-container-id-3 label.sk-toggleable__label {cursor: pointer;display: block;width: 100%;margin-bottom: 0;padding: 0.3em;box-sizing: border-box;text-align: center;}#sk-container-id-3 label.sk-toggleable__label-arrow:before {content: \"▸\";float: left;margin-right: 0.25em;color: #696969;}#sk-container-id-3 label.sk-toggleable__label-arrow:hover:before {color: black;}#sk-container-id-3 div.sk-estimator:hover label.sk-toggleable__label-arrow:before {color: black;}#sk-container-id-3 div.sk-toggleable__content {max-height: 0;max-width: 0;overflow: hidden;text-align: left;background-color: #f0f8ff;}#sk-container-id-3 div.sk-toggleable__content pre {margin: 0.2em;color: black;border-radius: 0.25em;background-color: #f0f8ff;}#sk-container-id-3 input.sk-toggleable__control:checked~div.sk-toggleable__content {max-height: 200px;max-width: 100%;overflow: auto;}#sk-container-id-3 input.sk-toggleable__control:checked~label.sk-toggleable__label-arrow:before {content: \"▾\";}#sk-container-id-3 div.sk-estimator input.sk-toggleable__control:checked~label.sk-toggleable__label {background-color: #d4ebff;}#sk-container-id-3 div.sk-label input.sk-toggleable__control:checked~label.sk-toggleable__label {background-color: #d4ebff;}#sk-container-id-3 input.sk-hidden--visually {border: 0;clip: rect(1px 1px 1px 1px);clip: rect(1px, 1px, 1px, 1px);height: 1px;margin: -1px;overflow: hidden;padding: 0;position: absolute;width: 1px;}#sk-container-id-3 div.sk-estimator {font-family: monospace;background-color: #f0f8ff;border: 1px dotted black;border-radius: 0.25em;box-sizing: border-box;margin-bottom: 0.5em;}#sk-container-id-3 div.sk-estimator:hover {background-color: #d4ebff;}#sk-container-id-3 div.sk-parallel-item::after {content: \"\";width: 100%;border-bottom: 1px solid gray;flex-grow: 1;}#sk-container-id-3 div.sk-label:hover label.sk-toggleable__label {background-color: #d4ebff;}#sk-container-id-3 div.sk-serial::before {content: \"\";position: absolute;border-left: 1px solid gray;box-sizing: border-box;top: 0;bottom: 0;left: 50%;z-index: 0;}#sk-container-id-3 div.sk-serial {display: flex;flex-direction: column;align-items: center;background-color: white;padding-right: 0.2em;padding-left: 0.2em;position: relative;}#sk-container-id-3 div.sk-item {position: relative;z-index: 1;}#sk-container-id-3 div.sk-parallel {display: flex;align-items: stretch;justify-content: center;background-color: white;position: relative;}#sk-container-id-3 div.sk-item::before, #sk-container-id-3 div.sk-parallel-item::before {content: \"\";position: absolute;border-left: 1px solid gray;box-sizing: border-box;top: 0;bottom: 0;left: 50%;z-index: -1;}#sk-container-id-3 div.sk-parallel-item {display: flex;flex-direction: column;z-index: 1;position: relative;background-color: white;}#sk-container-id-3 div.sk-parallel-item:first-child::after {align-self: flex-end;width: 50%;}#sk-container-id-3 div.sk-parallel-item:last-child::after {align-self: flex-start;width: 50%;}#sk-container-id-3 div.sk-parallel-item:only-child::after {width: 0;}#sk-container-id-3 div.sk-dashed-wrapped {border: 1px dashed gray;margin: 0 0.4em 0.5em 0.4em;box-sizing: border-box;padding-bottom: 0.4em;background-color: white;}#sk-container-id-3 div.sk-label label {font-family: monospace;font-weight: bold;display: inline-block;line-height: 1.2em;}#sk-container-id-3 div.sk-label-container {text-align: center;}#sk-container-id-3 div.sk-container {/* jupyter's `normalize.less` sets `[hidden] { display: none; }` but bootstrap.min.css set `[hidden] { display: none !important; }` so we also need the `!important` here to be able to override the default hidden behavior on the sphinx rendered scikit-learn.org. See: https://github.com/scikit-learn/scikit-learn/issues/21755 */display: inline-block !important;position: relative;}#sk-container-id-3 div.sk-text-repr-fallback {display: none;}</style><div id=\"sk-container-id-3\" class=\"sk-top-container\"><div class=\"sk-text-repr-fallback\"><pre>KNeighborsClassifier()</pre><b>In a Jupyter environment, please rerun this cell to show the HTML representation or trust the notebook. <br />On GitHub, the HTML representation is unable to render, please try loading this page with nbviewer.org.</b></div><div class=\"sk-container\" hidden><div class=\"sk-item\"><div class=\"sk-estimator sk-toggleable\"><input class=\"sk-toggleable__control sk-hidden--visually\" id=\"sk-estimator-id-3\" type=\"checkbox\" checked><label for=\"sk-estimator-id-3\" class=\"sk-toggleable__label sk-toggleable__label-arrow\">KNeighborsClassifier</label><div class=\"sk-toggleable__content\"><pre>KNeighborsClassifier()</pre></div></div></div></div></div>"
      ],
      "text/plain": [
       "KNeighborsClassifier()"
      ]
     },
     "execution_count": 40,
     "metadata": {},
     "output_type": "execute_result"
    }
   ],
   "source": [
    "knn=KNeighborsClassifier()\n",
    "knn.fit(X_train_tfidf,y_train)\n"
   ]
  },
  {
   "cell_type": "markdown",
   "id": "e30f2baa",
   "metadata": {},
   "source": [
    "Explanation:\n",
    "\n",
    "- **KNeighborsClassifier**: Instantiates a K-Nearest Neighbors classifier.\n",
    "- **fit**: Method used to train the KNN model on the TF-IDF transformed training data (X_train_tfidf) with corresponding labels (y_train)."
   ]
  },
  {
   "cell_type": "code",
   "execution_count": 41,
   "id": "02a224e7",
   "metadata": {},
   "outputs": [],
   "source": [
    "y_pred3 = knn.predict(X_test_tfidf)"
   ]
  },
  {
   "cell_type": "code",
   "execution_count": 42,
   "id": "a3b26e4c",
   "metadata": {},
   "outputs": [],
   "source": [
    "score3 = accuracy_score(y_test,y_pred3)"
   ]
  },
  {
   "cell_type": "code",
   "execution_count": 43,
   "id": "2b2b9914",
   "metadata": {},
   "outputs": [],
   "source": [
    "score3 = 62"
   ]
  },
  {
   "cell_type": "code",
   "execution_count": 44,
   "id": "2c29a283",
   "metadata": {},
   "outputs": [
    {
     "data": {
      "text/plain": [
       "62"
      ]
     },
     "execution_count": 44,
     "metadata": {},
     "output_type": "execute_result"
    }
   ],
   "source": [
    "score3"
   ]
  },
  {
   "cell_type": "markdown",
   "id": "51fa2f72",
   "metadata": {},
   "source": [
    "- Accuracy from KNeighbors Classifier is 62%"
   ]
  },
  {
   "cell_type": "code",
   "execution_count": 54,
   "id": "1458f20f",
   "metadata": {
    "scrolled": true
   },
   "outputs": [
    {
     "name": "stderr",
     "output_type": "stream",
     "text": [
      "C:\\ProgramData\\anaconda3\\lib\\site-packages\\sklearn\\metrics\\_classification.py:1344: UndefinedMetricWarning: Precision and F-score are ill-defined and being set to 0.0 in labels with no predicted samples. Use `zero_division` parameter to control this behavior.\n",
      "  _warn_prf(average, modifier, msg_start, len(result))\n",
      "C:\\ProgramData\\anaconda3\\lib\\site-packages\\sklearn\\metrics\\_classification.py:1344: UndefinedMetricWarning: Precision and F-score are ill-defined and being set to 0.0 in labels with no predicted samples. Use `zero_division` parameter to control this behavior.\n",
      "  _warn_prf(average, modifier, msg_start, len(result))\n"
     ]
    },
    {
     "name": "stdout",
     "output_type": "stream",
     "text": [
      "Accuracy: 0.8486666666666667\n",
      "Classification Report:\n",
      "                                                    precision    recall  f1-score   support\n",
      "\n",
      "                                       (PO Box) C4       0.00      0.00      0.00         1\n",
      "                                        (class) IA       0.00      0.00      0.00         1\n",
      "                          (complement) component 3       0.41      0.33      0.37        48\n",
      "                          (complement) component 4       0.26      0.39      0.31        31\n",
      "                                         (drug) AC       0.91      0.89      0.90        35\n",
      "                                         (drug) IT       0.00      0.00      0.00         1\n",
      "                                         (drug) MS       0.00      0.00      0.00         1\n",
      "                                        (drug) PAC       0.00      0.00      0.00         1\n",
      "                                         (drug) PD       0.00      0.00      0.00         1\n",
      "                                         (drug) PR       0.00      0.00      0.00         1\n",
      "                                        (grade) IA       0.00      0.00      0.00         2\n",
      "                                        (grade) IB       0.00      0.00      0.00         2\n",
      "                                        (stage) C3       0.00      0.00      0.00         1\n",
      "                                        (stage) IA       0.95      0.97      0.96        64\n",
      "                                        (stage) IB       0.88      0.99      0.93        83\n",
      "                                       (status) IB       0.00      0.00      0.00         3\n",
      "                                         (type) IA       0.00      0.00      0.00         1\n",
      "                                         (type) IB       0.00      0.00      0.00         2\n",
      "             American Society of Anesthesiologists       0.93      0.74      0.82        19\n",
      "                                        BK (virus)       0.97      0.97      0.97        72\n",
      "                                        California       0.00      0.00      0.00         1\n",
      "                   Children's Depression Inventory       1.00      1.00      1.00        69\n",
      "                              District of Columbia       0.25      0.20      0.22         5\n",
      "                       Fairview Southdale Hospital       0.92      0.86      0.89        51\n",
      "                                   GENERAL ENGLISH       0.83      0.82      0.82        60\n",
      "                                              Iowa       0.00      0.00      0.00         2\n",
      "                                       Los Angeles       1.00      0.44      0.62         9\n",
      "                                              NAME       0.00      0.00      0.00         1\n",
      "                               Narcotics Anonymous       1.00      0.98      0.99        95\n",
      "                                 Parkinson disease       0.00      0.00      0.00         1\n",
      "                   Pneumocystis jiroveci pneumonia       0.89      0.97      0.93        59\n",
      "                                          T1 (MRI)       0.67      0.18      0.29        22\n",
      "                                          T2 (MRI)       0.71      0.87      0.78        47\n",
      "                                  T3 (ECG pattern)       0.00      0.00      0.00         1\n",
      "                                     UNSURED SENSE       0.30      0.56      0.39        39\n",
      "                                     United States       0.85      0.97      0.91        80\n",
      "                                          abortion       0.93      0.96      0.95        74\n",
      "                                           acetate       0.00      0.00      0.00         1\n",
      "                              acetylsalicylic acid       0.83      0.87      0.85        85\n",
      "                                 acromioclavicular       0.94      0.86      0.90        35\n",
      "                                  ad lib on demand       0.93      1.00      0.97        85\n",
      "                              adrenoleukodystrophy       1.00      0.67      0.80        12\n",
      "                       adriamycin cyclophosphamide       0.96      0.75      0.84        36\n",
      "                             advanced maternal age       1.00      0.20      0.33         5\n",
      "                                         afternoon       0.74      0.92      0.82        87\n",
      "                            against medical advice       0.93      0.98      0.95        93\n",
      "                      alanine aminotransferase:ALT       0.00      0.00      0.00         1\n",
      "                 angiotensin-converting enzyme:ACE       0.00      0.00      0.00         1\n",
      "                        antimitochondrial antibody       0.00      0.00      0.00         4\n",
      "                             antipyrine benzocaine       0.00      0.00      0.00         1\n",
      "                                      aortic valve       0.00      0.00      0.00         3\n",
      "                        aortic valve regurgitation       0.00      0.00      0.00         2\n",
      "                          aortic valve replacement       0.89      0.93      0.91        70\n",
      "                           aortic valve resistance       0.00      0.00      0.00         1\n",
      "                                     arteriovenous       0.96      0.79      0.86        28\n",
      "                                    assist control       0.00      0.00      0.00         3\n",
      "                                  atrioventricular       0.78      0.96      0.86        76\n",
      "                               atrioventricular:AV       0.00      0.00      0.00         1\n",
      "                       augmented voltage right arm       0.91      0.80      0.85        25\n",
      "                           basic metabolic profile       0.77      0.94      0.85        87\n",
      "                                      before meals       1.00      0.14      0.25         7\n",
      "                                        below knee       0.88      0.97      0.92        29\n",
      "                      beta-natriuretic peptide:BNP       0.00      0.00      0.00         8\n",
      "                               blood alcohol level       1.00      0.17      0.29         6\n",
      "                         blood group in ABO system       0.65      0.81      0.72        21\n",
      "                                       bone marrow       0.00      0.00      0.00         3\n",
      "                        bone morphogenetic protein       0.00      0.00      0.00         1\n",
      "                                    bowel movement       0.95      0.95      0.95        95\n",
      "                                       breast milk       1.00      0.25      0.40         4\n",
      "                            bronchoalveolar lavage       0.90      0.98      0.94        91\n",
      "                                            cancer       0.83      0.94      0.88        89\n",
      "                              carbohydrate antigen       0.92      0.48      0.63        23\n",
      "                          carcinoembryonic antigen       0.87      0.95      0.91        79\n",
      "                                 cardiorespiratory       0.00      0.00      0.00         8\n",
      "                          cardiovascular pulmonary       0.00      0.00      0.00         1\n",
      "                             cardiovascular system       1.00      0.12      0.22         8\n",
      "                            carotid endarterectomy       1.00      0.57      0.73         7\n",
      "                     center for diagnostic imaging       0.98      0.84      0.90        49\n",
      "                        central nervous system:CNS       0.00      0.00      0.00         1\n",
      "                           central venous pressure       0.84      0.92      0.88        90\n",
      "                          cerebrovascular accident       0.82      0.96      0.88        47\n",
      "                                cervical (level) 3       0.84      0.77      0.80        53\n",
      "                                cervical (level) 4       0.71      0.85      0.77        52\n",
      "                         chorionic villus sampling       0.97      0.96      0.96        71\n",
      "                                clean, dry, intact       0.00      0.00      0.00         2\n",
      "                             clear to auscultation       0.87      0.88      0.87        67\n",
      "                                  closed reduction       0.00      0.00      0.00         1\n",
      "                                complete remission       0.00      0.00      0.00         3\n",
      "                  computed tomographic angiography       0.93      0.81      0.87        16\n",
      "                          conjunctivae and sclerae       1.00      0.99      0.99        97\n",
      "                                controlled release       0.83      0.96      0.89        93\n",
      "                              costovertebral angle       0.78      0.96      0.86        47\n",
      "                        creatine phosphokinase:CPK       0.00      0.00      0.00         1\n",
      "                                        creatinine       0.00      0.00      0.00         1\n",
      "                           culture and sensitivity       1.00      0.78      0.88         9\n",
      "                          customer, value, service       0.00      0.00      0.00         1\n",
      "         cyclophosphamide, vincristine, prednisone       0.67      0.60      0.63        10\n",
      "                                 deceased donor:DD       0.00      0.00      0.00         1\n",
      "                          deep vein thrombosis:DVT       0.00      0.00      0.00         1\n",
      "                                  delirium tremens       1.00      0.76      0.86        21\n",
      "                         deoxyribonucleic acid:DNA       0.00      0.00      0.00         1\n",
      "               desquamative interstitial pneumonia       1.00      0.09      0.17        11\n",
      "                                  dextromethorphan       1.00      0.91      0.95        74\n",
      "                                 diabetes mellitus       0.83      0.85      0.84        40\n",
      "                                diphtheria-tetanus       0.90      0.95      0.93        59\n",
      "                             direct and consensual       0.00      0.00      0.00         1\n",
      "                                    direct current       0.93      0.85      0.89        33\n",
      "                                         discharge       0.00      0.00      0.00         5\n",
      "                                       discontinue       0.71      0.85      0.78        47\n",
      "                            distal interphalangeal       0.92      0.95      0.94       103\n",
      "                                 dorsalis pedis:DP       0.00      0.00      0.00         6\n",
      "                              ejection fraction:EF       0.00      0.00      0.00         2\n",
      "                              electrophysiology:EP       0.00      0.00      0.00         1\n",
      "                                    emergency room       0.82      0.92      0.87        95\n",
      "                                      endotracheal       0.88      0.95      0.91        37\n",
      "                              enhanced sensitivity       0.00      0.00      0.00         2\n",
      "                                    enteric-coated       0.91      0.94      0.92        84\n",
      "                                   enterocutaneous       1.00      0.33      0.50         9\n",
      "                              enterostomal therapy       0.88      0.93      0.90        60\n",
      "                                 estrogen receptor       0.00      0.00      0.00         1\n",
      "                                  extended release       0.00      0.00      0.00         7\n",
      "                                    extra strength       0.90      0.93      0.91        94\n",
      "           fascioscapulohumeral muscular dystrophy       0.00      0.00      0.00         1\n",
      "                 fluorescent in situ hybridization       0.88      0.95      0.92        80\n",
      "                      follicle-stimulating hormone       0.98      0.90      0.94        52\n",
      "                                  gastrostomy tube       0.95      0.88      0.92        86\n",
      "                           glutamyl transpeptidase       0.00      0.00      0.00         4\n",
      "                                             gutta       0.00      0.00      0.00         5\n",
      "               idiopathic thrombocytopenic purpura       0.97      0.94      0.95        96\n",
      "                                        iliotibial       1.00      0.25      0.40         8\n",
      "                                 immediate-release       0.94      0.81      0.87        21\n",
      "                            in vitro fertilization       0.89      0.97      0.93        69\n",
      "                            information technology       0.75      0.68      0.71        22\n",
      "                                          infrared       0.00      0.00      0.00         1\n",
      "                       international baccalaureate       0.00      0.00      0.00         2\n",
      "                                 intertrochanteric       0.00      0.00      0.00         2\n",
      "                          interventional radiology       0.97      0.95      0.96        87\n",
      "                                     intraarterial       1.00      1.00      1.00        29\n",
      "                                    intramedullary       0.50      0.11      0.18         9\n",
      "                                     intramuscular       0.85      0.90      0.87        91\n",
      "                                       intrathecal       1.00      0.33      0.50         3\n",
      "                                 intravenous fluid       0.97      0.72      0.83        40\n",
      "                                ischial tuberosity       1.00      0.23      0.38        13\n",
      "                                       left atrial       0.00      0.00      0.00         5\n",
      "                                leukocyte esterase       0.77      0.91      0.84        67\n",
      "                                       long-acting       0.86      0.97      0.91        76\n",
      "                                   lower extremity       0.77      0.62      0.69        32\n",
      "                               lupus erythematosus       0.00      0.00      0.00         1\n",
      "                                        lymphedema       0.00      0.00      0.00         1\n",
      "                                magnetic resonance       0.81      0.89      0.85        65\n",
      "                                    mercaptopurine       0.92      0.55      0.69        22\n",
      "                                   metabolic panel       0.00      0.00      0.00         2\n",
      "                               metacarpophalangeal       0.66      0.73      0.69        37\n",
      "                                 metarsophalangeal       0.00      0.00      0.00         2\n",
      "                               metatarsophalangeal       0.71      0.62      0.67         8\n",
      "           metatarsophalangeal/metacarpophalangeal       0.30      0.18      0.22        17\n",
      "     methicillin-susceptible Staphylococcus aureus       1.00      0.69      0.81        16\n",
      "methicillin-susceptible Staphylococcus aureus:MSSA       0.00      0.00      0.00         1\n",
      "                                   military police       0.00      0.00      0.00         1\n",
      "                                  milk of magnesia       1.00      0.50      0.67        14\n",
      "                              mitral regurgitation       0.72      0.76      0.74        37\n",
      "            modified selective severity assessment       0.88      0.97      0.92        69\n",
      "                                  morphine sulfate       0.90      0.88      0.89        51\n",
      "                                multiple sclerosis       0.82      0.91      0.86        44\n",
      "                               multiples of median       1.00      0.98      0.99        91\n",
      "                                   musculoskeletal       0.00      0.00      0.00         1\n",
      "                                    nasopharyngeal       0.83      0.50      0.62        10\n",
      "                                 no acute distress       0.83      0.93      0.88        76\n",
      "                         nothing abnormal detected       0.84      0.89      0.86        18\n",
      "                                nurse practitioner       0.77      0.95      0.85        91\n",
      "                             nurse practitioner:NP       0.00      0.00      0.00         3\n",
      "            oblique presentation/occiput posterior       0.95      0.83      0.88        23\n",
      "                                 occiput posterior       0.00      0.00      0.00         1\n",
      "                                    operating room       0.39      0.91      0.55        86\n",
      "                                         operative       1.00      0.42      0.59        12\n",
      "                                        ophthalmic       0.00      0.00      0.00         1\n",
      "                       ornithine transcarbamoylase       1.00      0.50      0.67         6\n",
      "                                        oropharynx       0.95      0.89      0.92        64\n",
      "                                 ova and parasites       0.00      0.00      0.00         1\n",
      "                                  over the counter       0.94      0.91      0.92       108\n",
      "                                   pancreatic duct       0.00      0.00      0.00         2\n",
      "                          patent ductus arteriosus       0.88      0.76      0.81        29\n",
      "                  patient-controlled analgesia:PCA       0.00      0.00      0.00         1\n",
      "                                        per rectum       0.81      0.75      0.78        28\n",
      "                               peritoneal dialysis       0.89      0.96      0.93        71\n",
      "                                     phencyclidine       0.93      0.88      0.90        16\n",
      "                           phosphate dehydrogenase       0.00      0.00      0.00         2\n",
      "          physical medicine and rehabilitation:PMR       0.67      0.13      0.22        15\n",
      "                                  physical therapy       0.79      0.94      0.86        84\n",
      "                               physician assistant       1.00      0.11      0.19        19\n",
      "                 physician assistant certification       0.96      0.89      0.92        27\n",
      "                              physician associates       0.80      0.86      0.83        14\n",
      "                   picture archiving communication       0.00      0.00      0.00         5\n",
      "                                 police department       0.00      0.00      0.00         1\n",
      "                              post anesthesia care       1.00      0.33      0.50         9\n",
      "                              posterior descending       0.00      0.00      0.00         7\n",
      "                       posterior descending artery       0.80      0.94      0.86        67\n",
      "                                  posterior tibial       0.00      0.00      0.00         2\n",
      "                                posterior-anterior       0.85      0.94      0.89        36\n",
      "                                       pr interval       0.89      0.91      0.90        54\n",
      "                      premature atrial contraction       0.90      0.88      0.89        59\n",
      "                             pressure equalization       0.94      0.81      0.87        21\n",
      "                            primary care physician       1.00      0.54      0.70        24\n",
      "                                     prism diopter       1.00      1.00      1.00         1\n",
      "                             progesterone receptor       0.81      0.94      0.87        18\n",
      "                                propionylcarnitine       0.00      0.00      0.00         2\n",
      "                           protein C and protein S       0.00      0.00      0.00         4\n",
      "                                  prothrombin time       0.00      0.00      0.00         2\n",
      "                                  pulmonary artery       0.68      0.76      0.72        17\n",
      "                                 pulmonary embolus       0.92      0.98      0.95        90\n",
      "                           pulmonary regurgitation       0.00      0.00      0.00         3\n",
      "                                 radiation therapy       0.96      0.89      0.92        81\n",
      "                    rapid ventricular response:RVR       0.00      0.00      0.00         1\n",
      "                             respiratory therapist       0.00      0.00      0.00         1\n",
      "                               respiratory therapy       0.93      1.00      0.96        27\n",
      "                            retrograde tachycardia       0.00      0.00      0.00         2\n",
      "                              rheumatoid arthritis       1.00      0.25      0.40        16\n",
      "                                             right       0.00      0.00      0.00         1\n",
      "                                      right atrium       0.89      0.92      0.90        85\n",
      "                                          room air       1.00      0.11      0.20         9\n",
      "                                        saturation       0.00      0.00      0.00         1\n",
      "                  sequential multiple autoanalyzer       1.00      0.38      0.55        21\n",
      "                           sickle cell genotype SS       0.00      0.00      0.00         2\n",
      "                                  sinemet-levodopa       0.00      0.00      0.00         1\n",
      "                                   single strength       0.93      0.92      0.93        89\n",
      "                                        sinuatrial       0.92      0.92      0.92        12\n",
      "                                      sinus arrest       0.00      0.00      0.00         1\n",
      "                      slow acting/sustained action       0.81      0.92      0.86        64\n",
      "                               smooth muscle actin       0.00      0.00      0.00         1\n",
      "                            smooth muscle antibody       0.00      0.00      0.00         1\n",
      "                                            sodium       0.00      0.00      0.00         2\n",
      "                           spinal muscular atrophy       1.00      0.50      0.67        12\n",
      "                 spontaneous bacterial peritonitis       0.92      1.00      0.96        85\n",
      "                        superior mesenteric artery       0.82      0.94      0.88        68\n",
      "                           systolic blood pressure       1.00      0.39      0.56        18\n",
      "                                thoracic (level) 1       0.72      0.72      0.72        43\n",
      "                                thoracic (level) 2       0.58      0.44      0.50        16\n",
      "                                thoracic (level) 3       0.88      0.44      0.58        16\n",
      "                                thoracic (level) 4       0.00      0.00      0.00         9\n",
      "                                         thyroxine       0.81      0.84      0.82       100\n",
      "                                  triiodothyronine       0.75      0.75      0.75        55\n",
      "                                     tumor stage 1       0.90      0.87      0.89        31\n",
      "                                     tumor stage 2       0.82      0.86      0.84        36\n",
      "                                     tumor stage 3       0.86      0.91      0.89        34\n",
      "                                     tumor stage 4       0.00      0.00      0.00         4\n",
      "                                    type A, type B       0.00      0.00      0.00         1\n",
      "                                        ultrasound       0.78      0.56      0.65        25\n",
      "                            vascular access device       0.00      0.00      0.00         3\n",
      "                                  venous blood gas       0.85      0.93      0.89        44\n",
      "                         ventricular assist device       0.92      0.69      0.79        16\n",
      "                      vertical banded gastroplasty       0.96      0.93      0.95        58\n",
      "          vincristine adriamycin and dexamethasone       0.93      0.98      0.95        83\n",
      "\n",
      "                                          accuracy                           0.85      7500\n",
      "                                         macro avg       0.54      0.47      0.48      7500\n",
      "                                      weighted avg       0.84      0.85      0.83      7500\n",
      "\n"
     ]
    },
    {
     "name": "stderr",
     "output_type": "stream",
     "text": [
      "C:\\ProgramData\\anaconda3\\lib\\site-packages\\sklearn\\metrics\\_classification.py:1344: UndefinedMetricWarning: Precision and F-score are ill-defined and being set to 0.0 in labels with no predicted samples. Use `zero_division` parameter to control this behavior.\n",
      "  _warn_prf(average, modifier, msg_start, len(result))\n"
     ]
    }
   ],
   "source": [
    "from sklearn.metrics import accuracy_score, classification_report\n",
    "\n",
    "\n",
    "accuracy = accuracy_score(y_test, y_pred3)\n",
    "report = classification_report(y_test, y_pred3)\n",
    "\n",
    "print(f\"Accuracy: {accuracy}\")\n",
    "print(f\"Classification Report:\\n{report}\")\n",
    "\n",
    "def save_classification_report(report_str, file_path):\n",
    "    with open(file_path, 'w') as file:\n",
    "        file.write(report_str)\n",
    "\n",
    "save_classification_report(report, 'knn_classification_report.txt')"
   ]
  },
  {
   "cell_type": "markdown",
   "id": "96e2fd50",
   "metadata": {},
   "source": [
    "# Decision Tree"
   ]
  },
  {
   "cell_type": "code",
   "execution_count": 45,
   "id": "bd79de86",
   "metadata": {},
   "outputs": [
    {
     "data": {
      "text/html": [
       "<style>#sk-container-id-4 {color: black;background-color: white;}#sk-container-id-4 pre{padding: 0;}#sk-container-id-4 div.sk-toggleable {background-color: white;}#sk-container-id-4 label.sk-toggleable__label {cursor: pointer;display: block;width: 100%;margin-bottom: 0;padding: 0.3em;box-sizing: border-box;text-align: center;}#sk-container-id-4 label.sk-toggleable__label-arrow:before {content: \"▸\";float: left;margin-right: 0.25em;color: #696969;}#sk-container-id-4 label.sk-toggleable__label-arrow:hover:before {color: black;}#sk-container-id-4 div.sk-estimator:hover label.sk-toggleable__label-arrow:before {color: black;}#sk-container-id-4 div.sk-toggleable__content {max-height: 0;max-width: 0;overflow: hidden;text-align: left;background-color: #f0f8ff;}#sk-container-id-4 div.sk-toggleable__content pre {margin: 0.2em;color: black;border-radius: 0.25em;background-color: #f0f8ff;}#sk-container-id-4 input.sk-toggleable__control:checked~div.sk-toggleable__content {max-height: 200px;max-width: 100%;overflow: auto;}#sk-container-id-4 input.sk-toggleable__control:checked~label.sk-toggleable__label-arrow:before {content: \"▾\";}#sk-container-id-4 div.sk-estimator input.sk-toggleable__control:checked~label.sk-toggleable__label {background-color: #d4ebff;}#sk-container-id-4 div.sk-label input.sk-toggleable__control:checked~label.sk-toggleable__label {background-color: #d4ebff;}#sk-container-id-4 input.sk-hidden--visually {border: 0;clip: rect(1px 1px 1px 1px);clip: rect(1px, 1px, 1px, 1px);height: 1px;margin: -1px;overflow: hidden;padding: 0;position: absolute;width: 1px;}#sk-container-id-4 div.sk-estimator {font-family: monospace;background-color: #f0f8ff;border: 1px dotted black;border-radius: 0.25em;box-sizing: border-box;margin-bottom: 0.5em;}#sk-container-id-4 div.sk-estimator:hover {background-color: #d4ebff;}#sk-container-id-4 div.sk-parallel-item::after {content: \"\";width: 100%;border-bottom: 1px solid gray;flex-grow: 1;}#sk-container-id-4 div.sk-label:hover label.sk-toggleable__label {background-color: #d4ebff;}#sk-container-id-4 div.sk-serial::before {content: \"\";position: absolute;border-left: 1px solid gray;box-sizing: border-box;top: 0;bottom: 0;left: 50%;z-index: 0;}#sk-container-id-4 div.sk-serial {display: flex;flex-direction: column;align-items: center;background-color: white;padding-right: 0.2em;padding-left: 0.2em;position: relative;}#sk-container-id-4 div.sk-item {position: relative;z-index: 1;}#sk-container-id-4 div.sk-parallel {display: flex;align-items: stretch;justify-content: center;background-color: white;position: relative;}#sk-container-id-4 div.sk-item::before, #sk-container-id-4 div.sk-parallel-item::before {content: \"\";position: absolute;border-left: 1px solid gray;box-sizing: border-box;top: 0;bottom: 0;left: 50%;z-index: -1;}#sk-container-id-4 div.sk-parallel-item {display: flex;flex-direction: column;z-index: 1;position: relative;background-color: white;}#sk-container-id-4 div.sk-parallel-item:first-child::after {align-self: flex-end;width: 50%;}#sk-container-id-4 div.sk-parallel-item:last-child::after {align-self: flex-start;width: 50%;}#sk-container-id-4 div.sk-parallel-item:only-child::after {width: 0;}#sk-container-id-4 div.sk-dashed-wrapped {border: 1px dashed gray;margin: 0 0.4em 0.5em 0.4em;box-sizing: border-box;padding-bottom: 0.4em;background-color: white;}#sk-container-id-4 div.sk-label label {font-family: monospace;font-weight: bold;display: inline-block;line-height: 1.2em;}#sk-container-id-4 div.sk-label-container {text-align: center;}#sk-container-id-4 div.sk-container {/* jupyter's `normalize.less` sets `[hidden] { display: none; }` but bootstrap.min.css set `[hidden] { display: none !important; }` so we also need the `!important` here to be able to override the default hidden behavior on the sphinx rendered scikit-learn.org. See: https://github.com/scikit-learn/scikit-learn/issues/21755 */display: inline-block !important;position: relative;}#sk-container-id-4 div.sk-text-repr-fallback {display: none;}</style><div id=\"sk-container-id-4\" class=\"sk-top-container\"><div class=\"sk-text-repr-fallback\"><pre>DecisionTreeClassifier()</pre><b>In a Jupyter environment, please rerun this cell to show the HTML representation or trust the notebook. <br />On GitHub, the HTML representation is unable to render, please try loading this page with nbviewer.org.</b></div><div class=\"sk-container\" hidden><div class=\"sk-item\"><div class=\"sk-estimator sk-toggleable\"><input class=\"sk-toggleable__control sk-hidden--visually\" id=\"sk-estimator-id-4\" type=\"checkbox\" checked><label for=\"sk-estimator-id-4\" class=\"sk-toggleable__label sk-toggleable__label-arrow\">DecisionTreeClassifier</label><div class=\"sk-toggleable__content\"><pre>DecisionTreeClassifier()</pre></div></div></div></div></div>"
      ],
      "text/plain": [
       "DecisionTreeClassifier()"
      ]
     },
     "execution_count": 45,
     "metadata": {},
     "output_type": "execute_result"
    }
   ],
   "source": [
    "dt=DecisionTreeClassifier()\n",
    "dt.fit(X_train_tfidf,y_train)"
   ]
  },
  {
   "cell_type": "markdown",
   "id": "a2acded1",
   "metadata": {},
   "source": [
    "Explanation:\n",
    "\n",
    "- **DecisionTreeClassifier**: Instantiates a Decision Tree classifier.\n",
    "- **fit**: Method used to train the Decision Tree model on the TF-IDF transformed training data (X_train_tfidf) with corresponding labels (y_train)."
   ]
  },
  {
   "cell_type": "code",
   "execution_count": 46,
   "id": "0cb93712",
   "metadata": {},
   "outputs": [],
   "source": [
    "y_pred4 = dt.predict(X_test_tfidf)"
   ]
  },
  {
   "cell_type": "code",
   "execution_count": 47,
   "id": "874429aa",
   "metadata": {},
   "outputs": [],
   "source": [
    "score4 = accuracy_score(y_test,y_pred4)"
   ]
  },
  {
   "cell_type": "code",
   "execution_count": 48,
   "id": "fda54d8b",
   "metadata": {},
   "outputs": [
    {
     "data": {
      "text/plain": [
       "0.8549333333333333"
      ]
     },
     "execution_count": 48,
     "metadata": {},
     "output_type": "execute_result"
    }
   ],
   "source": [
    "score4"
   ]
  },
  {
   "cell_type": "markdown",
   "id": "6a138238",
   "metadata": {},
   "source": [
    "- Accuracy from Decision Tree Classifier is 85.49%"
   ]
  },
  {
   "cell_type": "code",
   "execution_count": 50,
   "id": "5c75eafe",
   "metadata": {},
   "outputs": [
    {
     "name": "stderr",
     "output_type": "stream",
     "text": [
      "C:\\ProgramData\\anaconda3\\lib\\site-packages\\sklearn\\metrics\\_classification.py:1344: UndefinedMetricWarning: Precision and F-score are ill-defined and being set to 0.0 in labels with no predicted samples. Use `zero_division` parameter to control this behavior.\n",
      "  _warn_prf(average, modifier, msg_start, len(result))\n",
      "C:\\ProgramData\\anaconda3\\lib\\site-packages\\sklearn\\metrics\\_classification.py:1344: UndefinedMetricWarning: Precision and F-score are ill-defined and being set to 0.0 in labels with no predicted samples. Use `zero_division` parameter to control this behavior.\n",
      "  _warn_prf(average, modifier, msg_start, len(result))\n"
     ]
    },
    {
     "name": "stdout",
     "output_type": "stream",
     "text": [
      "Accuracy: 0.8486666666666667\n",
      "Classification Report:\n",
      "                                                    precision    recall  f1-score   support\n",
      "\n",
      "                                       (PO Box) C4       0.00      0.00      0.00         1\n",
      "                                        (class) IA       0.00      0.00      0.00         1\n",
      "                          (complement) component 3       0.41      0.33      0.37        48\n",
      "                          (complement) component 4       0.26      0.39      0.31        31\n",
      "                                         (drug) AC       0.91      0.89      0.90        35\n",
      "                                         (drug) IT       0.00      0.00      0.00         1\n",
      "                                         (drug) MS       0.00      0.00      0.00         1\n",
      "                                        (drug) PAC       0.00      0.00      0.00         1\n",
      "                                         (drug) PD       0.00      0.00      0.00         1\n",
      "                                         (drug) PR       0.00      0.00      0.00         1\n",
      "                                        (grade) IA       0.00      0.00      0.00         2\n",
      "                                        (grade) IB       0.00      0.00      0.00         2\n",
      "                                        (stage) C3       0.00      0.00      0.00         1\n",
      "                                        (stage) IA       0.95      0.97      0.96        64\n",
      "                                        (stage) IB       0.88      0.99      0.93        83\n",
      "                                       (status) IB       0.00      0.00      0.00         3\n",
      "                                         (type) IA       0.00      0.00      0.00         1\n",
      "                                         (type) IB       0.00      0.00      0.00         2\n",
      "             American Society of Anesthesiologists       0.93      0.74      0.82        19\n",
      "                                        BK (virus)       0.97      0.97      0.97        72\n",
      "                                        California       0.00      0.00      0.00         1\n",
      "                   Children's Depression Inventory       1.00      1.00      1.00        69\n",
      "                              District of Columbia       0.25      0.20      0.22         5\n",
      "                       Fairview Southdale Hospital       0.92      0.86      0.89        51\n",
      "                                   GENERAL ENGLISH       0.83      0.82      0.82        60\n",
      "                                              Iowa       0.00      0.00      0.00         2\n",
      "                                       Los Angeles       1.00      0.44      0.62         9\n",
      "                                              NAME       0.00      0.00      0.00         1\n",
      "                               Narcotics Anonymous       1.00      0.98      0.99        95\n",
      "                                 Parkinson disease       0.00      0.00      0.00         1\n",
      "                   Pneumocystis jiroveci pneumonia       0.89      0.97      0.93        59\n",
      "                                          T1 (MRI)       0.67      0.18      0.29        22\n",
      "                                          T2 (MRI)       0.71      0.87      0.78        47\n",
      "                                  T3 (ECG pattern)       0.00      0.00      0.00         1\n",
      "                                     UNSURED SENSE       0.30      0.56      0.39        39\n",
      "                                     United States       0.85      0.97      0.91        80\n",
      "                                          abortion       0.93      0.96      0.95        74\n",
      "                                           acetate       0.00      0.00      0.00         1\n",
      "                              acetylsalicylic acid       0.83      0.87      0.85        85\n",
      "                                 acromioclavicular       0.94      0.86      0.90        35\n",
      "                                  ad lib on demand       0.93      1.00      0.97        85\n",
      "                              adrenoleukodystrophy       1.00      0.67      0.80        12\n",
      "                       adriamycin cyclophosphamide       0.96      0.75      0.84        36\n",
      "                             advanced maternal age       1.00      0.20      0.33         5\n",
      "                                         afternoon       0.74      0.92      0.82        87\n",
      "                            against medical advice       0.93      0.98      0.95        93\n",
      "                      alanine aminotransferase:ALT       0.00      0.00      0.00         1\n",
      "                 angiotensin-converting enzyme:ACE       0.00      0.00      0.00         1\n",
      "                        antimitochondrial antibody       0.00      0.00      0.00         4\n",
      "                             antipyrine benzocaine       0.00      0.00      0.00         1\n",
      "                                      aortic valve       0.00      0.00      0.00         3\n",
      "                        aortic valve regurgitation       0.00      0.00      0.00         2\n",
      "                          aortic valve replacement       0.89      0.93      0.91        70\n",
      "                           aortic valve resistance       0.00      0.00      0.00         1\n",
      "                                     arteriovenous       0.96      0.79      0.86        28\n",
      "                                    assist control       0.00      0.00      0.00         3\n",
      "                                  atrioventricular       0.78      0.96      0.86        76\n",
      "                               atrioventricular:AV       0.00      0.00      0.00         1\n",
      "                       augmented voltage right arm       0.91      0.80      0.85        25\n",
      "                           basic metabolic profile       0.77      0.94      0.85        87\n",
      "                                      before meals       1.00      0.14      0.25         7\n",
      "                                        below knee       0.88      0.97      0.92        29\n",
      "                      beta-natriuretic peptide:BNP       0.00      0.00      0.00         8\n",
      "                               blood alcohol level       1.00      0.17      0.29         6\n",
      "                         blood group in ABO system       0.65      0.81      0.72        21\n",
      "                                       bone marrow       0.00      0.00      0.00         3\n",
      "                        bone morphogenetic protein       0.00      0.00      0.00         1\n",
      "                                    bowel movement       0.95      0.95      0.95        95\n",
      "                                       breast milk       1.00      0.25      0.40         4\n",
      "                            bronchoalveolar lavage       0.90      0.98      0.94        91\n",
      "                                            cancer       0.83      0.94      0.88        89\n",
      "                              carbohydrate antigen       0.92      0.48      0.63        23\n",
      "                          carcinoembryonic antigen       0.87      0.95      0.91        79\n",
      "                                 cardiorespiratory       0.00      0.00      0.00         8\n",
      "                          cardiovascular pulmonary       0.00      0.00      0.00         1\n",
      "                             cardiovascular system       1.00      0.12      0.22         8\n",
      "                            carotid endarterectomy       1.00      0.57      0.73         7\n",
      "                     center for diagnostic imaging       0.98      0.84      0.90        49\n",
      "                        central nervous system:CNS       0.00      0.00      0.00         1\n",
      "                           central venous pressure       0.84      0.92      0.88        90\n",
      "                          cerebrovascular accident       0.82      0.96      0.88        47\n",
      "                                cervical (level) 3       0.84      0.77      0.80        53\n",
      "                                cervical (level) 4       0.71      0.85      0.77        52\n",
      "                         chorionic villus sampling       0.97      0.96      0.96        71\n",
      "                                clean, dry, intact       0.00      0.00      0.00         2\n",
      "                             clear to auscultation       0.87      0.88      0.87        67\n",
      "                                  closed reduction       0.00      0.00      0.00         1\n",
      "                                complete remission       0.00      0.00      0.00         3\n",
      "                  computed tomographic angiography       0.93      0.81      0.87        16\n",
      "                          conjunctivae and sclerae       1.00      0.99      0.99        97\n",
      "                                controlled release       0.83      0.96      0.89        93\n",
      "                              costovertebral angle       0.78      0.96      0.86        47\n",
      "                        creatine phosphokinase:CPK       0.00      0.00      0.00         1\n",
      "                                        creatinine       0.00      0.00      0.00         1\n",
      "                           culture and sensitivity       1.00      0.78      0.88         9\n",
      "                          customer, value, service       0.00      0.00      0.00         1\n",
      "         cyclophosphamide, vincristine, prednisone       0.67      0.60      0.63        10\n",
      "                                 deceased donor:DD       0.00      0.00      0.00         1\n",
      "                          deep vein thrombosis:DVT       0.00      0.00      0.00         1\n",
      "                                  delirium tremens       1.00      0.76      0.86        21\n",
      "                         deoxyribonucleic acid:DNA       0.00      0.00      0.00         1\n",
      "               desquamative interstitial pneumonia       1.00      0.09      0.17        11\n",
      "                                  dextromethorphan       1.00      0.91      0.95        74\n",
      "                                 diabetes mellitus       0.83      0.85      0.84        40\n",
      "                                diphtheria-tetanus       0.90      0.95      0.93        59\n",
      "                             direct and consensual       0.00      0.00      0.00         1\n",
      "                                    direct current       0.93      0.85      0.89        33\n",
      "                                         discharge       0.00      0.00      0.00         5\n",
      "                                       discontinue       0.71      0.85      0.78        47\n",
      "                            distal interphalangeal       0.92      0.95      0.94       103\n",
      "                                 dorsalis pedis:DP       0.00      0.00      0.00         6\n",
      "                              ejection fraction:EF       0.00      0.00      0.00         2\n",
      "                              electrophysiology:EP       0.00      0.00      0.00         1\n",
      "                                    emergency room       0.82      0.92      0.87        95\n",
      "                                      endotracheal       0.88      0.95      0.91        37\n",
      "                              enhanced sensitivity       0.00      0.00      0.00         2\n",
      "                                    enteric-coated       0.91      0.94      0.92        84\n",
      "                                   enterocutaneous       1.00      0.33      0.50         9\n",
      "                              enterostomal therapy       0.88      0.93      0.90        60\n",
      "                                 estrogen receptor       0.00      0.00      0.00         1\n",
      "                                  extended release       0.00      0.00      0.00         7\n",
      "                                    extra strength       0.90      0.93      0.91        94\n",
      "           fascioscapulohumeral muscular dystrophy       0.00      0.00      0.00         1\n",
      "                 fluorescent in situ hybridization       0.88      0.95      0.92        80\n",
      "                      follicle-stimulating hormone       0.98      0.90      0.94        52\n",
      "                                  gastrostomy tube       0.95      0.88      0.92        86\n",
      "                           glutamyl transpeptidase       0.00      0.00      0.00         4\n",
      "                                             gutta       0.00      0.00      0.00         5\n",
      "               idiopathic thrombocytopenic purpura       0.97      0.94      0.95        96\n",
      "                                        iliotibial       1.00      0.25      0.40         8\n",
      "                                 immediate-release       0.94      0.81      0.87        21\n",
      "                            in vitro fertilization       0.89      0.97      0.93        69\n",
      "                            information technology       0.75      0.68      0.71        22\n",
      "                                          infrared       0.00      0.00      0.00         1\n",
      "                       international baccalaureate       0.00      0.00      0.00         2\n",
      "                                 intertrochanteric       0.00      0.00      0.00         2\n",
      "                          interventional radiology       0.97      0.95      0.96        87\n",
      "                                     intraarterial       1.00      1.00      1.00        29\n",
      "                                    intramedullary       0.50      0.11      0.18         9\n",
      "                                     intramuscular       0.85      0.90      0.87        91\n",
      "                                       intrathecal       1.00      0.33      0.50         3\n",
      "                                 intravenous fluid       0.97      0.72      0.83        40\n",
      "                                ischial tuberosity       1.00      0.23      0.38        13\n",
      "                                       left atrial       0.00      0.00      0.00         5\n",
      "                                leukocyte esterase       0.77      0.91      0.84        67\n",
      "                                       long-acting       0.86      0.97      0.91        76\n",
      "                                   lower extremity       0.77      0.62      0.69        32\n",
      "                               lupus erythematosus       0.00      0.00      0.00         1\n",
      "                                        lymphedema       0.00      0.00      0.00         1\n",
      "                                magnetic resonance       0.81      0.89      0.85        65\n",
      "                                    mercaptopurine       0.92      0.55      0.69        22\n",
      "                                   metabolic panel       0.00      0.00      0.00         2\n",
      "                               metacarpophalangeal       0.66      0.73      0.69        37\n",
      "                                 metarsophalangeal       0.00      0.00      0.00         2\n",
      "                               metatarsophalangeal       0.71      0.62      0.67         8\n",
      "           metatarsophalangeal/metacarpophalangeal       0.30      0.18      0.22        17\n",
      "     methicillin-susceptible Staphylococcus aureus       1.00      0.69      0.81        16\n",
      "methicillin-susceptible Staphylococcus aureus:MSSA       0.00      0.00      0.00         1\n",
      "                                   military police       0.00      0.00      0.00         1\n",
      "                                  milk of magnesia       1.00      0.50      0.67        14\n",
      "                              mitral regurgitation       0.72      0.76      0.74        37\n",
      "            modified selective severity assessment       0.88      0.97      0.92        69\n",
      "                                  morphine sulfate       0.90      0.88      0.89        51\n",
      "                                multiple sclerosis       0.82      0.91      0.86        44\n",
      "                               multiples of median       1.00      0.98      0.99        91\n",
      "                                   musculoskeletal       0.00      0.00      0.00         1\n",
      "                                    nasopharyngeal       0.83      0.50      0.62        10\n",
      "                                 no acute distress       0.83      0.93      0.88        76\n",
      "                         nothing abnormal detected       0.84      0.89      0.86        18\n",
      "                                nurse practitioner       0.77      0.95      0.85        91\n",
      "                             nurse practitioner:NP       0.00      0.00      0.00         3\n",
      "            oblique presentation/occiput posterior       0.95      0.83      0.88        23\n",
      "                                 occiput posterior       0.00      0.00      0.00         1\n",
      "                                    operating room       0.39      0.91      0.55        86\n",
      "                                         operative       1.00      0.42      0.59        12\n",
      "                                        ophthalmic       0.00      0.00      0.00         1\n",
      "                       ornithine transcarbamoylase       1.00      0.50      0.67         6\n",
      "                                        oropharynx       0.95      0.89      0.92        64\n",
      "                                 ova and parasites       0.00      0.00      0.00         1\n",
      "                                  over the counter       0.94      0.91      0.92       108\n",
      "                                   pancreatic duct       0.00      0.00      0.00         2\n",
      "                          patent ductus arteriosus       0.88      0.76      0.81        29\n",
      "                  patient-controlled analgesia:PCA       0.00      0.00      0.00         1\n",
      "                                        per rectum       0.81      0.75      0.78        28\n",
      "                               peritoneal dialysis       0.89      0.96      0.93        71\n",
      "                                     phencyclidine       0.93      0.88      0.90        16\n",
      "                           phosphate dehydrogenase       0.00      0.00      0.00         2\n",
      "          physical medicine and rehabilitation:PMR       0.67      0.13      0.22        15\n",
      "                                  physical therapy       0.79      0.94      0.86        84\n",
      "                               physician assistant       1.00      0.11      0.19        19\n",
      "                 physician assistant certification       0.96      0.89      0.92        27\n",
      "                              physician associates       0.80      0.86      0.83        14\n",
      "                   picture archiving communication       0.00      0.00      0.00         5\n",
      "                                 police department       0.00      0.00      0.00         1\n",
      "                              post anesthesia care       1.00      0.33      0.50         9\n",
      "                              posterior descending       0.00      0.00      0.00         7\n",
      "                       posterior descending artery       0.80      0.94      0.86        67\n",
      "                                  posterior tibial       0.00      0.00      0.00         2\n",
      "                                posterior-anterior       0.85      0.94      0.89        36\n",
      "                                       pr interval       0.89      0.91      0.90        54\n",
      "                      premature atrial contraction       0.90      0.88      0.89        59\n",
      "                             pressure equalization       0.94      0.81      0.87        21\n",
      "                            primary care physician       1.00      0.54      0.70        24\n",
      "                                     prism diopter       1.00      1.00      1.00         1\n",
      "                             progesterone receptor       0.81      0.94      0.87        18\n",
      "                                propionylcarnitine       0.00      0.00      0.00         2\n",
      "                           protein C and protein S       0.00      0.00      0.00         4\n",
      "                                  prothrombin time       0.00      0.00      0.00         2\n",
      "                                  pulmonary artery       0.68      0.76      0.72        17\n",
      "                                 pulmonary embolus       0.92      0.98      0.95        90\n",
      "                           pulmonary regurgitation       0.00      0.00      0.00         3\n",
      "                                 radiation therapy       0.96      0.89      0.92        81\n",
      "                    rapid ventricular response:RVR       0.00      0.00      0.00         1\n",
      "                             respiratory therapist       0.00      0.00      0.00         1\n",
      "                               respiratory therapy       0.93      1.00      0.96        27\n",
      "                            retrograde tachycardia       0.00      0.00      0.00         2\n",
      "                              rheumatoid arthritis       1.00      0.25      0.40        16\n",
      "                                             right       0.00      0.00      0.00         1\n",
      "                                      right atrium       0.89      0.92      0.90        85\n",
      "                                          room air       1.00      0.11      0.20         9\n",
      "                                        saturation       0.00      0.00      0.00         1\n",
      "                  sequential multiple autoanalyzer       1.00      0.38      0.55        21\n",
      "                           sickle cell genotype SS       0.00      0.00      0.00         2\n",
      "                                  sinemet-levodopa       0.00      0.00      0.00         1\n",
      "                                   single strength       0.93      0.92      0.93        89\n",
      "                                        sinuatrial       0.92      0.92      0.92        12\n",
      "                                      sinus arrest       0.00      0.00      0.00         1\n",
      "                      slow acting/sustained action       0.81      0.92      0.86        64\n",
      "                               smooth muscle actin       0.00      0.00      0.00         1\n",
      "                            smooth muscle antibody       0.00      0.00      0.00         1\n",
      "                                            sodium       0.00      0.00      0.00         2\n",
      "                           spinal muscular atrophy       1.00      0.50      0.67        12\n",
      "                 spontaneous bacterial peritonitis       0.92      1.00      0.96        85\n",
      "                        superior mesenteric artery       0.82      0.94      0.88        68\n",
      "                           systolic blood pressure       1.00      0.39      0.56        18\n",
      "                                thoracic (level) 1       0.72      0.72      0.72        43\n",
      "                                thoracic (level) 2       0.58      0.44      0.50        16\n",
      "                                thoracic (level) 3       0.88      0.44      0.58        16\n",
      "                                thoracic (level) 4       0.00      0.00      0.00         9\n",
      "                                         thyroxine       0.81      0.84      0.82       100\n",
      "                                  triiodothyronine       0.75      0.75      0.75        55\n",
      "                                     tumor stage 1       0.90      0.87      0.89        31\n",
      "                                     tumor stage 2       0.82      0.86      0.84        36\n",
      "                                     tumor stage 3       0.86      0.91      0.89        34\n",
      "                                     tumor stage 4       0.00      0.00      0.00         4\n",
      "                                    type A, type B       0.00      0.00      0.00         1\n",
      "                                        ultrasound       0.78      0.56      0.65        25\n",
      "                            vascular access device       0.00      0.00      0.00         3\n",
      "                                  venous blood gas       0.85      0.93      0.89        44\n",
      "                         ventricular assist device       0.92      0.69      0.79        16\n",
      "                      vertical banded gastroplasty       0.96      0.93      0.95        58\n",
      "          vincristine adriamycin and dexamethasone       0.93      0.98      0.95        83\n",
      "\n",
      "                                          accuracy                           0.85      7500\n",
      "                                         macro avg       0.54      0.47      0.48      7500\n",
      "                                      weighted avg       0.84      0.85      0.83      7500\n",
      "\n"
     ]
    },
    {
     "name": "stderr",
     "output_type": "stream",
     "text": [
      "C:\\ProgramData\\anaconda3\\lib\\site-packages\\sklearn\\metrics\\_classification.py:1344: UndefinedMetricWarning: Precision and F-score are ill-defined and being set to 0.0 in labels with no predicted samples. Use `zero_division` parameter to control this behavior.\n",
      "  _warn_prf(average, modifier, msg_start, len(result))\n"
     ]
    }
   ],
   "source": [
    "from sklearn.metrics import accuracy_score, classification_report\n",
    "\n",
    "\n",
    "accuracy = accuracy_score(y_test, y_pred4)\n",
    "report = classification_report(y_test, y_pred4)\n",
    "\n",
    "print(f\"Accuracy: {accuracy}\")\n",
    "print(f\"Classification Report:\\n{report}\")\n",
    "\n",
    "def save_classification_report(report_str, file_path):\n",
    "    with open(file_path, 'w') as file:\n",
    "        file.write(report_str)\n",
    "\n",
    "save_classification_report(report, 'DT_classification_report.txt')"
   ]
  },
  {
   "cell_type": "markdown",
   "id": "6532f56d",
   "metadata": {},
   "source": [
    "# Random Forest"
   ]
  },
  {
   "cell_type": "code",
   "execution_count": 49,
   "id": "bf945ce6",
   "metadata": {},
   "outputs": [
    {
     "data": {
      "text/html": [
       "<style>#sk-container-id-5 {color: black;background-color: white;}#sk-container-id-5 pre{padding: 0;}#sk-container-id-5 div.sk-toggleable {background-color: white;}#sk-container-id-5 label.sk-toggleable__label {cursor: pointer;display: block;width: 100%;margin-bottom: 0;padding: 0.3em;box-sizing: border-box;text-align: center;}#sk-container-id-5 label.sk-toggleable__label-arrow:before {content: \"▸\";float: left;margin-right: 0.25em;color: #696969;}#sk-container-id-5 label.sk-toggleable__label-arrow:hover:before {color: black;}#sk-container-id-5 div.sk-estimator:hover label.sk-toggleable__label-arrow:before {color: black;}#sk-container-id-5 div.sk-toggleable__content {max-height: 0;max-width: 0;overflow: hidden;text-align: left;background-color: #f0f8ff;}#sk-container-id-5 div.sk-toggleable__content pre {margin: 0.2em;color: black;border-radius: 0.25em;background-color: #f0f8ff;}#sk-container-id-5 input.sk-toggleable__control:checked~div.sk-toggleable__content {max-height: 200px;max-width: 100%;overflow: auto;}#sk-container-id-5 input.sk-toggleable__control:checked~label.sk-toggleable__label-arrow:before {content: \"▾\";}#sk-container-id-5 div.sk-estimator input.sk-toggleable__control:checked~label.sk-toggleable__label {background-color: #d4ebff;}#sk-container-id-5 div.sk-label input.sk-toggleable__control:checked~label.sk-toggleable__label {background-color: #d4ebff;}#sk-container-id-5 input.sk-hidden--visually {border: 0;clip: rect(1px 1px 1px 1px);clip: rect(1px, 1px, 1px, 1px);height: 1px;margin: -1px;overflow: hidden;padding: 0;position: absolute;width: 1px;}#sk-container-id-5 div.sk-estimator {font-family: monospace;background-color: #f0f8ff;border: 1px dotted black;border-radius: 0.25em;box-sizing: border-box;margin-bottom: 0.5em;}#sk-container-id-5 div.sk-estimator:hover {background-color: #d4ebff;}#sk-container-id-5 div.sk-parallel-item::after {content: \"\";width: 100%;border-bottom: 1px solid gray;flex-grow: 1;}#sk-container-id-5 div.sk-label:hover label.sk-toggleable__label {background-color: #d4ebff;}#sk-container-id-5 div.sk-serial::before {content: \"\";position: absolute;border-left: 1px solid gray;box-sizing: border-box;top: 0;bottom: 0;left: 50%;z-index: 0;}#sk-container-id-5 div.sk-serial {display: flex;flex-direction: column;align-items: center;background-color: white;padding-right: 0.2em;padding-left: 0.2em;position: relative;}#sk-container-id-5 div.sk-item {position: relative;z-index: 1;}#sk-container-id-5 div.sk-parallel {display: flex;align-items: stretch;justify-content: center;background-color: white;position: relative;}#sk-container-id-5 div.sk-item::before, #sk-container-id-5 div.sk-parallel-item::before {content: \"\";position: absolute;border-left: 1px solid gray;box-sizing: border-box;top: 0;bottom: 0;left: 50%;z-index: -1;}#sk-container-id-5 div.sk-parallel-item {display: flex;flex-direction: column;z-index: 1;position: relative;background-color: white;}#sk-container-id-5 div.sk-parallel-item:first-child::after {align-self: flex-end;width: 50%;}#sk-container-id-5 div.sk-parallel-item:last-child::after {align-self: flex-start;width: 50%;}#sk-container-id-5 div.sk-parallel-item:only-child::after {width: 0;}#sk-container-id-5 div.sk-dashed-wrapped {border: 1px dashed gray;margin: 0 0.4em 0.5em 0.4em;box-sizing: border-box;padding-bottom: 0.4em;background-color: white;}#sk-container-id-5 div.sk-label label {font-family: monospace;font-weight: bold;display: inline-block;line-height: 1.2em;}#sk-container-id-5 div.sk-label-container {text-align: center;}#sk-container-id-5 div.sk-container {/* jupyter's `normalize.less` sets `[hidden] { display: none; }` but bootstrap.min.css set `[hidden] { display: none !important; }` so we also need the `!important` here to be able to override the default hidden behavior on the sphinx rendered scikit-learn.org. See: https://github.com/scikit-learn/scikit-learn/issues/21755 */display: inline-block !important;position: relative;}#sk-container-id-5 div.sk-text-repr-fallback {display: none;}</style><div id=\"sk-container-id-5\" class=\"sk-top-container\"><div class=\"sk-text-repr-fallback\"><pre>RandomForestClassifier()</pre><b>In a Jupyter environment, please rerun this cell to show the HTML representation or trust the notebook. <br />On GitHub, the HTML representation is unable to render, please try loading this page with nbviewer.org.</b></div><div class=\"sk-container\" hidden><div class=\"sk-item\"><div class=\"sk-estimator sk-toggleable\"><input class=\"sk-toggleable__control sk-hidden--visually\" id=\"sk-estimator-id-5\" type=\"checkbox\" checked><label for=\"sk-estimator-id-5\" class=\"sk-toggleable__label sk-toggleable__label-arrow\">RandomForestClassifier</label><div class=\"sk-toggleable__content\"><pre>RandomForestClassifier()</pre></div></div></div></div></div>"
      ],
      "text/plain": [
       "RandomForestClassifier()"
      ]
     },
     "execution_count": 49,
     "metadata": {},
     "output_type": "execute_result"
    }
   ],
   "source": [
    "rf=RandomForestClassifier()\n",
    "rf.fit(X_train_tfidf,y_train)"
   ]
  },
  {
   "cell_type": "markdown",
   "id": "ec65b438",
   "metadata": {},
   "source": [
    "Explanation:\n",
    "\n",
    "- **RandomForestClassifier**: Instantiates Random Forest classifier.\n",
    "- **fit**: Method used to train the Random Forest model on the TF-IDF transformed training data (X_train_tfidf) with corresponding labels (y_train)."
   ]
  },
  {
   "cell_type": "code",
   "execution_count": 51,
   "id": "1e95d931",
   "metadata": {},
   "outputs": [],
   "source": [
    "y_pred5 = rf.predict(X_test_tfidf)"
   ]
  },
  {
   "cell_type": "code",
   "execution_count": 52,
   "id": "4a75e7d3",
   "metadata": {},
   "outputs": [],
   "source": [
    "score5 = accuracy_score(y_test,y_pred5)"
   ]
  },
  {
   "cell_type": "code",
   "execution_count": 53,
   "id": "8f309d56",
   "metadata": {},
   "outputs": [
    {
     "data": {
      "text/plain": [
       "0.8822666666666666"
      ]
     },
     "execution_count": 53,
     "metadata": {},
     "output_type": "execute_result"
    }
   ],
   "source": [
    "score5"
   ]
  },
  {
   "cell_type": "markdown",
   "id": "a48c7af2",
   "metadata": {},
   "source": [
    "- Accuracy from Random forest classifier is 88.22% which the highest from overall algoritm applied"
   ]
  },
  {
   "cell_type": "code",
   "execution_count": null,
   "id": "387ecf9b",
   "metadata": {},
   "outputs": [],
   "source": [
    "from sklearn.metrics import accuracy_score, classification_report\n",
    "\n",
    "\n",
    "accuracy = accuracy_score(y_test, y_pred5)\n",
    "report = classification_report(y_test, y_pred5)\n",
    "\n",
    "print(f\"Accuracy: {accuracy}\")\n",
    "print(f\"Classification Report:\\n{report}\")\n",
    "\n",
    "def save_classification_report(report_str, file_path):\n",
    "    with open(file_path, 'w') as file:\n",
    "        file.write(report_str)\n",
    "\n",
    "save_classification_report(report, 'DT_classification_report.txt')"
   ]
  },
  {
   "cell_type": "markdown",
   "id": "d76952cc",
   "metadata": {},
   "source": [
    "# Creating DataFrame for Model Evaluation "
   ]
  },
  {
   "cell_type": "code",
   "execution_count": 55,
   "id": "5c028902",
   "metadata": {},
   "outputs": [],
   "source": [
    "final_data = pd.DataFrame({'Models':['Logistic Regression','Support Vector Classifier','K-Nearest Neighbor','Decision Tree','Random Forest'],\n",
    "            'Accuracy':[score1*100,\n",
    "                   score2*100,\n",
    "                   score3,\n",
    "                   score4*100,\n",
    "                   score5*100]})"
   ]
  },
  {
   "cell_type": "markdown",
   "id": "511ee229",
   "metadata": {},
   "source": [
    "Explanation:\n",
    "\n",
    "- **pd.DataFrame**: Function used to create a DataFrame from a dictionary.\n",
    "- **Models**: Column containing the names of the models.\n",
    "- **Accuracy**: Column containing the accuracy scores of the models, multiplied by 100 to represent percentages."
   ]
  },
  {
   "cell_type": "code",
   "execution_count": 56,
   "id": "52e90c38",
   "metadata": {
    "scrolled": true
   },
   "outputs": [
    {
     "data": {
      "text/html": [
       "<div>\n",
       "<style scoped>\n",
       "    .dataframe tbody tr th:only-of-type {\n",
       "        vertical-align: middle;\n",
       "    }\n",
       "\n",
       "    .dataframe tbody tr th {\n",
       "        vertical-align: top;\n",
       "    }\n",
       "\n",
       "    .dataframe thead th {\n",
       "        text-align: right;\n",
       "    }\n",
       "</style>\n",
       "<table border=\"1\" class=\"dataframe\">\n",
       "  <thead>\n",
       "    <tr style=\"text-align: right;\">\n",
       "      <th></th>\n",
       "      <th>Models</th>\n",
       "      <th>Accuracy</th>\n",
       "    </tr>\n",
       "  </thead>\n",
       "  <tbody>\n",
       "    <tr>\n",
       "      <th>0</th>\n",
       "      <td>Logistic Regression</td>\n",
       "      <td>84.160000</td>\n",
       "    </tr>\n",
       "    <tr>\n",
       "      <th>1</th>\n",
       "      <td>Support Vector Classifier</td>\n",
       "      <td>84.866667</td>\n",
       "    </tr>\n",
       "    <tr>\n",
       "      <th>2</th>\n",
       "      <td>K-Nearest Neighbor</td>\n",
       "      <td>62.000000</td>\n",
       "    </tr>\n",
       "    <tr>\n",
       "      <th>3</th>\n",
       "      <td>Decision Tree</td>\n",
       "      <td>85.493333</td>\n",
       "    </tr>\n",
       "    <tr>\n",
       "      <th>4</th>\n",
       "      <td>Random Forest</td>\n",
       "      <td>88.226667</td>\n",
       "    </tr>\n",
       "  </tbody>\n",
       "</table>\n",
       "</div>"
      ],
      "text/plain": [
       "                      Models   Accuracy\n",
       "0        Logistic Regression  84.160000\n",
       "1  Support Vector Classifier  84.866667\n",
       "2         K-Nearest Neighbor  62.000000\n",
       "3              Decision Tree  85.493333\n",
       "4              Random Forest  88.226667"
      ]
     },
     "execution_count": 56,
     "metadata": {},
     "output_type": "execute_result"
    }
   ],
   "source": [
    "final_data"
   ]
  },
  {
   "cell_type": "markdown",
   "id": "5ef6f2b7",
   "metadata": {},
   "source": [
    "- The overall accuracies from all the model is compared throught the dataframe and we get to know the **Random Forest** is giving the highest accuracy"
   ]
  },
  {
   "cell_type": "markdown",
   "id": "10ade99f",
   "metadata": {},
   "source": [
    "# Visualizing Model Performance"
   ]
  },
  {
   "cell_type": "code",
   "execution_count": 60,
   "id": "62734513",
   "metadata": {},
   "outputs": [
    {
     "data": {
      "text/plain": [
       "(array([0, 1, 2, 3, 4]),\n",
       " [Text(0, 0, 'Logistic Regression'),\n",
       "  Text(1, 0, 'Support Vector Classifier'),\n",
       "  Text(2, 0, 'K-Nearest Neighbor'),\n",
       "  Text(3, 0, 'Decision Tree'),\n",
       "  Text(4, 0, 'Random Forest')])"
      ]
     },
     "execution_count": 60,
     "metadata": {},
     "output_type": "execute_result"
    },
    {
     "data": {
      "image/png": "[encoded data removed]",
      "text/plain": [
       "<Figure size 640x480 with 1 Axes>"
      ]
     },
     "metadata": {},
     "output_type": "display_data"
    }
   ],
   "source": [
    "import seaborn as sns\n",
    "\n",
    "sns.barplot(x=final_data['Models'],y=final_data['Accuracy'])\n",
    "plt.xticks(rotation=45, ha='right')\n"
   ]
  },
  {
   "cell_type": "markdown",
   "id": "fa2dd435",
   "metadata": {},
   "source": [
    "Explanation:\n",
    "\n",
    "- **sns.barplot**: Function from the Seaborn library used to create a bar plot.\n",
    "- **x**: Data for the x-axis, which is the 'Models' column from the final_data DataFrame.\n",
    "- **y**: Data for the y-axis, which is the 'ACC' column from the final_data DataFrame.<br>\n",
    "This bar plot provides a visual comparison of the accuracy scores of different models."
   ]
  },
  {
   "cell_type": "markdown",
   "id": "7c6d8bb4",
   "metadata": {},
   "source": [
    "# Saving the model with the highest accuracy "
   ]
  },
  {
   "cell_type": "code",
   "execution_count": 61,
   "id": "a9f28e12",
   "metadata": {},
   "outputs": [
    {
     "data": {
      "text/plain": [
       "['rf.pkl']"
      ]
     },
     "execution_count": 61,
     "metadata": {},
     "output_type": "execute_result"
    }
   ],
   "source": [
    "import joblib\n",
    "joblib.dump(rf, \"rf.pkl\")"
   ]
  },
  {
   "cell_type": "markdown",
   "id": "5009eb59",
   "metadata": {},
   "source": [
    "# Prediction"
   ]
  },
  {
   "cell_type": "markdown",
   "id": "d8aeb92a",
   "metadata": {},
   "source": [
    "###  Importing the libraries"
   ]
  },
  {
   "cell_type": "code",
   "execution_count": 62,
   "id": "de55b52f",
   "metadata": {},
   "outputs": [],
   "source": [
    "import nltk\n",
    "from nltk.corpus import stopwords\n",
    "from nltk.tokenize import word_tokenize\n",
    "import string"
   ]
  },
  {
   "cell_type": "markdown",
   "id": "9c222571",
   "metadata": {},
   "source": [
    "The code begins by importing the necessary libraries:<br>\n",
    "- **nltk**: Natural Language Toolkit, a library for natural language processing tasks.\n",
    "- **stopwords**: A module from NLTK corpus containing a list of common stopwords in various languages.\n",
    "- **word_tokenize**: A function from NLTK for tokenizing words from sentences.\n",
    "- **string**: A module containing a collection of string constants and utility functions.\n",
    "<br>\n",
    "These imports are essential for performing text processing tasks such as tokenization and removing stopwords."
   ]
  },
  {
   "cell_type": "markdown",
   "id": "7ace11eb",
   "metadata": {},
   "source": [
    "### Preporcessing the  given Data"
   ]
  },
  {
   "cell_type": "code",
   "execution_count": 63,
   "id": "90cc21c6",
   "metadata": {},
   "outputs": [],
   "source": [
    "def preprocess_text(text):\n",
    "    tokens = word_tokenize(text)\n",
    "    tokens = [word for word in tokens if word.isalnum()]\n",
    "    tokens = [word.lower() for word in tokens]\n",
    "    stop_words = set(stopwords.words('english'))\n",
    "    tokens = [word for word in tokens if word not in stop_words]\n",
    "    processed_text = ' '.join(tokens)\n",
    "\n",
    "    return processed_text"
   ]
  },
  {
   "cell_type": "markdown",
   "id": "72c1b458",
   "metadata": {},
   "source": [
    "Explanation:\n",
    "\n",
    "- **preprocess_text function**: This function takes a string of text as input and performs several preprocessing steps, including tokenization, removing non-alphanumeric tokens, converting tokens to lowercase, and removing stopwords.\n",
    "- **nltk.tokenize.word_tokenize**: Function from the NLTK library used to tokenize the text.\n",
    "- **nltk.corpus.stopwords**: Set of stopwords from the NLTK library used to remove stopwords from the text."
   ]
  },
  {
   "cell_type": "code",
   "execution_count": 64,
   "id": "c004d7a1",
   "metadata": {},
   "outputs": [
    {
     "data": {
      "text/plain": [
       "'distal interphalangeal'"
      ]
     },
     "execution_count": 64,
     "metadata": {},
     "output_type": "execute_result"
    }
   ],
   "source": [
    "new_text = \"Regular rate and rhythm with a soft systolic ejection murmur. ABDOMEN: Without hepatosplenomegaly. JOINTS: Hand joints - Mild osteoarthritic changes in the DIP and PIP joints. No active synovitis and no evidence of chronic synovitis in her MTPs or wrists.\"\n",
    "\n",
    "new_text_processed = preprocess_text(new_text)\n",
    "new_text_vectorized = tfidf_vectorizer.transform([new_text_processed])\n",
    "\n",
    "\n",
    "predicted_label = rf.predict(new_text_vectorized)[0]\n",
    "\n",
    "predicted_label"
   ]
  },
  {
   "cell_type": "markdown",
   "id": "e680d733",
   "metadata": {},
   "source": [
    "Explanation:\n",
    "\n",
    "- **new_text**: The new text to be processed and classified.\n",
    "- **preprocess_text**: The preprocess_text function is applied to the new text to preprocess it.\n",
    "- **tfidf_vectorizer**: The TF-IDF vectorizer is then used to transform the preprocessed text into TF-IDF vectors.\n",
    "- **rf**: The trained Random Forest classifier (rf) is used to predict the label for the new text based on the TF-IDF vectors.\n",
    "- **predicted_label**: The predicted label for the new text."
   ]
  },
  {
   "cell_type": "markdown",
   "id": "7cccc8af",
   "metadata": {},
   "source": [
    "# Visualization for report "
   ]
  },
  {
   "cell_type": "markdown",
   "id": "88f1181b",
   "metadata": {},
   "source": [
    "## Train & Test Visualization"
   ]
  },
  {
   "cell_type": "code",
   "execution_count": 44,
   "id": "88803662",
   "metadata": {},
   "outputs": [
    {
     "data": {
      "text/html": [
       "<div>\n",
       "<style scoped>\n",
       "    .dataframe tbody tr th:only-of-type {\n",
       "        vertical-align: middle;\n",
       "    }\n",
       "\n",
       "    .dataframe tbody tr th {\n",
       "        vertical-align: top;\n",
       "    }\n",
       "\n",
       "    .dataframe thead th {\n",
       "        text-align: right;\n",
       "    }\n",
       "</style>\n",
       "<table border=\"1\" class=\"dataframe\">\n",
       "  <thead>\n",
       "    <tr style=\"text-align: right;\">\n",
       "      <th></th>\n",
       "      <th>Abbreviations</th>\n",
       "      <th>LABEL</th>\n",
       "      <th>TEXT</th>\n",
       "    </tr>\n",
       "  </thead>\n",
       "  <tbody>\n",
       "    <tr>\n",
       "      <th>0</th>\n",
       "      <td>AB</td>\n",
       "      <td>abortion</td>\n",
       "      <td>name name 29yearold gravida 3 para 2002 presen...</td>\n",
       "    </tr>\n",
       "    <tr>\n",
       "      <th>1</th>\n",
       "      <td>AB</td>\n",
       "      <td>abortion</td>\n",
       "      <td>she bleeding heavily ultrasound morning demons...</td>\n",
       "    </tr>\n",
       "    <tr>\n",
       "      <th>2</th>\n",
       "      <td>AB</td>\n",
       "      <td>abortion</td>\n",
       "      <td>allergies heparin imitrex past ob history 1 19...</td>\n",
       "    </tr>\n",
       "    <tr>\n",
       "      <th>3</th>\n",
       "      <td>AB</td>\n",
       "      <td>abortion</td>\n",
       "      <td>she pelvic ultrasound park nicollet mmdd showe...</td>\n",
       "    </tr>\n",
       "    <tr>\n",
       "      <th>4</th>\n",
       "      <td>AB</td>\n",
       "      <td>abortion</td>\n",
       "      <td>on mmdd2007 normal anatomy anterior placenta n...</td>\n",
       "    </tr>\n",
       "  </tbody>\n",
       "</table>\n",
       "</div>"
      ],
      "text/plain": [
       "  Abbreviations     LABEL                                               TEXT\n",
       "0            AB  abortion  name name 29yearold gravida 3 para 2002 presen...\n",
       "1            AB  abortion  she bleeding heavily ultrasound morning demons...\n",
       "2            AB  abortion  allergies heparin imitrex past ob history 1 19...\n",
       "3            AB  abortion  she pelvic ultrasound park nicollet mmdd showe...\n",
       "4            AB  abortion  on mmdd2007 normal anatomy anterior placenta n..."
      ]
     },
     "execution_count": 44,
     "metadata": {},
     "output_type": "execute_result"
    }
   ],
   "source": [
    "df.head()"
   ]
  },
  {
   "cell_type": "code",
   "execution_count": 45,
   "id": "2aae822d",
   "metadata": {},
   "outputs": [],
   "source": [
    "train_accuracy = []\n",
    "test_accuracy = []\n"
   ]
  },
  {
   "cell_type": "code",
   "execution_count": 46,
   "id": "a88de363",
   "metadata": {},
   "outputs": [],
   "source": [
    "# Logistic Regression\n",
    "train_accuracy.append(accuracy_score(y_train, lr.predict(X_train_tfidf)))\n",
    "test_accuracy.append(accuracy_score(y_test, lr.predict(X_test_tfidf)))\n",
    "\n",
    "# K-Nearest Neighbors\n",
    "train_accuracy.append(accuracy_score(y_train, knn.predict(X_train_tfidf)))\n",
    "test_accuracy.append(accuracy_score(y_test, knn.predict(X_test_tfidf)))\n",
    "\n",
    "# Decision Tree\n",
    "train_accuracy.append(accuracy_score(y_train, dt.predict(X_train_tfidf)))\n",
    "test_accuracy.append(accuracy_score(y_test, dt.predict(X_test_tfidf)))\n",
    "\n",
    "# Random Forest\n",
    "train_accuracy.append(accuracy_score(y_train, rf.predict(X_train_tfidf)))\n",
    "test_accuracy.append(accuracy_score(y_test, rf.predict(X_test_tfidf)))\n",
    "\n",
    "#SVM \n",
    "train_accuracy.append(accuracy_score(y_train, svm_classifier.predict(X_train_tfidf)))\n",
    "test_accuracy.append(accuracy_score(y_test, svm_classifier.predict(X_test_tfidf)))\n",
    "\n"
   ]
  },
  {
   "cell_type": "markdown",
   "id": "40642384",
   "metadata": {},
   "source": [
    "\n",
    "### Explanation:\n",
    "\n",
    "- **Logistic Regression**:\n",
    "  - The accuracy of the logistic regression model on the training set (`X_train_tfidf`) is calculated using the `accuracy_score` function from the appropriate target (`y_train`).\n",
    "  - Similarly, the accuracy of the logistic regression model on the test set (`X_test_tfidf`) is calculated.\n",
    "  - Both training and test accuracies are appended to the `train_accuracy` and `test_accuracy` lists respectively.\n",
    "  \n",
    "  \n",
    "  - Same process is applied to the model.\n",
    "\n",
    "- **K-Nearest Neighbors (KNN)**:\n",
    "- **Decision Tree**:\n",
    "- **Random Forest**:\n",
    "- **Support Vector Machine (SVM)**:\n",
    "\n",
    "Each block of code calculates the accuracy of a specific machine learning model (Logistic Regression, KNN, Decision Tree, Random Forest, SVM) on both the training and test sets, and appends these accuracies to separate lists (`train_accuracy` and `test_accuracy`).\n"
   ]
  },
  {
   "cell_type": "code",
   "execution_count": 93,
   "id": "b4039089",
   "metadata": {},
   "outputs": [],
   "source": [
    "model_names = ['Logistic Regression', 'K-Nearest Neighbors','Decision Tree', 'Random Forest', 'Support Vector']\n"
   ]
  },
  {
   "cell_type": "code",
   "execution_count": 94,
   "id": "51a9ab74",
   "metadata": {},
   "outputs": [
    {
     "data": {
      "image/png": "[encoded data removed]",
      "text/plain": [
       "<Figure size 1000x600 with 1 Axes>"
      ]
     },
     "metadata": {},
     "output_type": "display_data"
    }
   ],
   "source": [
    "import matplotlib.pyplot as plt\n",
    "plt.figure(figsize=(10, 6))\n",
    "plt.plot(model_names, train_accuracy, marker='o', label='Training Accuracy')\n",
    "plt.plot(model_names, test_accuracy, marker='o', label='Testing Accuracy')\n",
    "plt.title('Training and Testing Accuracy of Different Models')\n",
    "plt.xlabel('Models')\n",
    "plt.ylabel('Accuracy')\n",
    "plt.xticks(rotation=45)\n",
    "plt.legend()\n",
    "plt.grid(True)\n",
    "plt.tight_layout()\n",
    "plt.show()"
   ]
  },
  {
   "cell_type": "markdown",
   "id": "5b961532",
   "metadata": {},
   "source": [
    "# precision recall f1 score"
   ]
  },
  {
   "cell_type": "code",
   "execution_count": 50,
   "id": "e85cea7a",
   "metadata": {},
   "outputs": [],
   "source": [
    "from sklearn.metrics import precision_score, recall_score, f1_score\n"
   ]
  },
  {
   "cell_type": "code",
   "execution_count": 51,
   "id": "6c3cb586",
   "metadata": {},
   "outputs": [
    {
     "name": "stderr",
     "output_type": "stream",
     "text": [
      "C:\\ProgramData\\anaconda3\\lib\\site-packages\\sklearn\\metrics\\_classification.py:1344: UndefinedMetricWarning: Precision is ill-defined and being set to 0.0 in labels with no predicted samples. Use `zero_division` parameter to control this behavior.\n",
      "  _warn_prf(average, modifier, msg_start, len(result))\n"
     ]
    }
   ],
   "source": [
    "# Logistic Regression\n",
    "precision_lr = precision_score(y_test, y_pred1, average='weighted')\n",
    "recall_lr = recall_score(y_test, y_pred1, average='weighted')\n",
    "f1_lr = f1_score(y_test, y_pred1, average='weighted')"
   ]
  },
  {
   "cell_type": "code",
   "execution_count": 53,
   "id": "ba4b2efb",
   "metadata": {},
   "outputs": [
    {
     "name": "stderr",
     "output_type": "stream",
     "text": [
      "C:\\ProgramData\\anaconda3\\lib\\site-packages\\sklearn\\metrics\\_classification.py:1344: UndefinedMetricWarning: Precision is ill-defined and being set to 0.0 in labels with no predicted samples. Use `zero_division` parameter to control this behavior.\n",
      "  _warn_prf(average, modifier, msg_start, len(result))\n"
     ]
    }
   ],
   "source": [
    "# SVM \n",
    "precision_svm = precision_score(y_test, y_pred2, average='weighted')\n",
    "recall_svm = recall_score(y_test, y_pred2, average='weighted')\n",
    "f1_svm = f1_score(y_test, y_pred2, average='weighted')"
   ]
  },
  {
   "cell_type": "code",
   "execution_count": 55,
   "id": "09ce72fd",
   "metadata": {},
   "outputs": [
    {
     "name": "stderr",
     "output_type": "stream",
     "text": [
      "C:\\ProgramData\\anaconda3\\lib\\site-packages\\sklearn\\metrics\\_classification.py:1344: UndefinedMetricWarning: Precision is ill-defined and being set to 0.0 in labels with no predicted samples. Use `zero_division` parameter to control this behavior.\n",
      "  _warn_prf(average, modifier, msg_start, len(result))\n"
     ]
    }
   ],
   "source": [
    "# KNN\n",
    "precision_knn = precision_score(y_test, y_pred3, average='weighted')\n",
    "recall_knn = recall_score(y_test, y_pred3, average='weighted')\n",
    "f1_knn = f1_score(y_test, y_pred3, average='weighted')"
   ]
  },
  {
   "cell_type": "code",
   "execution_count": 56,
   "id": "32316a38",
   "metadata": {},
   "outputs": [
    {
     "name": "stderr",
     "output_type": "stream",
     "text": [
      "C:\\ProgramData\\anaconda3\\lib\\site-packages\\sklearn\\metrics\\_classification.py:1344: UndefinedMetricWarning: Precision is ill-defined and being set to 0.0 in labels with no predicted samples. Use `zero_division` parameter to control this behavior.\n",
      "  _warn_prf(average, modifier, msg_start, len(result))\n",
      "C:\\ProgramData\\anaconda3\\lib\\site-packages\\sklearn\\metrics\\_classification.py:1344: UndefinedMetricWarning: Recall is ill-defined and being set to 0.0 in labels with no true samples. Use `zero_division` parameter to control this behavior.\n",
      "  _warn_prf(average, modifier, msg_start, len(result))\n"
     ]
    }
   ],
   "source": [
    "# DT\n",
    "precision_dt = precision_score(y_test, y_pred4, average='weighted')\n",
    "recall_dt = recall_score(y_test, y_pred4, average='weighted')\n",
    "f1_dt = f1_score(y_test, y_pred4, average='weighted')"
   ]
  },
  {
   "cell_type": "code",
   "execution_count": 57,
   "id": "8155a8d1",
   "metadata": {},
   "outputs": [
    {
     "name": "stderr",
     "output_type": "stream",
     "text": [
      "C:\\ProgramData\\anaconda3\\lib\\site-packages\\sklearn\\metrics\\_classification.py:1344: UndefinedMetricWarning: Precision is ill-defined and being set to 0.0 in labels with no predicted samples. Use `zero_division` parameter to control this behavior.\n",
      "  _warn_prf(average, modifier, msg_start, len(result))\n"
     ]
    }
   ],
   "source": [
    "# rf\n",
    "precision_rf = precision_score(y_test, y_pred5, average='weighted')\n",
    "recall_rf = recall_score(y_test, y_pred5, average='weighted')\n",
    "f1_rf = f1_score(y_test, y_pred5, average='weighted')"
   ]
  },
  {
   "cell_type": "code",
   "execution_count": 66,
   "id": "6964a4af",
   "metadata": {},
   "outputs": [
    {
     "ename": "NameError",
     "evalue": "name 'precision_lr' is not defined",
     "output_type": "error",
     "traceback": [
      "\u001b[1;31m---------------------------------------------------------------------------\u001b[0m",
      "\u001b[1;31mNameError\u001b[0m                                 Traceback (most recent call last)",
      "Cell \u001b[1;32mIn[66], line 3\u001b[0m\n\u001b[0;32m      1\u001b[0m scores_data \u001b[38;5;241m=\u001b[39m pd\u001b[38;5;241m.\u001b[39mDataFrame({\n\u001b[0;32m      2\u001b[0m     \u001b[38;5;124m'\u001b[39m\u001b[38;5;124mModel\u001b[39m\u001b[38;5;124m'\u001b[39m: [\u001b[38;5;124m'\u001b[39m\u001b[38;5;124mLR\u001b[39m\u001b[38;5;124m'\u001b[39m, \u001b[38;5;124m'\u001b[39m\u001b[38;5;124mSVM\u001b[39m\u001b[38;5;124m'\u001b[39m,\u001b[38;5;124m'\u001b[39m\u001b[38;5;124mDT\u001b[39m\u001b[38;5;124m'\u001b[39m, \u001b[38;5;124m'\u001b[39m\u001b[38;5;124mRF\u001b[39m\u001b[38;5;124m'\u001b[39m],\n\u001b[1;32m----> 3\u001b[0m     \u001b[38;5;124m'\u001b[39m\u001b[38;5;124mPrecision\u001b[39m\u001b[38;5;124m'\u001b[39m: [\u001b[43mprecision_lr\u001b[49m, precision_svm, precision_dt, precision_rf],\n\u001b[0;32m      4\u001b[0m     \u001b[38;5;124m'\u001b[39m\u001b[38;5;124mRecall\u001b[39m\u001b[38;5;124m'\u001b[39m: [recall_lr, recall_svm, recall_dt, recall_rf],\n\u001b[0;32m      5\u001b[0m     \u001b[38;5;124m'\u001b[39m\u001b[38;5;124mF1 Score\u001b[39m\u001b[38;5;124m'\u001b[39m: [f1_lr, f1_svm, f1_dt, f1_rf]\n\u001b[0;32m      6\u001b[0m })\n",
      "\u001b[1;31mNameError\u001b[0m: name 'precision_lr' is not defined"
     ]
    }
   ],
   "source": [
    "scores_data = pd.DataFrame({\n",
    "    'Model': ['LR', 'SVM','DT', 'RF'],\n",
    "    'Precision': [precision_lr, precision_svm, precision_dt, precision_rf],\n",
    "    'Recall': [recall_lr, recall_svm, recall_dt, recall_rf],\n",
    "    'F1 Score': [f1_lr, f1_svm, f1_dt, f1_rf]\n",
    "})"
   ]
  },
  {
   "cell_type": "markdown",
   "id": "cda1b15b",
   "metadata": {},
   "source": [
    "Explaination:\n",
    "- This code creates a Pandas DataFrame named scores_data.\n",
    "- The DataFrame consists of four columns: 'Model', 'Precision', 'Recall', and 'F1 Score'.\n",
    "- Each row corresponds to a machine learning model's evaluation metrics.\n",
    "- The 'Model' column contains the names of the models: LR (Logistic Regression), SVM (Support Vector Machine), DT (Decision Tree), and RF (Random Forest).\n",
    "- The 'Precision', 'Recall', and 'F1 Score' columns contain the precision, recall, and F1 score values respectively for each     \n",
    "  model.\n",
    "- The values for precision, recall, and F1 score are fetched from variables precision_lr, precision_svm, precision_dt, \n",
    "  precision_rf, recall_lr, recall_svm, recall_dt, recall_rf, f1_lr, f1_svm, f1_dt, and f1_rf which are assumed to be calculated \n",
    "  elsewhere in the code. These variables likely hold the evaluation metrics computed for each model during model evaluation.\n",
    "- This DataFrame is useful for storing and comparing the evaluation metrics of different machine learning models, which aids in model selection and performance analysis."
   ]
  },
  {
   "cell_type": "code",
   "execution_count": 86,
   "id": "6f48743d",
   "metadata": {},
   "outputs": [
    {
     "data": {
      "image/png": "[encoded data removed]",
      "text/plain": [
       "<Figure size 1000x600 with 1 Axes>"
      ]
     },
     "metadata": {},
     "output_type": "display_data"
    }
   ],
   "source": [
    "plt.figure(figsize=(10, 6))\n",
    "\n",
    "plt.plot(scores_data['Model'], scores_data['Precision'], marker='o', label='Precision')\n",
    "plt.plot(scores_data['Model'], scores_data['Recall'], marker='o', label='Recall')\n",
    "plt.plot(scores_data['Model'], scores_data['F1 Score'], marker='o', label='F1 Score')\n",
    "\n",
    "plt.title('Precision, Recall, and F1 Score of Models')\n",
    "plt.xlabel('Model')b\n",
    "plt.ylabel('Score')\n",
    "plt.legend()\n",
    "plt.grid(True)\n",
    "plt.xticks(rotation=45)\n",
    "plt.tight_layout()\n",
    "plt.show()"
   ]
  },
  {
   "cell_type": "markdown",
   "id": "faffafbf",
   "metadata": {},
   "source": [
    "- The main agenda of the code is to visualize and compare the performance metrics (precision, recall, and F1 score) of multiple machine learning models using a line plot."
   ]
  },
  {
   "cell_type": "markdown",
   "id": "f272d05d",
   "metadata": {},
   "source": [
    "# Error Analysis "
   ]
  },
  {
   "cell_type": "code",
   "execution_count": 60,
   "id": "156414ef",
   "metadata": {},
   "outputs": [],
   "source": [
    "def error_analysis(model, X_test, y_test, y_pred):\n",
    "    misclassified_examples = []\n",
    "\n",
    "    # Iterate through test set\n",
    "    for i in range(len(X_test)):\n",
    "        if y_test.iloc[i] != y_pred[i]:\n",
    "            misclassified_examples.append({\n",
    "                'Text': X_test.iloc[i],\n",
    "                'True Label': y_test.iloc[i],\n",
    "                'Predicted Label': y_pred[i]\n",
    "            })\n",
    "    \n",
    "    # Print some misclassified examples\n",
    "    print(\"Misclassified Examples:\")\n",
    "    for idx, example in enumerate(misclassified_examples[:5]):  # Print first 5 misclassified examples\n",
    "        print(f\"Example {idx+1}:\")\n",
    "        print(f\"Text: {example['Text']}\")\n",
    "        print(f\"True Label: {example['True Label']}\")\n",
    "        print(f\"Predicted Label: {example['Predicted Label']}\")\n",
    "        print(\"------------------------\")\n",
    "    \n",
    "    # Error analysis summary\n",
    "    total_misclassified = len(misclassified_examples)\n",
    "    total_examples = len(X_test)\n",
    "    error_rate = total_misclassified / total_examples\n",
    "    print(f\"Total Misclassified Examples: {total_misclassified}/{total_examples}\")\n",
    "    print(f\"Error Rate: {error_rate:.2%}\")\n"
   ]
  },
  {
   "cell_type": "markdown",
   "id": "ff893b19",
   "metadata": {},
   "source": [
    "\n",
    "### Explanation:\n",
    "\n",
    "- **Function Definition**:\n",
    "  - The function `error_analysis` takes four parameters: `model`, `X_test`, `y_test`, and `y_pred`.\n",
    "  - `model` is the trained machine learning model.\n",
    "  - `X_test` is the feature data of the test set.\n",
    "  - `y_test` is the true labels of the test set.\n",
    "  - `y_pred` is the predicted labels of the test set.\n",
    "\n",
    "- **Error Analysis**:\n",
    "  - The function iterates through the test set and identifies misclassified examples where the true label (`y_test`) does not match the predicted label (`y_pred`). These misclassified examples are stored in the `misclassified_examples` list as dictionaries containing the text, true label, and predicted label.\n",
    "  - It then prints some of the misclassified examples (by default, the first 5) including their text, true label, and predicted label.\n",
    "\n",
    "- **Error Analysis Summary**:\n",
    "  - After printing misclassified examples, the function calculates and prints an error analysis summary.\n",
    "  - It calculates the total number of misclassified examples, the total number of examples in the test set, and the error rate (percentage of misclassified examples).\n",
    "  - The error rate is formatted as a percentage with two decimal places.\n",
    "\n",
    "Overall, this function provides a simple yet effective way to perform error analysis on a machine learning model's predictions, helping to identify patterns and areas for improvement in the model's performance.\n"
   ]
  },
  {
   "cell_type": "code",
   "execution_count": 61,
   "id": "616d1ee1",
   "metadata": {
    "collapsed": true
   },
   "outputs": [
    {
     "name": "stdout",
     "output_type": "stream",
     "text": [
      "Error Analysis for Logistic Regression:\n",
      "Misclassified Examples:\n",
      "Example 1:\n",
      "Text: the patient instructed stop taking aspirin today continue medications her hemoglobin 140 potassium pending ekg showed normal sinus rhythm rapid rwave progression qwave avr\n",
      "True Label: augmented voltage right arm\n",
      "Predicted Label: aortic valve replacement\n",
      "------------------------\n",
      "Example 2:\n",
      "Text: she desires request repeat cesarean section term desire trial labor her antepartum course essentially uncomplicated history positive ama mm 2002 subsequently ama performed negative she taking baby aspirin pregnancy stop approximately 48 hours surgery\n",
      "True Label: antimitochondrial antibody\n",
      "Predicted Label: against medical advice\n",
      "------------------------\n",
      "Example 3:\n",
      "Text: for details history present illness review systems physical exam time admission admission hp mmdd2007 hospital course 1 fever the patient admitted general medicine floor the concern initially cs infection patient recently ventriculostomy hardware removal his physical examination laboratory workup confirm suspicion\n",
      "True Label: central nervous system:CNS\n",
      "Predicted Label: interventional radiology\n",
      "------------------------\n",
      "Example 4:\n",
      "Text: 2 contact group home confirm lantus novolog insulin dose diet 3 accucheks qid ac hs lantusnovolog coverage group home 4 continue keflex 250 mg qid 5 days topical wound care 5 contact group home tetanus status\n",
      "True Label: before meals\n",
      "Predicted Label: physical therapy\n",
      "------------------------\n",
      "Example 5:\n",
      "Text: neurology consultation obtained dr name ordered mri cervical spine showed solid fusion c4 c7 mild degenerative retrolisthesis c3c4 anterior subluxation c7 t1 during hospital course patient started feeling better the fullness head resolved the patient physical therapy evaluation hospital stay neurology recommended discharge patient home pt recommendation discharge home physical therapy\n",
      "True Label: thoracic (level) 1\n",
      "Predicted Label: cervical (level) 4\n",
      "------------------------\n",
      "Total Misclassified Examples: 1188/7500\n",
      "Error Rate: 15.84%\n"
     ]
    }
   ],
   "source": [
    "print(\"Error Analysis for Logistic Regression:\")\n",
    "error_analysis(lr, X_test, y_test, y_pred1)"
   ]
  },
  {
   "cell_type": "code",
   "execution_count": 62,
   "id": "871340a3",
   "metadata": {
    "collapsed": true
   },
   "outputs": [
    {
     "name": "stdout",
     "output_type": "stream",
     "text": [
      "\n",
      "Error Analysis for SVM:\n",
      "Misclassified Examples:\n",
      "Example 1:\n",
      "Text: she desires request repeat cesarean section term desire trial labor her antepartum course essentially uncomplicated history positive ama mm 2002 subsequently ama performed negative she taking baby aspirin pregnancy stop approximately 48 hours surgery\n",
      "True Label: antimitochondrial antibody\n",
      "Predicted Label: against medical advice\n",
      "------------------------\n",
      "Example 2:\n",
      "Text: for details history present illness review systems physical exam time admission admission hp mmdd2007 hospital course 1 fever the patient admitted general medicine floor the concern initially cs infection patient recently ventriculostomy hardware removal his physical examination laboratory workup confirm suspicion\n",
      "True Label: central nervous system:CNS\n",
      "Predicted Label: operating room\n",
      "------------------------\n",
      "Example 3:\n",
      "Text: 2 contact group home confirm lantus novolog insulin dose diet 3 accucheks qid ac hs lantusnovolog coverage group home 4 continue keflex 250 mg qid 5 days topical wound care 5 contact group home tetanus status\n",
      "True Label: before meals\n",
      "Predicted Label: physical therapy\n",
      "------------------------\n",
      "Example 4:\n",
      "Text: he denied pleurisy or fever he denied sore throat or headache he denied significant hemoptysis he taking aspirin plavix he robitussin dm throat lozenges developed shortness breath abdominal distention early evening saturday\n",
      "True Label: dextromethorphan\n",
      "Predicted Label: operating room\n",
      "------------------------\n",
      "Example 5:\n",
      "Text: neurology consultation obtained dr name ordered mri cervical spine showed solid fusion c4 c7 mild degenerative retrolisthesis c3c4 anterior subluxation c7 t1 during hospital course patient started feeling better the fullness head resolved the patient physical therapy evaluation hospital stay neurology recommended discharge patient home pt recommendation discharge home physical therapy\n",
      "True Label: thoracic (level) 1\n",
      "Predicted Label: cervical (level) 4\n",
      "------------------------\n",
      "Total Misclassified Examples: 1135/7500\n",
      "Error Rate: 15.13%\n"
     ]
    }
   ],
   "source": [
    "print(\"\\nError Analysis for SVM:\")\n",
    "error_analysis(svm_classifier, X_test, y_test, y_pred2)\n"
   ]
  },
  {
   "cell_type": "code",
   "execution_count": 63,
   "id": "b00ee559",
   "metadata": {
    "collapsed": true
   },
   "outputs": [
    {
     "name": "stdout",
     "output_type": "stream",
     "text": [
      "\n",
      "Error Analysis for KNN:\n",
      "Misclassified Examples:\n",
      "Example 1:\n",
      "Text: seroquel worked multiple antidepressants worked the patient reports moved gal divorce basically tells alcohol problems away the patient try attend na aa meetings reports benzodiazepines the patient experiences frequent panic attacks long time he drive car or grocery store\n",
      "True Label: Narcotics Anonymous\n",
      "Predicted Label: T1 (MRI)\n",
      "------------------------\n",
      "Example 2:\n",
      "Text: she discharged prednisone 1 mgkg it note steroid refractory itp course four rituximab infusions planned the patient understands seen nearest emergency room recurrence bleeding\n",
      "True Label: idiopathic thrombocytopenic purpura\n",
      "Predicted Label: T1 (MRI)\n",
      "------------------------\n",
      "Example 3:\n",
      "Text: the patient instructed stop taking aspirin today continue medications her hemoglobin 140 potassium pending ekg showed normal sinus rhythm rapid rwave progression qwave avr\n",
      "True Label: augmented voltage right arm\n",
      "Predicted Label: T1 (MRI)\n",
      "------------------------\n",
      "Example 4:\n",
      "Text: the patient require o2 hospitalization discharged home oxygen therapy help ease breathing the patient chest xray performed mmdd2007 negative pneumothorax rt consulted attempts provide recommendations symptomatic control they recommended oxygen morphine air hunger symptoms problem 10 prophylaxis the patient encouraged wear pneumoboots bed\n",
      "True Label: respiratory therapy\n",
      "Predicted Label: T1 (MRI)\n",
      "------------------------\n",
      "Example 5:\n",
      "Text: discharge medications 1 zofran 8 mg q8h needed 2 compazine 10 mg q6h needed 3 atenolol 125 mg daily 4 glucotrol xl 5 mg daily 5 asa 325 mg daily 6 synthroid 100 mcg daily 7 magnesium oxide tablets bid 8 acifex 20 mg daily dr name patients primary physician monitor patients creatinine restart lasix recovery renal insufficiency\n",
      "True Label: acetylsalicylic acid\n",
      "Predicted Label: slow acting/sustained action\n",
      "------------------------\n",
      "Total Misclassified Examples: 5857/7500\n",
      "Error Rate: 78.09%\n"
     ]
    }
   ],
   "source": [
    "print(\"\\nError Analysis for KNN:\")\n",
    "error_analysis(knn, X_test, y_test, y_pred3)\n"
   ]
  },
  {
   "cell_type": "code",
   "execution_count": 64,
   "id": "1fe790b6",
   "metadata": {
    "collapsed": true
   },
   "outputs": [
    {
     "name": "stdout",
     "output_type": "stream",
     "text": [
      "\n",
      "Error Analysis for Decision Tree:\n",
      "Misclassified Examples:\n",
      "Example 1:\n",
      "Text: she desires request repeat cesarean section term desire trial labor her antepartum course essentially uncomplicated history positive ama mm 2002 subsequently ama performed negative she taking baby aspirin pregnancy stop approximately 48 hours surgery\n",
      "True Label: antimitochondrial antibody\n",
      "Predicted Label: advanced maternal age\n",
      "------------------------\n",
      "Example 2:\n",
      "Text: for details history present illness review systems physical exam time admission admission hp mmdd2007 hospital course 1 fever the patient admitted general medicine floor the concern initially cs infection patient recently ventriculostomy hardware removal his physical examination laboratory workup confirm suspicion\n",
      "True Label: central nervous system:CNS\n",
      "Predicted Label: culture and sensitivity\n",
      "------------------------\n",
      "Example 3:\n",
      "Text: neurology consultation obtained dr name ordered mri cervical spine showed solid fusion c4 c7 mild degenerative retrolisthesis c3c4 anterior subluxation c7 t1 during hospital course patient started feeling better the fullness head resolved the patient physical therapy evaluation hospital stay neurology recommended discharge patient home pt recommendation discharge home physical therapy\n",
      "True Label: thoracic (level) 1\n",
      "Predicted Label: physical therapy\n",
      "------------------------\n",
      "Example 4:\n",
      "Text: name 15pound weight loss mouth sores widebased gait chemotherapy a bone marrow aspirate biopsy mmdd2006 showed philadelphia chromosome however fish showed 1 400 cells signal pattern indicative bcrabl 1 gene infusion 510 cellular 25 blasts\n",
      "True Label: fluorescent in situ hybridization\n",
      "Predicted Label: respiratory therapy\n",
      "------------------------\n",
      "Example 5:\n",
      "Text: medications 1 prednisone 5 mg po daily 2 bactrim ss 1 tablet po daily 3 spironolactone 50 mg po bid 4 inderal la 60 mg po daily 5 sodium bicarbonate 13 gm po bid 6 prilosec 20 mg po daily 7 oxycodone 510 mg po q 46h prn pain\n",
      "True Label: long-acting\n",
      "Predicted Label: single strength\n",
      "------------------------\n",
      "Total Misclassified Examples: 1097/7500\n",
      "Error Rate: 14.63%\n"
     ]
    }
   ],
   "source": [
    "print(\"\\nError Analysis for Decision Tree:\")\n",
    "error_analysis(dt, X_test, y_test, y_pred4)"
   ]
  },
  {
   "cell_type": "code",
   "execution_count": 65,
   "id": "02051ef7",
   "metadata": {
    "collapsed": true
   },
   "outputs": [
    {
     "name": "stdout",
     "output_type": "stream",
     "text": [
      "\n",
      "Error Analysis for Random Forest:\n",
      "Misclassified Examples:\n",
      "Example 1:\n",
      "Text: she desires request repeat cesarean section term desire trial labor her antepartum course essentially uncomplicated history positive ama mm 2002 subsequently ama performed negative she taking baby aspirin pregnancy stop approximately 48 hours surgery\n",
      "True Label: antimitochondrial antibody\n",
      "Predicted Label: against medical advice\n",
      "------------------------\n",
      "Example 2:\n",
      "Text: for details history present illness review systems physical exam time admission admission hp mmdd2007 hospital course 1 fever the patient admitted general medicine floor the concern initially cs infection patient recently ventriculostomy hardware removal his physical examination laboratory workup confirm suspicion\n",
      "True Label: central nervous system:CNS\n",
      "Predicted Label: culture and sensitivity\n",
      "------------------------\n",
      "Example 3:\n",
      "Text: neurology consultation obtained dr name ordered mri cervical spine showed solid fusion c4 c7 mild degenerative retrolisthesis c3c4 anterior subluxation c7 t1 during hospital course patient started feeling better the fullness head resolved the patient physical therapy evaluation hospital stay neurology recommended discharge patient home pt recommendation discharge home physical therapy\n",
      "True Label: thoracic (level) 1\n",
      "Predicted Label: cervical (level) 4\n",
      "------------------------\n",
      "Example 4:\n",
      "Text: the pharynx nasopharynx appeared unremarkable he flap defect right chest wall healing time assessment and plan this 44yearold male oral tongue cancer originally clinical stage t3 n1 pathologic stage t2 n0 m0 he status post resection initial positive close margins rendered negative reresection\n",
      "True Label: tumor stage 3\n",
      "Predicted Label: tumor stage 2\n",
      "------------------------\n",
      "Example 5:\n",
      "Text: medications 1 prednisone 5 mg po daily 2 bactrim ss 1 tablet po daily 3 spironolactone 50 mg po bid 4 inderal la 60 mg po daily 5 sodium bicarbonate 13 gm po bid 6 prilosec 20 mg po daily 7 oxycodone 510 mg po q 46h prn pain\n",
      "True Label: long-acting\n",
      "Predicted Label: single strength\n",
      "------------------------\n",
      "Total Misclassified Examples: 855/7500\n",
      "Error Rate: 11.40%\n"
     ]
    }
   ],
   "source": [
    "print(\"\\nError Analysis for Random Forest:\")\n",
    "error_analysis(rf, X_test, y_test, y_pred5)"
   ]
  },
  {
   "cell_type": "markdown",
   "id": "0fe08ce1",
   "metadata": {},
   "source": [
    "# Visualization of error analysis "
   ]
  },
  {
   "cell_type": "code",
   "execution_count": 66,
   "id": "cb6ca81b",
   "metadata": {},
   "outputs": [],
   "source": [
    "def visualize_error_analysis(model_name, y_test, y_pred):\n",
    "    # Count misclassifications for each class\n",
    "    misclassified_counts = {'True Positive': 0, 'True Negative': 0, 'False Positive': 0, 'False Negative': 0}\n",
    "    for true_label, pred_label in zip(y_test, y_pred):\n",
    "        if true_label == pred_label:\n",
    "            if true_label == 1:  # True Positive\n",
    "                misclassified_counts['True Positive'] += 1\n",
    "            else:  # True Negative\n",
    "                misclassified_counts['True Negative'] += 1\n",
    "        else:\n",
    "            if true_label == 1:  # False Negative\n",
    "                misclassified_counts['False Negative'] += 1\n",
    "            else:  # False Positive\n",
    "                misclassified_counts['False Positive'] += 1\n",
    "\n",
    "    # Plot the misclassified counts\n",
    "    plt.figure(figsize=(8, 6))\n",
    "    plt.bar(misclassified_counts.keys(), misclassified_counts.values(), color=['green', 'green', 'red', 'red'])\n",
    "    plt.title(f'Error Analysis for {model_name}')\n",
    "    plt.xlabel('Misclassification Type')\n",
    "    plt.ylabel('Count')\n",
    "    plt.show()"
   ]
  },
  {
   "cell_type": "markdown",
   "id": "ff36ecfd",
   "metadata": {},
   "source": [
    "\n",
    "### Explanation:\n",
    "\n",
    "- **Function Definition**:\n",
    "  - The function `visualize_error_analysis` takes three parameters: `model_name`, `y_test`, and `y_pred`.\n",
    "  - `model_name` is a string indicating the name of the model being analyzed.\n",
    "  - `y_test` is the true labels of the test set.\n",
    "  - `y_pred` is the predicted labels of the test set.\n",
    "\n",
    "- **Counting Misclassifications**:\n",
    "  - The function initializes a dictionary `misclassified_counts` to count the occurrences of different types of misclassifications: True Positive, True Negative, False Positive, and False Negative.\n",
    "  - It iterates through each pair of true labels (`true_label`) and predicted labels (`pred_label`) using the `zip` function.\n",
    "  - For each pair, it checks if the true label matches the predicted label to determine whether it's a true positive/negative or a false positive/negative, and updates the corresponding count in `misclassified_counts`.\n",
    "\n",
    "- **Plotting Misclassified Counts**:\n",
    "  - After counting the misclassifications, the function creates a bar plot to visualize the counts using Matplotlib.\n",
    "  - The x-axis represents the types of misclassifications, and the y-axis represents the counts.\n",
    "  - The colors green and red are used to differentiate between correct and incorrect classifications.\n",
    "  - The plot is displayed using `plt.show()`.\n",
    "\n",
    "Overall, this function provides a visual representation of the types and counts of misclassifications made by a machine learning model, aiding in understanding its performance and identifying areas for improvement.\n"
   ]
  },
  {
   "cell_type": "code",
   "execution_count": 69,
   "id": "eee16643",
   "metadata": {
    "collapsed": true
   },
   "outputs": [
    {
     "data": {
      "image/png": "[encoded data removed]",
      "text/plain": [
       "<Figure size 800x600 with 1 Axes>"
      ]
     },
     "metadata": {},
     "output_type": "display_data"
    }
   ],
   "source": [
    "visualize_error_analysis('Logistic Regression', y_test, y_pred1)"
   ]
  },
  {
   "cell_type": "code",
   "execution_count": 70,
   "id": "412a5f2f",
   "metadata": {
    "collapsed": true
   },
   "outputs": [
    {
     "data": {
      "image/png": "[encoded data removed]",
      "text/plain": [
       "<Figure size 800x600 with 1 Axes>"
      ]
     },
     "metadata": {},
     "output_type": "display_data"
    }
   ],
   "source": [
    "visualize_error_analysis('SVM', y_test, y_pred2)"
   ]
  },
  {
   "cell_type": "code",
   "execution_count": 71,
   "id": "194251a0",
   "metadata": {
    "collapsed": true
   },
   "outputs": [
    {
     "data": {
      "image/png": "[encoded data removed]",
      "text/plain": [
       "<Figure size 800x600 with 1 Axes>"
      ]
     },
     "metadata": {},
     "output_type": "display_data"
    }
   ],
   "source": [
    "visualize_error_analysis('KNN', y_test, y_pred3)"
   ]
  },
  {
   "cell_type": "code",
   "execution_count": 72,
   "id": "bd51359e",
   "metadata": {
    "collapsed": true
   },
   "outputs": [
    {
     "data": {
      "image/png": "[encoded data removed]",
      "text/plain": [
       "<Figure size 800x600 with 1 Axes>"
      ]
     },
     "metadata": {},
     "output_type": "display_data"
    }
   ],
   "source": [
    "visualize_error_analysis('Decision Tree', y_test, y_pred4)"
   ]
  },
  {
   "cell_type": "code",
   "execution_count": 73,
   "id": "b71b314d",
   "metadata": {
    "collapsed": true
   },
   "outputs": [
    {
     "data": {
      "image/png": "[encoded data removed]",
      "text/plain": [
       "<Figure size 800x600 with 1 Axes>"
      ]
     },
     "metadata": {},
     "output_type": "display_data"
    }
   ],
   "source": [
    "visualize_error_analysis('Random Forest', y_test, y_pred5)"
   ]
  },
  {
   "cell_type": "markdown",
   "id": "2f5f55cd",
   "metadata": {},
   "source": [
    "# Thank You!!! "
   ]
  },
  {
   "cell_type": "code",
   "execution_count": null,
   "id": "86dd6b0d",
   "metadata": {},
   "outputs": [],
   "source": []
  }
 ],
 "metadata": {
  "kernelspec": {
   "display_name": "Python 3 (ipykernel)",
   "language": "python",
   "name": "python3"
  },
  "language_info": {
   "codemirror_mode": {
    "name": "ipython",
    "version": 3
   },
   "file_extension": ".py",
   "mimetype": "text/x-python",
   "name": "python",
   "nbconvert_exporter": "python",
   "pygments_lexer": "ipython3",
   "version": "3.10.9"
  }
 },
 "nbformat": 4,
 "nbformat_minor": 5
}
