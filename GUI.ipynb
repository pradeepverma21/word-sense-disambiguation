{
 "cells": [
  {
   "cell_type": "code",
   "execution_count": 1,
   "id": "81a9d38d",
   "metadata": {},
   "outputs": [],
   "source": [
    "import tkinter as tk\n",
    "from tkinter import messagebox\n",
    "import pickle\n",
    "from nltk.tokenize import word_tokenize\n",
    "from nltk.corpus import stopwords\n",
    "from sklearn.feature_extraction.text import TfidfVectorizer\n",
    "\n",
    "with open('tfidf_vectorizer.pkl', 'rb') as f:\n",
    "    \n",
    "    tfidf_vectorizer = pickle.load(f)\n",
    "\n",
    "with open('rf.pkl', 'rb') as f:\n",
    "    rf_model = pickle.load(f)\n"
   ]
  },
  {
   "cell_type": "code",
   "execution_count": 2,
   "id": "7c6a58bb",
   "metadata": {},
   "outputs": [],
   "source": [
    "def preprocess_text(text):\n",
    "    tokens = word_tokenize(text)\n",
    "    tokens = [word for word in tokens if word.isalnum()]\n",
    "    tokens = [word.lower() for word in tokens]\n",
    "    stop_words = set(stopwords.words('english'))\n",
    "    tokens = [word for word in tokens if word not in stop_words]\n",
    "    processed_text = ' '.join(tokens)\n",
    "    return processed_text\n"
   ]
  },
  {
   "cell_type": "code",
   "execution_count": 3,
   "id": "456bceed",
   "metadata": {},
   "outputs": [],
   "source": [
    "def predict_label(text):\n",
    "    processed_text = preprocess_text(text)\n",
    "    text_vectorized = tfidf_vectorizer.transform([processed_text])\n",
    "    prediction = rf_model.predict(text_vectorized)[0]\n",
    "    return prediction\n",
    "\n"
   ]
  },
  {
   "cell_type": "code",
   "execution_count": 4,
   "id": "26539d57",
   "metadata": {},
   "outputs": [],
   "source": [
    "def on_predict():\n",
    "    text = text_input.get(\"1.0\", tk.END).strip()\n",
    "    if text:\n",
    "        prediction = predict_label(text)\n",
    "        messagebox.showinfo(\"Prediction\", f\"Predicted Label: {prediction}\")\n",
    "    else:\n",
    "        messagebox.showwarning(\"Warning\", \"Please enter text for prediction.\")\n"
   ]
  },
  {
   "cell_type": "code",
   "execution_count": 5,
   "id": "465cc575",
   "metadata": {},
   "outputs": [
    {
     "name": "stderr",
     "output_type": "stream",
     "text": [
      "Exception in Tkinter callback\n",
      "Traceback (most recent call last):\n",
      "  File \"C:\\ProgramData\\anaconda3\\lib\\tkinter\\__init__.py\", line 1921, in __call__\n",
      "    return self.func(*args)\n",
      "  File \"C:\\Users\\Pradeep Verma\\AppData\\Local\\Temp\\ipykernel_27416\\2974863554.py\", line 4, in on_predict\n",
      "    prediction = predict_label(text)\n",
      "  File \"C:\\Users\\Pradeep Verma\\AppData\\Local\\Temp\\ipykernel_27416\\3254587325.py\", line 4, in predict_label\n",
      "    prediction = rf_model.predict(text_vectorized)[0]\n",
      "AttributeError: 'numpy.ndarray' object has no attribute 'predict'\n"
     ]
    }
   ],
   "source": [
    "root = tk.Tk()\n",
    "root.title(\"ClarifyXpand\")\n",
    "\n",
    "text_input = tk.Text(root, height=10, width=50)\n",
    "text_input.pack()\n",
    "\n",
    "predict_button = tk.Button(root, text=\"Predict\", command=on_predict)\n",
    "predict_button.pack()\n",
    "\n",
    "root.mainloop()"
   ]
  },
  {
   "cell_type": "code",
   "execution_count": null,
   "id": "336bf5bb",
   "metadata": {},
   "outputs": [],
   "source": []
  },
  {
   "cell_type": "code",
   "execution_count": null,
   "id": "6cd4adc7",
   "metadata": {},
   "outputs": [],
   "source": []
  }
 ],
 "metadata": {
  "kernelspec": {
   "display_name": "Python 3 (ipykernel)",
   "language": "python",
   "name": "python3"
  },
  "language_info": {
   "codemirror_mode": {
    "name": "ipython",
    "version": 3
   },
   "file_extension": ".py",
   "mimetype": "text/x-python",
   "name": "python",
   "nbconvert_exporter": "python",
   "pygments_lexer": "ipython3",
   "version": "3.10.9"
  }
 },
 "nbformat": 4,
 "nbformat_minor": 5
}
