{
 "cells": [
  {
   "cell_type": "code",
   "execution_count": 2,
   "id": "00a057dd",
   "metadata": {},
   "outputs": [],
   "source": [
    "import numpy as np\n",
    "import pandas as pd"
   ]
  },
  {
   "cell_type": "markdown",
   "id": "0c8c9519",
   "metadata": {},
   "source": [
    "# Loading the dataset"
   ]
  },
  {
   "cell_type": "code",
   "execution_count": 3,
   "id": "7fe269a9",
   "metadata": {},
   "outputs": [
    {
     "name": "stdout",
     "output_type": "stream",
     "text": [
      "(37500, 7)\n"
     ]
    }
   ],
   "source": [
    "txt_path='AnonymizedClinicalAbbreviationsAndAcronymsDataSet.txt'\n",
    "\n",
    "# Read the CSV file into a DataFrame\n",
    "data_pd=pd.read_csv( txt_path, sep=\"|\", header=None,encoding='cp1252',)\n",
    "\n",
    "# Rename the columns\n",
    "data_pd = data_pd.rename(columns = { 0: 'Abbreviation', 1 : 'Expansion', 2 :'ABB_frm' , 3 : \"start_pos\", 4: \"end_pos\", 5 : \"info\", 6: \"context\"}, inplace = False)\n",
    "\n",
    "# Print the shape of the DataFrame\n",
    "print(data_pd.shape)"
   ]
  },
  {
   "cell_type": "markdown",
   "id": "4d35c9d2",
   "metadata": {},
   "source": [
    "# Displaying the dataset "
   ]
  },
  {
   "cell_type": "code",
   "execution_count": 4,
   "id": "b501e338",
   "metadata": {},
   "outputs": [
    {
     "data": {
      "text/html": [
       "<div>\n",
       "<style scoped>\n",
       "    .dataframe tbody tr th:only-of-type {\n",
       "        vertical-align: middle;\n",
       "    }\n",
       "\n",
       "    .dataframe tbody tr th {\n",
       "        vertical-align: top;\n",
       "    }\n",
       "\n",
       "    .dataframe thead th {\n",
       "        text-align: right;\n",
       "    }\n",
       "</style>\n",
       "<table border=\"1\" class=\"dataframe\">\n",
       "  <thead>\n",
       "    <tr style=\"text-align: right;\">\n",
       "      <th></th>\n",
       "      <th>Abbreviation</th>\n",
       "      <th>Expansion</th>\n",
       "      <th>ABB_frm</th>\n",
       "      <th>start_pos</th>\n",
       "      <th>end_pos</th>\n",
       "      <th>info</th>\n",
       "      <th>context</th>\n",
       "    </tr>\n",
       "  </thead>\n",
       "  <tbody>\n",
       "    <tr>\n",
       "      <th>0</th>\n",
       "      <td>AB</td>\n",
       "      <td>abortion</td>\n",
       "      <td>AB.</td>\n",
       "      <td>231.0</td>\n",
       "      <td>233.0</td>\n",
       "      <td>NaN</td>\n",
       "      <td>_%#NAME#%_ _%#NAME#%_ is a 29-year-old gravida...</td>\n",
       "    </tr>\n",
       "    <tr>\n",
       "      <th>1</th>\n",
       "      <td>AB</td>\n",
       "      <td>abortion</td>\n",
       "      <td>AB.</td>\n",
       "      <td>249.0</td>\n",
       "      <td>251.0</td>\n",
       "      <td>NaN</td>\n",
       "      <td>She is now bleeding quite heavily. Ultrasound ...</td>\n",
       "    </tr>\n",
       "    <tr>\n",
       "      <th>2</th>\n",
       "      <td>AB</td>\n",
       "      <td>abortion</td>\n",
       "      <td>AB</td>\n",
       "      <td>223.0</td>\n",
       "      <td>224.0</td>\n",
       "      <td>PAST OB HISTORY</td>\n",
       "      <td>ALLERGIES: Heparin and Imitrex. PAST OB HISTOR...</td>\n",
       "    </tr>\n",
       "    <tr>\n",
       "      <th>3</th>\n",
       "      <td>AB</td>\n",
       "      <td>abortion</td>\n",
       "      <td>AB.</td>\n",
       "      <td>194.0</td>\n",
       "      <td>196.0</td>\n",
       "      <td>HISTORY OF THE PRESENT ILLNESS</td>\n",
       "      <td>She had a pelvic ultrasound at Park Nicollet o...</td>\n",
       "    </tr>\n",
       "    <tr>\n",
       "      <th>4</th>\n",
       "      <td>AB</td>\n",
       "      <td>abortion</td>\n",
       "      <td>AB</td>\n",
       "      <td>114.0</td>\n",
       "      <td>115.0</td>\n",
       "      <td>PAST OB-GYN HISTORY</td>\n",
       "      <td>On _%#MMDD2007#%_, normal anatomy with anterio...</td>\n",
       "    </tr>\n",
       "  </tbody>\n",
       "</table>\n",
       "</div>"
      ],
      "text/plain": [
       "  Abbreviation Expansion ABB_frm  start_pos  end_pos  \\\n",
       "0           AB  abortion     AB.      231.0    233.0   \n",
       "1           AB  abortion     AB.      249.0    251.0   \n",
       "2           AB  abortion      AB      223.0    224.0   \n",
       "3           AB  abortion     AB.      194.0    196.0   \n",
       "4           AB  abortion      AB      114.0    115.0   \n",
       "\n",
       "                             info  \\\n",
       "0                             NaN   \n",
       "1                             NaN   \n",
       "2                 PAST OB HISTORY   \n",
       "3  HISTORY OF THE PRESENT ILLNESS   \n",
       "4             PAST OB-GYN HISTORY   \n",
       "\n",
       "                                             context  \n",
       "0  _%#NAME#%_ _%#NAME#%_ is a 29-year-old gravida...  \n",
       "1  She is now bleeding quite heavily. Ultrasound ...  \n",
       "2  ALLERGIES: Heparin and Imitrex. PAST OB HISTOR...  \n",
       "3  She had a pelvic ultrasound at Park Nicollet o...  \n",
       "4  On _%#MMDD2007#%_, normal anatomy with anterio...  "
      ]
     },
     "execution_count": 4,
     "metadata": {},
     "output_type": "execute_result"
    }
   ],
   "source": [
    "# top 5 rows from the data\n",
    "data_pd.head()"
   ]
  },
  {
   "cell_type": "code",
   "execution_count": 5,
   "id": "bf9b478c",
   "metadata": {},
   "outputs": [],
   "source": [
    "# Drop specified columns from the DataFrame\n",
    "data_pd = data_pd.drop(['ABB_frm','start_pos','end_pos','info'], axis=1)"
   ]
  },
  {
   "cell_type": "code",
   "execution_count": 6,
   "id": "adfb85b2",
   "metadata": {},
   "outputs": [
    {
     "data": {
      "text/html": [
       "<div>\n",
       "<style scoped>\n",
       "    .dataframe tbody tr th:only-of-type {\n",
       "        vertical-align: middle;\n",
       "    }\n",
       "\n",
       "    .dataframe tbody tr th {\n",
       "        vertical-align: top;\n",
       "    }\n",
       "\n",
       "    .dataframe thead th {\n",
       "        text-align: right;\n",
       "    }\n",
       "</style>\n",
       "<table border=\"1\" class=\"dataframe\">\n",
       "  <thead>\n",
       "    <tr style=\"text-align: right;\">\n",
       "      <th></th>\n",
       "      <th>Abbreviation</th>\n",
       "      <th>Expansion</th>\n",
       "      <th>context</th>\n",
       "    </tr>\n",
       "  </thead>\n",
       "  <tbody>\n",
       "    <tr>\n",
       "      <th>0</th>\n",
       "      <td>AB</td>\n",
       "      <td>abortion</td>\n",
       "      <td>_%#NAME#%_ _%#NAME#%_ is a 29-year-old gravida...</td>\n",
       "    </tr>\n",
       "    <tr>\n",
       "      <th>1</th>\n",
       "      <td>AB</td>\n",
       "      <td>abortion</td>\n",
       "      <td>She is now bleeding quite heavily. Ultrasound ...</td>\n",
       "    </tr>\n",
       "    <tr>\n",
       "      <th>2</th>\n",
       "      <td>AB</td>\n",
       "      <td>abortion</td>\n",
       "      <td>ALLERGIES: Heparin and Imitrex. PAST OB HISTOR...</td>\n",
       "    </tr>\n",
       "    <tr>\n",
       "      <th>3</th>\n",
       "      <td>AB</td>\n",
       "      <td>abortion</td>\n",
       "      <td>She had a pelvic ultrasound at Park Nicollet o...</td>\n",
       "    </tr>\n",
       "    <tr>\n",
       "      <th>4</th>\n",
       "      <td>AB</td>\n",
       "      <td>abortion</td>\n",
       "      <td>On _%#MMDD2007#%_, normal anatomy with anterio...</td>\n",
       "    </tr>\n",
       "  </tbody>\n",
       "</table>\n",
       "</div>"
      ],
      "text/plain": [
       "  Abbreviation Expansion                                            context\n",
       "0           AB  abortion  _%#NAME#%_ _%#NAME#%_ is a 29-year-old gravida...\n",
       "1           AB  abortion  She is now bleeding quite heavily. Ultrasound ...\n",
       "2           AB  abortion  ALLERGIES: Heparin and Imitrex. PAST OB HISTOR...\n",
       "3           AB  abortion  She had a pelvic ultrasound at Park Nicollet o...\n",
       "4           AB  abortion  On _%#MMDD2007#%_, normal anatomy with anterio..."
      ]
     },
     "execution_count": 6,
     "metadata": {},
     "output_type": "execute_result"
    }
   ],
   "source": [
    "data_pd.head()"
   ]
  },
  {
   "cell_type": "code",
   "execution_count": 8,
   "id": "a5affb1a",
   "metadata": {},
   "outputs": [],
   "source": [
    "df = data_pd"
   ]
  },
  {
   "cell_type": "code",
   "execution_count": 9,
   "id": "6d121c34",
   "metadata": {},
   "outputs": [
    {
     "name": "stdout",
     "output_type": "stream",
     "text": [
      "   Abbreviation  Expansion\n",
      "0            AB         12\n",
      "1            AC         11\n",
      "2           ALD          5\n",
      "3           AMA          3\n",
      "4           ASA          3\n",
      "..          ...        ...\n",
      "69           T3          6\n",
      "70           T4          3\n",
      "71           US          4\n",
      "72          VAD          5\n",
      "73          VBG          2\n",
      "\n",
      "[74 rows x 2 columns]\n"
     ]
    }
   ],
   "source": [
    "import pandas as pd\n",
    "\n",
    "# Count unique expansions for each abbreviation\n",
    "unique_expansions_count = df.groupby('Abbreviation')['Expansion'].nunique().reset_index()\n",
    "\n",
    "# Display the resulting DataFrame\n",
    "print(unique_expansions_count)\n"
   ]
  },
  {
   "cell_type": "code",
   "execution_count": 10,
   "id": "59f62a78",
   "metadata": {},
   "outputs": [
    {
     "name": "stdout",
     "output_type": "stream",
     "text": [
      "['abortion' 'ankle-brachial' 'blood group in ABO system' 'type A, type B'\n",
      " 'arteriovenous:AV' 'X-ray finding' 'MISTAKE:abduction'\n",
      " 'antipyrine benzocaine' 'atrioventricular:AV' 'arterial blood'\n",
      " 'UNSURED SENSE' 'NAME']\n"
     ]
    }
   ],
   "source": [
    "ab_df = df[df['Abbreviation'] == 'AB']\n",
    "\n",
    "# Get the unique expansion names for the abbreviation 'AB'\n",
    "unique_expansions = ab_df['Expansion'].unique()\n",
    "\n",
    "# Display the unique expansion names\n",
    "print(unique_expansions)"
   ]
  },
  {
   "cell_type": "code",
   "execution_count": 11,
   "id": "7d36193a",
   "metadata": {},
   "outputs": [
    {
     "name": "stdout",
     "output_type": "stream",
     "text": [
      "      Abbreviation                                 Expansion  \\\n",
      "0               AB                                  abortion   \n",
      "1               AB                                  abortion   \n",
      "2               AB                                  abortion   \n",
      "3               AB                                  abortion   \n",
      "4               AB                                  abortion   \n",
      "...            ...                                       ...   \n",
      "37495          VAD  vincristine adriamycin and dexamethasone   \n",
      "37496          VAD  vincristine adriamycin and dexamethasone   \n",
      "37497          VAD  vincristine adriamycin and dexamethasone   \n",
      "37498          VAD  vincristine adriamycin and dexamethasone   \n",
      "37499          VAD  vincristine adriamycin and dexamethasone   \n",
      "\n",
      "                                                 context  label  \n",
      "0      _%#NAME#%_ _%#NAME#%_ is a 29-year-old gravida...    0.0  \n",
      "1      She is now bleeding quite heavily. Ultrasound ...    0.0  \n",
      "2      ALLERGIES: Heparin and Imitrex. PAST OB HISTOR...    0.0  \n",
      "3      She had a pelvic ultrasound at Park Nicollet o...    0.0  \n",
      "4      On _%#MMDD2007#%_, normal anatomy with anterio...    0.0  \n",
      "...                                                  ...    ...  \n",
      "37495  1. Multiple myeloma, undergoing chemotherapy. ...    NaN  \n",
      "37496  He has been receiving weekly Procrit injection...    NaN  \n",
      "37497  Within a month, he developed recurrent hip pai...    NaN  \n",
      "37498  He had a serum protein electrophoresis with a ...    NaN  \n",
      "37499  DISCHARGE DIAGNOSES: Multiple myeloma. PROCEDU...    NaN  \n",
      "\n",
      "[37500 rows x 4 columns]\n",
      "      Abbreviation                                 Expansion  \\\n",
      "0               AB                                  abortion   \n",
      "1               AB                                  abortion   \n",
      "2               AB                                  abortion   \n",
      "3               AB                                  abortion   \n",
      "4               AB                                  abortion   \n",
      "...            ...                                       ...   \n",
      "37495          VAD  vincristine adriamycin and dexamethasone   \n",
      "37496          VAD  vincristine adriamycin and dexamethasone   \n",
      "37497          VAD  vincristine adriamycin and dexamethasone   \n",
      "37498          VAD  vincristine adriamycin and dexamethasone   \n",
      "37499          VAD  vincristine adriamycin and dexamethasone   \n",
      "\n",
      "                                                 context  label  \n",
      "0      _%#NAME#%_ _%#NAME#%_ is a 29-year-old gravida...    0.0  \n",
      "1      She is now bleeding quite heavily. Ultrasound ...    0.0  \n",
      "2      ALLERGIES: Heparin and Imitrex. PAST OB HISTOR...    0.0  \n",
      "3      She had a pelvic ultrasound at Park Nicollet o...    0.0  \n",
      "4      On _%#MMDD2007#%_, normal anatomy with anterio...    0.0  \n",
      "...                                                  ...    ...  \n",
      "37495  1. Multiple myeloma, undergoing chemotherapy. ...    NaN  \n",
      "37496  He has been receiving weekly Procrit injection...    NaN  \n",
      "37497  Within a month, he developed recurrent hip pai...    NaN  \n",
      "37498  He had a serum protein electrophoresis with a ...    NaN  \n",
      "37499  DISCHARGE DIAGNOSES: Multiple myeloma. PROCEDU...    NaN  \n",
      "\n",
      "[37500 rows x 4 columns]\n"
     ]
    }
   ],
   "source": [
    "import pandas as pd\n",
    "\n",
    "# Unique expansions and corresponding labels for abbreviation 'AB'\n",
    "expansion_to_label = {\n",
    "    'abortion': 0,\n",
    "    'ankle-brachial': 1,\n",
    "    'blood group in ABO system': 2,\n",
    "    'type A, type B': 3,\n",
    "    'arteriovenous:AV': 4,\n",
    "    'X-ray finding': 5,\n",
    "    'MISTAKE:abduction': 6,\n",
    "    'antipyrine benzocaine': 7,\n",
    "    'atrioventricular:AV': 8,\n",
    "    'arterial blood': 9,\n",
    "    'UNSURED SENSE': 10,\n",
    "    'NAME': 11,\n",
    "}\n",
    "\n",
    "# Create a new column 'label' based on the 'Expansion' column, only for abbreviation 'AB'\n",
    "df['label'] = df[df['Abbreviation'] == 'AB']['Expansion'].map(expansion_to_label)\n",
    "\n",
    "# Display the resulting DataFrame\n",
    "print(df)\n",
    "import pandas as pd\n",
    "\n",
    "# Unique expansions and corresponding labels for abbreviation 'AB'\n",
    "expansion_to_label = {\n",
    "    'abortion': 0,\n",
    "    'ankle-brachial': 1,\n",
    "    'blood group in ABO system': 2,\n",
    "    'type A, type B': 3,\n",
    "    'arteriovenous:AV': 4,\n",
    "    'X-ray finding': 5,\n",
    "    'MISTAKE:abduction': 6,\n",
    "    'antipyrine benzocaine': 7,\n",
    "    'atrioventricular:AV': 8,\n",
    "    'arterial blood': 9,\n",
    "    'UNSURED SENSE': 10,\n",
    "    'NAME': 11,\n",
    "}\n",
    "\n",
    "# Create a new column 'label' based on the 'Expansion' column, only for abbreviation 'AB'\n",
    "df['label'] = df[df['Abbreviation'] == 'AB']['Expansion'].map(expansion_to_label)\n",
    "\n",
    "# Display the resulting DataFrame\n",
    "print(df)\n"
   ]
  },
  {
   "cell_type": "code",
   "execution_count": 12,
   "id": "85e64927",
   "metadata": {},
   "outputs": [],
   "source": [
    "from sklearn.model_selection import train_test_split"
   ]
  },
  {
   "cell_type": "code",
   "execution_count": 13,
   "id": "dc297fad",
   "metadata": {},
   "outputs": [],
   "source": [
    "# splitting the dataset into training and testing dataset\n",
    "X_train, X_test, y_train, y_test = train_test_split(data_pd['context'], data_pd['Abbreviation'], test_size=0.2, random_state=42)\n"
   ]
  },
  {
   "cell_type": "code",
   "execution_count": 14,
   "id": "ac8585e8",
   "metadata": {},
   "outputs": [],
   "source": [
    "X_train = X_train.fillna('')  # Replace NaN with an empty string\n",
    "X_test = X_test.fillna('')    # Replace NaN with an empty string"
   ]
  },
  {
   "cell_type": "code",
   "execution_count": 15,
   "id": "f45bb870",
   "metadata": {},
   "outputs": [],
   "source": [
    "from sklearn.feature_extraction.text import TfidfVectorizer\n",
    "\n",
    "# TF-IDF Vectorization\n",
    "tfidf_vectorizer = TfidfVectorizer()\n",
    "X_train_tfidf = tfidf_vectorizer.fit_transform(X_train)\n",
    "X_test_tfidf = tfidf_vectorizer.transform(X_test)\n"
   ]
  },
  {
   "cell_type": "code",
   "execution_count": 16,
   "id": "d58a7aa2",
   "metadata": {},
   "outputs": [],
   "source": [
    "from sklearn.ensemble import RandomForestClassifier\n",
    "\n",
    "# Random Forest Classifier\n",
    "model = RandomForestClassifier()"
   ]
  },
  {
   "cell_type": "code",
   "execution_count": 17,
   "id": "e04b827e",
   "metadata": {},
   "outputs": [],
   "source": [
    "y_train = y_train.fillna('')"
   ]
  },
  {
   "cell_type": "code",
   "execution_count": 18,
   "id": "90c0dfdf",
   "metadata": {},
   "outputs": [
    {
     "data": {
      "text/html": [
       "<style>#sk-container-id-1 {color: black;background-color: white;}#sk-container-id-1 pre{padding: 0;}#sk-container-id-1 div.sk-toggleable {background-color: white;}#sk-container-id-1 label.sk-toggleable__label {cursor: pointer;display: block;width: 100%;margin-bottom: 0;padding: 0.3em;box-sizing: border-box;text-align: center;}#sk-container-id-1 label.sk-toggleable__label-arrow:before {content: \"▸\";float: left;margin-right: 0.25em;color: #696969;}#sk-container-id-1 label.sk-toggleable__label-arrow:hover:before {color: black;}#sk-container-id-1 div.sk-estimator:hover label.sk-toggleable__label-arrow:before {color: black;}#sk-container-id-1 div.sk-toggleable__content {max-height: 0;max-width: 0;overflow: hidden;text-align: left;background-color: #f0f8ff;}#sk-container-id-1 div.sk-toggleable__content pre {margin: 0.2em;color: black;border-radius: 0.25em;background-color: #f0f8ff;}#sk-container-id-1 input.sk-toggleable__control:checked~div.sk-toggleable__content {max-height: 200px;max-width: 100%;overflow: auto;}#sk-container-id-1 input.sk-toggleable__control:checked~label.sk-toggleable__label-arrow:before {content: \"▾\";}#sk-container-id-1 div.sk-estimator input.sk-toggleable__control:checked~label.sk-toggleable__label {background-color: #d4ebff;}#sk-container-id-1 div.sk-label input.sk-toggleable__control:checked~label.sk-toggleable__label {background-color: #d4ebff;}#sk-container-id-1 input.sk-hidden--visually {border: 0;clip: rect(1px 1px 1px 1px);clip: rect(1px, 1px, 1px, 1px);height: 1px;margin: -1px;overflow: hidden;padding: 0;position: absolute;width: 1px;}#sk-container-id-1 div.sk-estimator {font-family: monospace;background-color: #f0f8ff;border: 1px dotted black;border-radius: 0.25em;box-sizing: border-box;margin-bottom: 0.5em;}#sk-container-id-1 div.sk-estimator:hover {background-color: #d4ebff;}#sk-container-id-1 div.sk-parallel-item::after {content: \"\";width: 100%;border-bottom: 1px solid gray;flex-grow: 1;}#sk-container-id-1 div.sk-label:hover label.sk-toggleable__label {background-color: #d4ebff;}#sk-container-id-1 div.sk-serial::before {content: \"\";position: absolute;border-left: 1px solid gray;box-sizing: border-box;top: 0;bottom: 0;left: 50%;z-index: 0;}#sk-container-id-1 div.sk-serial {display: flex;flex-direction: column;align-items: center;background-color: white;padding-right: 0.2em;padding-left: 0.2em;position: relative;}#sk-container-id-1 div.sk-item {position: relative;z-index: 1;}#sk-container-id-1 div.sk-parallel {display: flex;align-items: stretch;justify-content: center;background-color: white;position: relative;}#sk-container-id-1 div.sk-item::before, #sk-container-id-1 div.sk-parallel-item::before {content: \"\";position: absolute;border-left: 1px solid gray;box-sizing: border-box;top: 0;bottom: 0;left: 50%;z-index: -1;}#sk-container-id-1 div.sk-parallel-item {display: flex;flex-direction: column;z-index: 1;position: relative;background-color: white;}#sk-container-id-1 div.sk-parallel-item:first-child::after {align-self: flex-end;width: 50%;}#sk-container-id-1 div.sk-parallel-item:last-child::after {align-self: flex-start;width: 50%;}#sk-container-id-1 div.sk-parallel-item:only-child::after {width: 0;}#sk-container-id-1 div.sk-dashed-wrapped {border: 1px dashed gray;margin: 0 0.4em 0.5em 0.4em;box-sizing: border-box;padding-bottom: 0.4em;background-color: white;}#sk-container-id-1 div.sk-label label {font-family: monospace;font-weight: bold;display: inline-block;line-height: 1.2em;}#sk-container-id-1 div.sk-label-container {text-align: center;}#sk-container-id-1 div.sk-container {/* jupyter's `normalize.less` sets `[hidden] { display: none; }` but bootstrap.min.css set `[hidden] { display: none !important; }` so we also need the `!important` here to be able to override the default hidden behavior on the sphinx rendered scikit-learn.org. See: https://github.com/scikit-learn/scikit-learn/issues/21755 */display: inline-block !important;position: relative;}#sk-container-id-1 div.sk-text-repr-fallback {display: none;}</style><div id=\"sk-container-id-1\" class=\"sk-top-container\"><div class=\"sk-text-repr-fallback\"><pre>RandomForestClassifier()</pre><b>In a Jupyter environment, please rerun this cell to show the HTML representation or trust the notebook. <br />On GitHub, the HTML representation is unable to render, please try loading this page with nbviewer.org.</b></div><div class=\"sk-container\" hidden><div class=\"sk-item\"><div class=\"sk-estimator sk-toggleable\"><input class=\"sk-toggleable__control sk-hidden--visually\" id=\"sk-estimator-id-1\" type=\"checkbox\" checked><label for=\"sk-estimator-id-1\" class=\"sk-toggleable__label sk-toggleable__label-arrow\">RandomForestClassifier</label><div class=\"sk-toggleable__content\"><pre>RandomForestClassifier()</pre></div></div></div></div></div>"
      ],
      "text/plain": [
       "RandomForestClassifier()"
      ]
     },
     "execution_count": 18,
     "metadata": {},
     "output_type": "execute_result"
    }
   ],
   "source": [
    "# Train the model\n",
    "model.fit(X_train_tfidf, y_train)"
   ]
  },
  {
   "cell_type": "code",
   "execution_count": 19,
   "id": "d6b317bd",
   "metadata": {},
   "outputs": [],
   "source": [
    "y_test = y_test.fillna('')"
   ]
  },
  {
   "cell_type": "code",
   "execution_count": 20,
   "id": "d5ecb95c",
   "metadata": {
    "collapsed": true
   },
   "outputs": [
    {
     "name": "stdout",
     "output_type": "stream",
     "text": [
      "Accuracy: 0.936\n",
      "Classification Report:\n",
      "              precision    recall  f1-score   support\n",
      "\n",
      "                   1.00      0.99      0.99        98\n",
      "          AB       0.97      0.99      0.98        98\n",
      "          AC       0.96      0.96      0.96       118\n",
      "         ALD       0.99      0.98      0.98        98\n",
      "         AMA       0.97      1.00      0.99       102\n",
      "         ASA       0.94      0.96      0.95       104\n",
      "          AV       0.92      0.96      0.94       107\n",
      "         AVR       0.99      0.98      0.98        99\n",
      "         BAL       0.92      0.97      0.94        97\n",
      "          BK       0.98      0.98      0.98       101\n",
      "          BM       0.97      0.94      0.96       102\n",
      "         BMP       0.94      0.94      0.94        96\n",
      "         C&S       1.00      0.89      0.94       111\n",
      "          C3       0.71      0.57      0.63       104\n",
      "          C4       0.55      0.73      0.63        84\n",
      "          CA       0.97      0.94      0.95       113\n",
      "         CDI       1.00      0.97      0.99       120\n",
      "         CEA       0.92      0.97      0.94        86\n",
      "          CR       0.91      0.96      0.94       106\n",
      "         CTA       0.93      0.90      0.92        84\n",
      "         CVA       0.93      0.98      0.95        94\n",
      "         CVP       0.97      0.97      0.97       101\n",
      "         CVS       1.00      0.96      0.98        80\n",
      "          DC       0.95      0.90      0.93        92\n",
      "         DIP       0.94      0.96      0.95       114\n",
      "          DM       0.99      0.90      0.94       116\n",
      "          DT       1.00      0.97      0.98        89\n",
      "          EC       0.95      0.95      0.95        95\n",
      "          ER       0.91      0.90      0.91       103\n",
      "          ES       0.94      0.97      0.96       100\n",
      "          ET       0.95      0.96      0.95        98\n",
      "        FISH       0.93      0.99      0.96        92\n",
      "         FSH       0.99      0.98      0.99       104\n",
      "          GT       0.97      0.99      0.98        95\n",
      "          IA       0.99      0.99      0.99        99\n",
      "          IB       0.97      1.00      0.98        92\n",
      "          IM       0.92      0.93      0.93       100\n",
      "          IR       0.99      0.96      0.98       109\n",
      "          IT       0.96      0.79      0.87        92\n",
      "         ITP       0.95      0.99      0.97        96\n",
      "         IVF       0.98      0.95      0.97       109\n",
      "          LA       0.87      0.96      0.91        90\n",
      "          LE       0.90      0.96      0.93       103\n",
      "         MOM       1.00      0.92      0.96       105\n",
      "          MP       0.97      0.91      0.94        93\n",
      "          MR       0.92      0.95      0.93       102\n",
      "          MS       0.92      0.96      0.94        97\n",
      "        MSSA       0.88      0.99      0.93        85\n",
      "         NAD       0.88      0.98      0.93        94\n",
      "          NP       0.93      0.96      0.95       102\n",
      "          OP       0.93      0.90      0.92       103\n",
      "          OR       0.89      0.78      0.83        90\n",
      "         OTC       0.98      0.94      0.96       114\n",
      "          PA       0.94      0.94      0.94        87\n",
      "         PAC       0.96      0.95      0.96       104\n",
      "         PCP       0.94      0.97      0.96        99\n",
      "          PD       0.98      0.98      0.98        86\n",
      "         PDA       0.92      0.99      0.95        96\n",
      "          PE       0.96      0.98      0.97       111\n",
      "          PM       0.98      0.83      0.89       103\n",
      "          PR       0.93      0.88      0.91       104\n",
      "          PT       0.80      0.98      0.88        88\n",
      "          RA       0.95      0.96      0.95       112\n",
      "          RT       0.98      0.93      0.95       113\n",
      "          SA       0.98      0.95      0.96        83\n",
      "         SBP       1.00      0.98      0.99       103\n",
      "         SMA       1.00      0.97      0.99       103\n",
      "          SS       0.94      0.98      0.96       103\n",
      "          T1       0.83      0.89      0.86        97\n",
      "          T2       0.82      0.83      0.83       101\n",
      "          T3       0.83      0.78      0.80       107\n",
      "          T4       0.84      0.83      0.84       113\n",
      "          US       0.92      0.86      0.89       106\n",
      "         VAD       0.99      1.00      1.00       103\n",
      "         VBG       0.97      0.98      0.98       102\n",
      "\n",
      "    accuracy                           0.94      7500\n",
      "   macro avg       0.94      0.94      0.94      7500\n",
      "weighted avg       0.94      0.94      0.94      7500\n",
      "\n"
     ]
    }
   ],
   "source": [
    "from sklearn.metrics import accuracy_score, classification_report\n",
    "\n",
    "# Predictions\n",
    "predictions = model.predict(X_test_tfidf)\n",
    "\n",
    "# Evaluation\n",
    "accuracy = accuracy_score(y_test, predictions)\n",
    "report = classification_report(y_test, predictions)\n",
    "\n",
    "print(f\"Accuracy: {accuracy}\")\n",
    "print(f\"Classification Report:\\n{report}\")\n"
   ]
  },
  {
   "cell_type": "code",
   "execution_count": 29,
   "id": "69b9c5cf",
   "metadata": {},
   "outputs": [
    {
     "name": "stdout",
     "output_type": "stream",
     "text": [
      "Top 10 from classification report\n",
      "      precision  recall  f1-score  support\n",
      "1.00       0.99    0.99     98.00      NaN\n",
      "VAD        0.99    1.00      1.00    103.0\n",
      "CDI        1.00    0.97      0.99    120.0\n",
      "SMA        1.00    0.97      0.99    103.0\n",
      "AMA        0.97    1.00      0.99    102.0\n",
      "SBP        1.00    0.98      0.99    103.0\n",
      "IA         0.99    0.99      0.99     99.0\n",
      "FSH        0.99    0.98      0.99    104.0\n",
      "PD         0.98    0.98      0.98     86.0\n",
      "AB         0.97    0.99      0.98     98.0\n"
     ]
    }
   ],
   "source": [
    "def classification_report_to_dict(report_str):\n",
    "    report_list = report_str.split('\\n')[2:-5]  # Exclude headers and footer\n",
    "    report_data = [list(filter(None, x.split(' '))) for x in report_list]\n",
    "    classes = [x[0] for x in report_data]\n",
    "    metrics = [list(map(float, x[1:])) for x in report_data]\n",
    "    return {classes[i]: metrics[i] for i in range(len(classes))}\n",
    "\n",
    "report_dict = classification_report_to_dict(report)\n",
    "\n",
    "# Convert dictionary to DataFrame for easier sorting\n",
    "report_df = pd.DataFrame.from_dict(report_dict, orient='index', columns=['precision', 'recall', 'f1-score', 'support'])\n",
    "\n",
    "# Sort DataFrame by F1-score in descending order and take top 10\n",
    "top_10 = report_df.sort_values(by='f1-score', ascending=False).head(10)\n",
    "print(\"Top 10 from classification report\")\n",
    "print(top_10)"
   ]
  },
  {
   "cell_type": "code",
   "execution_count": 30,
   "id": "82d66113",
   "metadata": {},
   "outputs": [
    {
     "data": {
      "image/png": "[encoded data removed]",
      "text/plain": [
       "<Figure size 1000x600 with 1 Axes>"
      ]
     },
     "metadata": {},
     "output_type": "display_data"
    }
   ],
   "source": [
    "import matplotlib.pyplot as plt\n",
    "\n",
    "plt.figure(figsize=(10, 6))\n",
    "plt.bar(top_10.index, top_10['precision'], color='skyblue')\n",
    "plt.xlabel('Classes')\n",
    "plt.ylabel('Precision')\n",
    "plt.title('Top 10 Classes by Precision')\n",
    "plt.xticks(rotation=45, ha='right')\n",
    "plt.tight_layout()\n",
    "plt.show()\n"
   ]
  },
  {
   "cell_type": "code",
   "execution_count": 31,
   "id": "4583f594",
   "metadata": {},
   "outputs": [
    {
     "data": {
      "image/png": "[encoded data removed]",
      "text/plain": [
       "<Figure size 1000x600 with 1 Axes>"
      ]
     },
     "metadata": {},
     "output_type": "display_data"
    }
   ],
   "source": [
    "import matplotlib.pyplot as plt\n",
    "\n",
    "plt.figure(figsize=(10, 6))\n",
    "\n",
    "# Scatter plot for Precision\n",
    "plt.scatter(top_10.index, top_10['precision'], label='Precision', color='blue', marker='o')\n",
    "\n",
    "# Scatter plot for Recall\n",
    "plt.scatter(top_10.index, top_10['recall'], label='Recall', color='green', marker='s')\n",
    "\n",
    "# Scatter plot for F1-score\n",
    "plt.scatter(top_10.index, top_10['f1-score'], label='F1-score', color='red', marker='^')\n",
    "\n",
    "# Scatter plot for Support\n",
    "plt.scatter(top_10.index, top_10['support'], label='Support', color='orange', marker='d')\n",
    "\n",
    "plt.xlabel('Classes')\n",
    "plt.ylabel('Scores')\n",
    "plt.title('Top 10 Classes')\n",
    "plt.xticks(rotation=45, ha='right')\n",
    "plt.legend()\n",
    "plt.tight_layout()\n",
    "plt.show()\n"
   ]
  },
  {
   "cell_type": "code",
   "execution_count": 32,
   "id": "3fa08371",
   "metadata": {},
   "outputs": [
    {
     "data": {
      "image/png": "[encoded data removed]",
      "text/plain": [
       "<Figure size 1200x800 with 1 Axes>"
      ]
     },
     "metadata": {},
     "output_type": "display_data"
    }
   ],
   "source": [
    "import matplotlib.pyplot as plt\n",
    "\n",
    "plt.figure(figsize=(12, 8))\n",
    "\n",
    "# Scatter plot for Precision\n",
    "plt.scatter(report_df.index, report_df['precision'], label='Precision', color='blue', marker='o')\n",
    "\n",
    "# Scatter plot for Recall\n",
    "plt.scatter(report_df.index, report_df['recall'], label='Recall', color='green', marker='s')\n",
    "\n",
    "# Scatter plot for F1-score\n",
    "plt.scatter(report_df.index, report_df['f1-score'], label='F1-score', color='red', marker='^')\n",
    "\n",
    "# Scatter plot for Support\n",
    "plt.scatter(report_df.index, report_df['support'], label='Support', color='orange', marker='d')\n",
    "\n",
    "plt.xlabel('Classes')\n",
    "plt.ylabel('Scores')\n",
    "plt.title('All Classes')\n",
    "plt.xticks(rotation=90)\n",
    "plt.legend()\n",
    "plt.tight_layout()\n",
    "plt.show()\n"
   ]
  },
  {
   "cell_type": "code",
   "execution_count": 21,
   "id": "25718859",
   "metadata": {},
   "outputs": [],
   "source": [
    "import nltk\n",
    "from nltk.corpus import stopwords\n",
    "from nltk.stem import PorterStemmer\n",
    "from nltk.tokenize import word_tokenize"
   ]
  },
  {
   "cell_type": "code",
   "execution_count": 22,
   "id": "7f4199ce",
   "metadata": {},
   "outputs": [
    {
     "name": "stderr",
     "output_type": "stream",
     "text": [
      "[nltk_data] Downloading package stopwords to C:\\Users\\Pradeep\n",
      "[nltk_data]     Verma\\AppData\\Roaming\\nltk_data...\n",
      "[nltk_data]   Package stopwords is already up-to-date!\n",
      "[nltk_data] Downloading package punkt to C:\\Users\\Pradeep\n",
      "[nltk_data]     Verma\\AppData\\Roaming\\nltk_data...\n",
      "[nltk_data]   Package punkt is already up-to-date!\n"
     ]
    }
   ],
   "source": [
    "# Define the preprocess_text function\n",
    "nltk.download('stopwords')\n",
    "nltk.download('punkt')\n",
    "stop_words = set(stopwords.words('english'))\n",
    "ps = PorterStemmer()\n",
    "\n",
    "def preprocess_text(text):\n",
    "    # Tokenization\n",
    "    words = word_tokenize(text)\n",
    "    \n",
    "    # Removing stop words\n",
    "    words = [word.lower() for word in words if word.isalpha() and word.lower() not in stop_words]\n",
    "    \n",
    "    # Stemming\n",
    "    words = [ps.stem(word) for word in words]\n",
    "    \n",
    "    # Joining the words back into a string\n",
    "    processed_text = ' '.join(words)\n",
    "    \n",
    "    return processed_text"
   ]
  },
  {
   "cell_type": "code",
   "execution_count": 23,
   "id": "8f5992b0",
   "metadata": {},
   "outputs": [],
   "source": [
    "# Encode target variable\n",
    "from sklearn.preprocessing import LabelEncoder\n",
    "label_encoder = LabelEncoder()\n",
    "y_train_encoded = label_encoder.fit_transform(y_train)"
   ]
  },
  {
   "cell_type": "code",
   "execution_count": 25,
   "id": "1e3ce72d",
   "metadata": {},
   "outputs": [
    {
     "name": "stdout",
     "output_type": "stream",
     "text": [
      "Unique labels in training set: ['' 'AB' 'AC' 'ALD' 'AMA' 'ASA' 'AV' 'AVR' 'BAL' 'BK' 'BM' 'BMP' 'C&S'\n",
      " 'C3' 'C4' 'CA' 'CDI' 'CEA' 'CR' 'CTA' 'CVA' 'CVP' 'CVS' 'DC' 'DIP' 'DM'\n",
      " 'DT' 'EC' 'ER' 'ES' 'ET' 'FISH' 'FSH' 'GT' 'IA' 'IB' 'IM' 'IR' 'IT' 'ITP'\n",
      " 'IVF' 'LA' 'LE' 'MOM' 'MP' 'MR' 'MS' 'MSSA' 'NAD' 'NP' 'OP' 'OR' 'OTC'\n",
      " 'PA' 'PAC' 'PCP' 'PD' 'PDA' 'PE' 'PM' 'PR' 'PT' 'RA' 'RT' 'SA' 'SBP'\n",
      " 'SMA' 'SS' 'T1' 'T2' 'T3' 'T4' 'US' 'VAD' 'VBG']\n",
      "Unique labels predicted: {0, 1, 2, 3, 4, 5, 6, 7, 8, 9, 10, 11, 12, 13, 14, 15, 16, 17, 18, 19, 20, 21, 22, 23, 24, 25, 26, 27, 28, 29, 30, 31, 32, 33, 34, 35, 36, 37, 38, 39, 40, 41, 42, 43, 44, 45, 46, 47, 48, 49, 50, 51, 52, 53, 54, 55, 56, 57, 58, 59, 60, 61, 62, 63, 64, 65, 66, 67, 68, 69, 70, 71, 72, 73, 74}\n"
     ]
    }
   ],
   "source": [
    "print(\"Unique labels in training set:\", label_encoder.classes_)\n",
    "print(\"Unique labels predicted:\", set(y_train_encoded))"
   ]
  },
  {
   "cell_type": "code",
   "execution_count": null,
   "id": "74c7a5d6",
   "metadata": {},
   "outputs": [],
   "source": []
  }
 ],
 "metadata": {
  "kernelspec": {
   "display_name": "Python 3 (ipykernel)",
   "language": "python",
   "name": "python3"
  },
  "language_info": {
   "codemirror_mode": {
    "name": "ipython",
    "version": 3
   },
   "file_extension": ".py",
   "mimetype": "text/x-python",
   "name": "python",
   "nbconvert_exporter": "python",
   "pygments_lexer": "ipython3",
   "version": "3.10.9"
  }
 },
 "nbformat": 4,
 "nbformat_minor": 5
}
